{
 "cells": [
  {
   "cell_type": "code",
   "execution_count": 1,
   "metadata": {},
   "outputs": [],
   "source": [
    "import pandas as pd\n",
    "import numpy as np\n",
    "import seaborn as sns\n",
    "import matplotlib.pyplot as plt\n",
    "from nltk.corpus import stopwords\n",
    "from collections import Counter\n",
    "import nltk\n",
    "import re\n",
    "import string\n",
    "from string import punctuation\n",
    "from nltk import ngrams\n",
    "from nltk.tokenize import word_tokenize \n",
    "import html\n",
    "#!pip install TextBlob\n",
    "#!pip install imbalanced-learn\n",
    "from textblob import TextBlob\n",
    "from imblearn.over_sampling import SMOTE\n",
    "from imblearn.under_sampling import RandomUnderSampler\n",
    "from imblearn.pipeline import Pipeline"
   ]
  },
  {
   "cell_type": "code",
   "execution_count": 2,
   "metadata": {},
   "outputs": [],
   "source": [
    "test_df = pd.read_csv('drugsComTest_raw.tsv', sep = '\\t')\n",
    "train_df = pd.read_csv('drugsComTrain_raw.tsv', sep = '\\t')"
   ]
  },
  {
   "cell_type": "code",
   "execution_count": 3,
   "metadata": {},
   "outputs": [
    {
     "data": {
      "text/html": [
       "<div>\n",
       "<style scoped>\n",
       "    .dataframe tbody tr th:only-of-type {\n",
       "        vertical-align: middle;\n",
       "    }\n",
       "\n",
       "    .dataframe tbody tr th {\n",
       "        vertical-align: top;\n",
       "    }\n",
       "\n",
       "    .dataframe thead th {\n",
       "        text-align: right;\n",
       "    }\n",
       "</style>\n",
       "<table border=\"1\" class=\"dataframe\">\n",
       "  <thead>\n",
       "    <tr style=\"text-align: right;\">\n",
       "      <th></th>\n",
       "      <th>uniqueid</th>\n",
       "      <th>drugname</th>\n",
       "      <th>condition</th>\n",
       "      <th>review</th>\n",
       "      <th>rating</th>\n",
       "      <th>date</th>\n",
       "      <th>usefulcount</th>\n",
       "    </tr>\n",
       "  </thead>\n",
       "  <tbody>\n",
       "    <tr>\n",
       "      <th>0</th>\n",
       "      <td>163740</td>\n",
       "      <td>Mirtazapine</td>\n",
       "      <td>Depression</td>\n",
       "      <td>\"I&amp;#039;ve tried a few antidepressants over th...</td>\n",
       "      <td>10.0</td>\n",
       "      <td>February 28, 2012</td>\n",
       "      <td>22</td>\n",
       "    </tr>\n",
       "    <tr>\n",
       "      <th>1</th>\n",
       "      <td>206473</td>\n",
       "      <td>Mesalamine</td>\n",
       "      <td>Crohn's Disease, Maintenance</td>\n",
       "      <td>\"My son has Crohn&amp;#039;s disease and has done ...</td>\n",
       "      <td>8.0</td>\n",
       "      <td>May 17, 2009</td>\n",
       "      <td>17</td>\n",
       "    </tr>\n",
       "    <tr>\n",
       "      <th>2</th>\n",
       "      <td>159672</td>\n",
       "      <td>Bactrim</td>\n",
       "      <td>Urinary Tract Infection</td>\n",
       "      <td>\"Quick reduction of symptoms\"</td>\n",
       "      <td>9.0</td>\n",
       "      <td>September 29, 2017</td>\n",
       "      <td>3</td>\n",
       "    </tr>\n",
       "    <tr>\n",
       "      <th>3</th>\n",
       "      <td>39293</td>\n",
       "      <td>Contrave</td>\n",
       "      <td>Weight Loss</td>\n",
       "      <td>\"Contrave combines drugs that were used for al...</td>\n",
       "      <td>9.0</td>\n",
       "      <td>March 5, 2017</td>\n",
       "      <td>35</td>\n",
       "    </tr>\n",
       "    <tr>\n",
       "      <th>4</th>\n",
       "      <td>97768</td>\n",
       "      <td>Cyclafem 1 / 35</td>\n",
       "      <td>Birth Control</td>\n",
       "      <td>\"I have been on this birth control for one cyc...</td>\n",
       "      <td>9.0</td>\n",
       "      <td>October 22, 2015</td>\n",
       "      <td>4</td>\n",
       "    </tr>\n",
       "  </tbody>\n",
       "</table>\n",
       "</div>"
      ],
      "text/plain": [
       "   uniqueid         drugname                     condition  \\\n",
       "0    163740      Mirtazapine                    Depression   \n",
       "1    206473       Mesalamine  Crohn's Disease, Maintenance   \n",
       "2    159672          Bactrim       Urinary Tract Infection   \n",
       "3     39293         Contrave                   Weight Loss   \n",
       "4     97768  Cyclafem 1 / 35                 Birth Control   \n",
       "\n",
       "                                              review  rating  \\\n",
       "0  \"I&#039;ve tried a few antidepressants over th...    10.0   \n",
       "1  \"My son has Crohn&#039;s disease and has done ...     8.0   \n",
       "2                      \"Quick reduction of symptoms\"     9.0   \n",
       "3  \"Contrave combines drugs that were used for al...     9.0   \n",
       "4  \"I have been on this birth control for one cyc...     9.0   \n",
       "\n",
       "                 date  usefulcount  \n",
       "0   February 28, 2012           22  \n",
       "1        May 17, 2009           17  \n",
       "2  September 29, 2017            3  \n",
       "3       March 5, 2017           35  \n",
       "4    October 22, 2015            4  "
      ]
     },
     "execution_count": 3,
     "metadata": {},
     "output_type": "execute_result"
    }
   ],
   "source": [
    "#Merging the two datasets \n",
    "frames = [test_df, train_df]\n",
    "df = pd.concat(frames)\n",
    "\n",
    "\n",
    "df.rename(columns={'Unnamed: 0':'uniqueid'}, inplace=True )\n",
    "df.columns = df.columns.str.lower()\n",
    "\n",
    "df.head(5)"
   ]
  },
  {
   "cell_type": "markdown",
   "metadata": {},
   "source": [
    "# Data Description "
   ]
  },
  {
   "cell_type": "code",
   "execution_count": 4,
   "metadata": {},
   "outputs": [
    {
     "name": "stdout",
     "output_type": "stream",
     "text": [
      "<class 'pandas.core.frame.DataFrame'>\n",
      "Int64Index: 215063 entries, 0 to 161296\n",
      "Data columns (total 7 columns):\n",
      " #   Column       Non-Null Count   Dtype  \n",
      "---  ------       --------------   -----  \n",
      " 0   uniqueid     215063 non-null  int64  \n",
      " 1   drugname     215063 non-null  object \n",
      " 2   condition    213869 non-null  object \n",
      " 3   review       215063 non-null  object \n",
      " 4   rating       215063 non-null  float64\n",
      " 5   date         215063 non-null  object \n",
      " 6   usefulcount  215063 non-null  int64  \n",
      "dtypes: float64(1), int64(2), object(4)\n",
      "memory usage: 13.1+ MB\n"
     ]
    }
   ],
   "source": [
    "df.info()"
   ]
  },
  {
   "cell_type": "code",
   "execution_count": 5,
   "metadata": {},
   "outputs": [
    {
     "data": {
      "text/plain": [
       "uniqueid         int64\n",
       "drugname        object\n",
       "condition       object\n",
       "review          object\n",
       "rating         float64\n",
       "date            object\n",
       "usefulcount      int64\n",
       "dtype: object"
      ]
     },
     "execution_count": 5,
     "metadata": {},
     "output_type": "execute_result"
    }
   ],
   "source": [
    "df.dtypes"
   ]
  },
  {
   "cell_type": "code",
   "execution_count": 6,
   "metadata": {},
   "outputs": [
    {
     "data": {
      "text/plain": [
       "(215063, 7)"
      ]
     },
     "execution_count": 6,
     "metadata": {},
     "output_type": "execute_result"
    }
   ],
   "source": [
    "df.shape"
   ]
  },
  {
   "cell_type": "code",
   "execution_count": 7,
   "metadata": {},
   "outputs": [
    {
     "data": {
      "text/html": [
       "<div>\n",
       "<style scoped>\n",
       "    .dataframe tbody tr th:only-of-type {\n",
       "        vertical-align: middle;\n",
       "    }\n",
       "\n",
       "    .dataframe tbody tr th {\n",
       "        vertical-align: top;\n",
       "    }\n",
       "\n",
       "    .dataframe thead th {\n",
       "        text-align: right;\n",
       "    }\n",
       "</style>\n",
       "<table border=\"1\" class=\"dataframe\">\n",
       "  <thead>\n",
       "    <tr style=\"text-align: right;\">\n",
       "      <th></th>\n",
       "      <th>uniqueid</th>\n",
       "      <th>rating</th>\n",
       "      <th>usefulcount</th>\n",
       "    </tr>\n",
       "  </thead>\n",
       "  <tbody>\n",
       "    <tr>\n",
       "      <th>count</th>\n",
       "      <td>215063.000000</td>\n",
       "      <td>215063.000000</td>\n",
       "      <td>215063.000000</td>\n",
       "    </tr>\n",
       "    <tr>\n",
       "      <th>mean</th>\n",
       "      <td>116039.364814</td>\n",
       "      <td>6.990008</td>\n",
       "      <td>28.001004</td>\n",
       "    </tr>\n",
       "    <tr>\n",
       "      <th>std</th>\n",
       "      <td>67007.913366</td>\n",
       "      <td>3.275554</td>\n",
       "      <td>36.346069</td>\n",
       "    </tr>\n",
       "    <tr>\n",
       "      <th>min</th>\n",
       "      <td>0.000000</td>\n",
       "      <td>1.000000</td>\n",
       "      <td>0.000000</td>\n",
       "    </tr>\n",
       "    <tr>\n",
       "      <th>25%</th>\n",
       "      <td>58115.500000</td>\n",
       "      <td>5.000000</td>\n",
       "      <td>6.000000</td>\n",
       "    </tr>\n",
       "    <tr>\n",
       "      <th>50%</th>\n",
       "      <td>115867.000000</td>\n",
       "      <td>8.000000</td>\n",
       "      <td>16.000000</td>\n",
       "    </tr>\n",
       "    <tr>\n",
       "      <th>75%</th>\n",
       "      <td>173963.500000</td>\n",
       "      <td>10.000000</td>\n",
       "      <td>36.000000</td>\n",
       "    </tr>\n",
       "    <tr>\n",
       "      <th>max</th>\n",
       "      <td>232291.000000</td>\n",
       "      <td>10.000000</td>\n",
       "      <td>1291.000000</td>\n",
       "    </tr>\n",
       "  </tbody>\n",
       "</table>\n",
       "</div>"
      ],
      "text/plain": [
       "            uniqueid         rating    usefulcount\n",
       "count  215063.000000  215063.000000  215063.000000\n",
       "mean   116039.364814       6.990008      28.001004\n",
       "std     67007.913366       3.275554      36.346069\n",
       "min         0.000000       1.000000       0.000000\n",
       "25%     58115.500000       5.000000       6.000000\n",
       "50%    115867.000000       8.000000      16.000000\n",
       "75%    173963.500000      10.000000      36.000000\n",
       "max    232291.000000      10.000000    1291.000000"
      ]
     },
     "execution_count": 7,
     "metadata": {},
     "output_type": "execute_result"
    }
   ],
   "source": [
    "df.describe()"
   ]
  },
  {
   "cell_type": "markdown",
   "metadata": {},
   "source": [
    "# Data Cleaning"
   ]
  },
  {
   "cell_type": "code",
   "execution_count": 8,
   "metadata": {},
   "outputs": [
    {
     "name": "stdout",
     "output_type": "stream",
     "text": [
      "Missing Data Table\n"
     ]
    },
    {
     "data": {
      "text/plain": [
       "uniqueid          0\n",
       "drugname          0\n",
       "condition      1194\n",
       "review            0\n",
       "rating            0\n",
       "date              0\n",
       "usefulcount       0\n",
       "dtype: int64"
      ]
     },
     "execution_count": 8,
     "metadata": {},
     "output_type": "execute_result"
    }
   ],
   "source": [
    "#Searching for NA values \n",
    "print(\"Missing Data Table\")\n",
    "df.isnull().sum()"
   ]
  },
  {
   "cell_type": "code",
   "execution_count": 9,
   "metadata": {},
   "outputs": [
    {
     "name": "stdout",
     "output_type": "stream",
     "text": [
      "Percentage of NA values in conditions: 0.5551861547546533%\n"
     ]
    }
   ],
   "source": [
    "size = df.shape[0]\n",
    "condition_na = df['condition'].isnull().sum()\n",
    "\n",
    "print(f'Percentage of NA values in conditions: {condition_na/size*100}%')"
   ]
  },
  {
   "cell_type": "code",
   "execution_count": 10,
   "metadata": {},
   "outputs": [
    {
     "name": "stdout",
     "output_type": "stream",
     "text": [
      "Missing Value Table\n",
      "uniqueid       0\n",
      "drugname       0\n",
      "condition      0\n",
      "review         0\n",
      "rating         0\n",
      "date           0\n",
      "usefulcount    0\n",
      "dtype: int64\n",
      "\n",
      "New Data Shape: (213869, 7)\n"
     ]
    }
   ],
   "source": [
    "df = df.dropna()\n",
    "print(\"Missing Value Table\")\n",
    "print(df.isnull().sum())\n",
    "print()\n",
    "print('New Data Shape:', df.shape)"
   ]
  },
  {
   "cell_type": "code",
   "execution_count": 11,
   "metadata": {},
   "outputs": [
    {
     "data": {
      "text/html": [
       "<div>\n",
       "<style scoped>\n",
       "    .dataframe tbody tr th:only-of-type {\n",
       "        vertical-align: middle;\n",
       "    }\n",
       "\n",
       "    .dataframe tbody tr th {\n",
       "        vertical-align: top;\n",
       "    }\n",
       "\n",
       "    .dataframe thead th {\n",
       "        text-align: right;\n",
       "    }\n",
       "</style>\n",
       "<table border=\"1\" class=\"dataframe\">\n",
       "  <thead>\n",
       "    <tr style=\"text-align: right;\">\n",
       "      <th></th>\n",
       "      <th>uniqueid</th>\n",
       "      <th>drugname</th>\n",
       "      <th>condition</th>\n",
       "      <th>review</th>\n",
       "      <th>rating</th>\n",
       "      <th>date</th>\n",
       "      <th>usefulcount</th>\n",
       "    </tr>\n",
       "  </thead>\n",
       "  <tbody>\n",
       "    <tr>\n",
       "      <th>0</th>\n",
       "      <td>0</td>\n",
       "      <td>Medroxyprogesterone</td>\n",
       "      <td>Abnormal Uterine Bleeding</td>\n",
       "      <td>\"Been on the depo injection since January 2015...</td>\n",
       "      <td>3.0</td>\n",
       "      <td>October 28, 2015</td>\n",
       "      <td>4</td>\n",
       "    </tr>\n",
       "    <tr>\n",
       "      <th>1</th>\n",
       "      <td>2</td>\n",
       "      <td>Medroxyprogesterone</td>\n",
       "      <td>Amenorrhea</td>\n",
       "      <td>\"I&amp;#039;m 21 years old and recently found out ...</td>\n",
       "      <td>10.0</td>\n",
       "      <td>October 27, 2015</td>\n",
       "      <td>11</td>\n",
       "    </tr>\n",
       "    <tr>\n",
       "      <th>2</th>\n",
       "      <td>3</td>\n",
       "      <td>Medroxyprogesterone</td>\n",
       "      <td>Abnormal Uterine Bleeding</td>\n",
       "      <td>\"I have been on the shot 11 years and until a ...</td>\n",
       "      <td>8.0</td>\n",
       "      <td>October 27, 2015</td>\n",
       "      <td>7</td>\n",
       "    </tr>\n",
       "    <tr>\n",
       "      <th>3</th>\n",
       "      <td>4</td>\n",
       "      <td>Medroxyprogesterone</td>\n",
       "      <td>Birth Control</td>\n",
       "      <td>\"Ive had four shots at this point. I was on bi...</td>\n",
       "      <td>9.0</td>\n",
       "      <td>October 26, 2015</td>\n",
       "      <td>12</td>\n",
       "    </tr>\n",
       "    <tr>\n",
       "      <th>4</th>\n",
       "      <td>5</td>\n",
       "      <td>Medroxyprogesterone</td>\n",
       "      <td>Abnormal Uterine Bleeding</td>\n",
       "      <td>\"I had a total of 3 shots. I got my first one ...</td>\n",
       "      <td>1.0</td>\n",
       "      <td>October 25, 2015</td>\n",
       "      <td>4</td>\n",
       "    </tr>\n",
       "    <tr>\n",
       "      <th>5</th>\n",
       "      <td>6</td>\n",
       "      <td>Medroxyprogesterone</td>\n",
       "      <td>Birth Control</td>\n",
       "      <td>\"This is a horrible shot!! I got my first shot...</td>\n",
       "      <td>1.0</td>\n",
       "      <td>October 24, 2015</td>\n",
       "      <td>3</td>\n",
       "    </tr>\n",
       "    <tr>\n",
       "      <th>6</th>\n",
       "      <td>7</td>\n",
       "      <td>Medroxyprogesterone</td>\n",
       "      <td>Abnormal Uterine Bleeding</td>\n",
       "      <td>\"I&amp;#039;m 18 and got this for heavy bleeding. ...</td>\n",
       "      <td>5.0</td>\n",
       "      <td>October 22, 2015</td>\n",
       "      <td>6</td>\n",
       "    </tr>\n",
       "    <tr>\n",
       "      <th>7</th>\n",
       "      <td>8</td>\n",
       "      <td>Medroxyprogesterone</td>\n",
       "      <td>Abnormal Uterine Bleeding</td>\n",
       "      <td>\"Im 19 and have been having heavy and painful ...</td>\n",
       "      <td>5.0</td>\n",
       "      <td>October 21, 2015</td>\n",
       "      <td>2</td>\n",
       "    </tr>\n",
       "    <tr>\n",
       "      <th>8</th>\n",
       "      <td>9</td>\n",
       "      <td>Medroxyprogesterone</td>\n",
       "      <td>Abnormal Uterine Bleeding</td>\n",
       "      <td>\"I&amp;#039;m a 30 year old woman. I got the shot ...</td>\n",
       "      <td>2.0</td>\n",
       "      <td>October 21, 2015</td>\n",
       "      <td>5</td>\n",
       "    </tr>\n",
       "    <tr>\n",
       "      <th>9</th>\n",
       "      <td>10</td>\n",
       "      <td>Medroxyprogesterone</td>\n",
       "      <td>Abnormal Uterine Bleeding</td>\n",
       "      <td>\"I&amp;#039;m 17 years old and I got shot in Augus...</td>\n",
       "      <td>7.0</td>\n",
       "      <td>October 20, 2015</td>\n",
       "      <td>2</td>\n",
       "    </tr>\n",
       "  </tbody>\n",
       "</table>\n",
       "</div>"
      ],
      "text/plain": [
       "   uniqueid             drugname                  condition  \\\n",
       "0         0  Medroxyprogesterone  Abnormal Uterine Bleeding   \n",
       "1         2  Medroxyprogesterone                 Amenorrhea   \n",
       "2         3  Medroxyprogesterone  Abnormal Uterine Bleeding   \n",
       "3         4  Medroxyprogesterone              Birth Control   \n",
       "4         5  Medroxyprogesterone  Abnormal Uterine Bleeding   \n",
       "5         6  Medroxyprogesterone              Birth Control   \n",
       "6         7  Medroxyprogesterone  Abnormal Uterine Bleeding   \n",
       "7         8  Medroxyprogesterone  Abnormal Uterine Bleeding   \n",
       "8         9  Medroxyprogesterone  Abnormal Uterine Bleeding   \n",
       "9        10  Medroxyprogesterone  Abnormal Uterine Bleeding   \n",
       "\n",
       "                                              review  rating  \\\n",
       "0  \"Been on the depo injection since January 2015...     3.0   \n",
       "1  \"I&#039;m 21 years old and recently found out ...    10.0   \n",
       "2  \"I have been on the shot 11 years and until a ...     8.0   \n",
       "3  \"Ive had four shots at this point. I was on bi...     9.0   \n",
       "4  \"I had a total of 3 shots. I got my first one ...     1.0   \n",
       "5  \"This is a horrible shot!! I got my first shot...     1.0   \n",
       "6  \"I&#039;m 18 and got this for heavy bleeding. ...     5.0   \n",
       "7  \"Im 19 and have been having heavy and painful ...     5.0   \n",
       "8  \"I&#039;m a 30 year old woman. I got the shot ...     2.0   \n",
       "9  \"I&#039;m 17 years old and I got shot in Augus...     7.0   \n",
       "\n",
       "               date  usefulcount  \n",
       "0  October 28, 2015            4  \n",
       "1  October 27, 2015           11  \n",
       "2  October 27, 2015            7  \n",
       "3  October 26, 2015           12  \n",
       "4  October 25, 2015            4  \n",
       "5  October 24, 2015            3  \n",
       "6  October 22, 2015            6  \n",
       "7  October 21, 2015            2  \n",
       "8  October 21, 2015            5  \n",
       "9  October 20, 2015            2  "
      ]
     },
     "execution_count": 11,
     "metadata": {},
     "output_type": "execute_result"
    }
   ],
   "source": [
    "df.sort_values(['uniqueid'], ascending = True, inplace = True)\n",
    "df.reset_index(drop = True, inplace = True)\n",
    "df.head(10)"
   ]
  },
  {
   "cell_type": "code",
   "execution_count": 12,
   "metadata": {},
   "outputs": [
    {
     "data": {
      "text/plain": [
       "0"
      ]
     },
     "execution_count": 12,
     "metadata": {},
     "output_type": "execute_result"
    }
   ],
   "source": [
    "df.duplicated().sum()"
   ]
  },
  {
   "cell_type": "code",
   "execution_count": 13,
   "metadata": {},
   "outputs": [
    {
     "data": {
      "text/html": [
       "<div>\n",
       "<style scoped>\n",
       "    .dataframe tbody tr th:only-of-type {\n",
       "        vertical-align: middle;\n",
       "    }\n",
       "\n",
       "    .dataframe tbody tr th {\n",
       "        vertical-align: top;\n",
       "    }\n",
       "\n",
       "    .dataframe thead th {\n",
       "        text-align: right;\n",
       "    }\n",
       "</style>\n",
       "<table border=\"1\" class=\"dataframe\">\n",
       "  <thead>\n",
       "    <tr style=\"text-align: right;\">\n",
       "      <th></th>\n",
       "      <th>uniqueid</th>\n",
       "      <th>rating</th>\n",
       "      <th>usefulcount</th>\n",
       "    </tr>\n",
       "  </thead>\n",
       "  <tbody>\n",
       "    <tr>\n",
       "      <th>count</th>\n",
       "      <td>213869.000000</td>\n",
       "      <td>213869.000000</td>\n",
       "      <td>213869.000000</td>\n",
       "    </tr>\n",
       "    <tr>\n",
       "      <th>mean</th>\n",
       "      <td>116076.924786</td>\n",
       "      <td>6.991149</td>\n",
       "      <td>28.094118</td>\n",
       "    </tr>\n",
       "    <tr>\n",
       "      <th>std</th>\n",
       "      <td>67016.705794</td>\n",
       "      <td>3.275792</td>\n",
       "      <td>36.401377</td>\n",
       "    </tr>\n",
       "    <tr>\n",
       "      <th>min</th>\n",
       "      <td>0.000000</td>\n",
       "      <td>1.000000</td>\n",
       "      <td>0.000000</td>\n",
       "    </tr>\n",
       "    <tr>\n",
       "      <th>25%</th>\n",
       "      <td>58122.000000</td>\n",
       "      <td>5.000000</td>\n",
       "      <td>6.000000</td>\n",
       "    </tr>\n",
       "    <tr>\n",
       "      <th>50%</th>\n",
       "      <td>115972.000000</td>\n",
       "      <td>8.000000</td>\n",
       "      <td>16.000000</td>\n",
       "    </tr>\n",
       "    <tr>\n",
       "      <th>75%</th>\n",
       "      <td>174018.000000</td>\n",
       "      <td>10.000000</td>\n",
       "      <td>36.000000</td>\n",
       "    </tr>\n",
       "    <tr>\n",
       "      <th>max</th>\n",
       "      <td>232291.000000</td>\n",
       "      <td>10.000000</td>\n",
       "      <td>1291.000000</td>\n",
       "    </tr>\n",
       "  </tbody>\n",
       "</table>\n",
       "</div>"
      ],
      "text/plain": [
       "            uniqueid         rating    usefulcount\n",
       "count  213869.000000  213869.000000  213869.000000\n",
       "mean   116076.924786       6.991149      28.094118\n",
       "std     67016.705794       3.275792      36.401377\n",
       "min         0.000000       1.000000       0.000000\n",
       "25%     58122.000000       5.000000       6.000000\n",
       "50%    115972.000000       8.000000      16.000000\n",
       "75%    174018.000000      10.000000      36.000000\n",
       "max    232291.000000      10.000000    1291.000000"
      ]
     },
     "execution_count": 13,
     "metadata": {},
     "output_type": "execute_result"
    }
   ],
   "source": [
    "df.describe()"
   ]
  },
  {
   "cell_type": "code",
   "execution_count": 14,
   "metadata": {},
   "outputs": [
    {
     "data": {
      "text/plain": [
       "array(['0</span> users found this comment helpful.',\n",
       "       '100</span> users found this comment helpful.',\n",
       "       '105</span> users found this comment helpful.',\n",
       "       '10</span> users found this comment helpful.',\n",
       "       '110</span> users found this comment helpful.',\n",
       "       '11</span> users found this comment helpful.',\n",
       "       '121</span> users found this comment helpful.',\n",
       "       '123</span> users found this comment helpful.',\n",
       "       '12</span> users found this comment helpful.',\n",
       "       '135</span> users found this comment helpful.',\n",
       "       '13</span> users found this comment helpful.',\n",
       "       '142</span> users found this comment helpful.',\n",
       "       '145</span> users found this comment helpful.',\n",
       "       '146</span> users found this comment helpful.',\n",
       "       '14</span> users found this comment helpful.',\n",
       "       '15</span> users found this comment helpful.',\n",
       "       '16</span> users found this comment helpful.',\n",
       "       '17</span> users found this comment helpful.',\n",
       "       '18</span> users found this comment helpful.',\n",
       "       '19</span> users found this comment helpful.',\n",
       "       '1</span> users found this comment helpful.',\n",
       "       '20</span> users found this comment helpful.',\n",
       "       '21</span> users found this comment helpful.',\n",
       "       '22</span> users found this comment helpful.',\n",
       "       '23</span> users found this comment helpful.',\n",
       "       '24</span> users found this comment helpful.',\n",
       "       '25</span> users found this comment helpful.',\n",
       "       '26</span> users found this comment helpful.',\n",
       "       '27</span> users found this comment helpful.',\n",
       "       '28</span> users found this comment helpful.',\n",
       "       '29</span> users found this comment helpful.',\n",
       "       '2</span> users found this comment helpful.',\n",
       "       '30</span> users found this comment helpful.',\n",
       "       '31</span> users found this comment helpful.',\n",
       "       '32</span> users found this comment helpful.',\n",
       "       '33</span> users found this comment helpful.',\n",
       "       '34</span> users found this comment helpful.',\n",
       "       '35</span> users found this comment helpful.',\n",
       "       '36</span> users found this comment helpful.',\n",
       "       '37</span> users found this comment helpful.',\n",
       "       '38</span> users found this comment helpful.',\n",
       "       '39</span> users found this comment helpful.',\n",
       "       '3</span> users found this comment helpful.',\n",
       "       '40</span> users found this comment helpful.',\n",
       "       '41</span> users found this comment helpful.',\n",
       "       '42</span> users found this comment helpful.',\n",
       "       '43</span> users found this comment helpful.',\n",
       "       '44</span> users found this comment helpful.',\n",
       "       '45</span> users found this comment helpful.',\n",
       "       '46</span> users found this comment helpful.',\n",
       "       '47</span> users found this comment helpful.',\n",
       "       '48</span> users found this comment helpful.',\n",
       "       '4</span> users found this comment helpful.',\n",
       "       '51</span> users found this comment helpful.',\n",
       "       '54</span> users found this comment helpful.',\n",
       "       '55</span> users found this comment helpful.',\n",
       "       '5</span> users found this comment helpful.',\n",
       "       '61</span> users found this comment helpful.',\n",
       "       '62</span> users found this comment helpful.',\n",
       "       '63</span> users found this comment helpful.',\n",
       "       '64</span> users found this comment helpful.',\n",
       "       '6</span> users found this comment helpful.',\n",
       "       '70</span> users found this comment helpful.',\n",
       "       '72</span> users found this comment helpful.',\n",
       "       '74</span> users found this comment helpful.',\n",
       "       '75</span> users found this comment helpful.',\n",
       "       '76</span> users found this comment helpful.',\n",
       "       '77</span> users found this comment helpful.',\n",
       "       '79</span> users found this comment helpful.',\n",
       "       '7</span> users found this comment helpful.',\n",
       "       '83</span> users found this comment helpful.',\n",
       "       '84</span> users found this comment helpful.',\n",
       "       '85</span> users found this comment helpful.',\n",
       "       '8</span> users found this comment helpful.',\n",
       "       '92</span> users found this comment helpful.',\n",
       "       '94</span> users found this comment helpful.',\n",
       "       '95</span> users found this comment helpful.',\n",
       "       '98</span> users found this comment helpful.',\n",
       "       '99</span> users found this comment helpful.',\n",
       "       '9</span> users found this comment helpful.', 'ADHD',\n",
       "       'AIDS Related Wasting', 'AV Heart Block', 'Abdominal Distension',\n",
       "       'Abnormal Uterine Bleeding', 'Abortion', 'Acetaminophen Overdose',\n",
       "       'Acne', 'Actinic Keratosis', 'Acute Coronary Syndrome',\n",
       "       'Acute Lymphoblastic Leukemia', 'Acute Nonlymphocytic Leukemia',\n",
       "       'Acute Otitis Externa', 'Acute Promyelocytic Leukemia',\n",
       "       \"Addison's Disease\", 'Adrenocortical Insufficiency',\n",
       "       'Adult Human Growth Hormone Deficiency', 'Aggressive Behavi',\n",
       "       'Agitated State', 'Agitation', 'Alcohol Dependence',\n",
       "       'Alcohol Withdrawal', 'Allergic Reactions', 'Allergic Rhinitis',\n",
       "       'Allergic Urticaria', 'Allergies', 'Alopecia',\n",
       "       'Alpha-1 Proteinase Inhibitor Deficiency', \"Alzheimer's Disease\",\n",
       "       'Amebiasis', 'Amenorrhea', 'Amyotrophic Lateral Sclerosis',\n",
       "       'Anal Fissure and Fistula', 'Anal Itching', 'Anaphylaxis',\n",
       "       'Anaplastic Astrocytoma', 'Anaplastic Oligodendroglioma',\n",
       "       'Androgenetic Alopecia', 'Anemia',\n",
       "       'Anemia Associated with Chronic Renal Failure',\n",
       "       'Anemia, Chemotherapy Induced', 'Anemia, Sickle Cell',\n",
       "       'Anesthesia', 'Anesthetic Adjunct', 'Angina',\n",
       "       'Angina Pectoris Prophylaxis', 'Angioedema',\n",
       "       'Ankylosing Spondylitis', 'Anorexia', 'Anorexia/Feeding Problems',\n",
       "       'Anthrax', 'Anti NMDA Receptor Encephalitis',\n",
       "       'Antiphospholipid Syndrome', 'Anxiety', 'Anxiety and Stress',\n",
       "       'Aphthous Ulce', 'Aplastic Anemia', 'Arrhythmia', 'Ascariasis',\n",
       "       'Asperger Syndrome', 'Aspergillosis, Aspergilloma',\n",
       "       'Aspiration Pneumonia', 'Asthma', 'Asthma, Maintenance',\n",
       "       'Asthma, acute', 'Asystole', 'Atherosclerosis',\n",
       "       'Atopic Dermatitis', 'Atrial Fibrillation', 'Atrial Flutte',\n",
       "       'Atrophic Urethritis', 'Atrophic Vaginitis',\n",
       "       'Auditory Processing Disorde', 'Autism',\n",
       "       'Autoimmune Hemolytic Anemia', 'Autoimmune Hepatitis',\n",
       "       'Avian Influenza', 'B12 Nutritional Deficiency', 'Babesiosis',\n",
       "       'Back Pain', 'Bacteremia', 'Bacterial Endocarditis Prevention',\n",
       "       'Bacterial Infection', 'Bacterial Skin Infection',\n",
       "       'Bacterial Vaginitis', \"Barrett's Esophagus\", 'Bartonellosis',\n",
       "       'Basal Cell Carcinoma', \"Behcet's Disease\",\n",
       "       'Benign Essential Trem', 'Benign Prostatic Hyperplasia',\n",
       "       'Benzodiazepine Withdrawal', 'Biliary Cirrhosis',\n",
       "       'Binge Eating Disorde', 'Bipolar Disorde', 'Birth Control',\n",
       "       'Bladder Infection', 'Bleeding Disorde', 'Blepharitis',\n",
       "       'Body Dysmorphic Disorde', 'Body Imaging', 'Bone infection',\n",
       "       'Borderline Personality Disorde', 'Bowel Preparation', 'Brain Tum',\n",
       "       'Breakthrough Pain', 'Breast Cance', 'Breast Cancer, Adjuvant',\n",
       "       'Breast Cancer, Metastatic', 'Breast Cancer, Palliative',\n",
       "       'Breast Cancer, Prevention', 'Bronchiectasis', 'Bronchitis',\n",
       "       'Bronchospasm Prophylaxis', 'Bulimia', 'Bullous Pemphigoid',\n",
       "       'Burning Mouth Syndrome', 'Burns, External', 'Bursitis',\n",
       "       'CMV Prophylaxis', 'CNS Magnetic Resonance Imaging', 'COPD',\n",
       "       'COPD, Acute', 'COPD, Maintenance', 'Cachexia',\n",
       "       'Campylobacter Gastroenteritis', 'Cance',\n",
       "       'Candida Urinary Tract Infection', 'Candidemia', 'Carcinoid Tum',\n",
       "       'Cardiovascular Risk Reduction', 'Cataplexy', 'Cerebral Edema',\n",
       "       'Cerebral Spasticity', 'Cerebrovascular Insufficiency',\n",
       "       'Cervical Dystonia', 'Chlamydia Infection', 'Cholera',\n",
       "       'Chronic Eosinophilic Leukemia', 'Chronic Fatigue Syndrome',\n",
       "       'Chronic Idiopathic Constipation',\n",
       "       'Chronic Inflammatory Demyelinating Polyradiculoneuropathy',\n",
       "       'Chronic Lymphocytic Leukemia', 'Chronic Myelogenous Leukemia',\n",
       "       'Chronic Myofascial Pain', 'Chronic Pain', 'Chronic Pancreatitis',\n",
       "       'Chronic Spasticity', 'Clostridial Infection', 'Cluster Headaches',\n",
       "       'Cluster-Tic Syndrome', 'Coccidioidomycosis', \"Cogan's Syndrome\",\n",
       "       'Cold Sores', 'Cold Symptoms', 'Colorectal Cance',\n",
       "       'Computed Tomography', 'Condylomata Acuminata', 'Conjunctivitis',\n",
       "       'Conjunctivitis, Allergic', 'Conjunctivitis, Bacterial',\n",
       "       'Constipation', 'Constipation, Acute', 'Constipation, Chronic',\n",
       "       'Constipation, Drug Induced', 'Corneal Refractive Surgery',\n",
       "       'Corneal Ulce', 'Coronary Artery Disease', 'Costochondritis',\n",
       "       'Cough', 'Cough and Nasal Congestion', \"Crohn's Disease\",\n",
       "       \"Crohn's Disease, Acute\", \"Crohn's Disease, Maintenance\", 'Croup',\n",
       "       'Cutaneous Candidiasis', 'Cutaneous Larva Migrans',\n",
       "       'Cutaneous T-cell Lymphoma', 'Cyclic Vomiting Syndrome',\n",
       "       'Cyclitis', 'Cyclothymic Disorde', 'Cystic Fibrosis', 'Dandruff',\n",
       "       'Deep Neck Infection', 'Deep Vein Thrombosis',\n",
       "       'Deep Vein Thrombosis Prophylaxis after Hip Replacement Surgery',\n",
       "       'Deep Vein Thrombosis Prophylaxis after Knee Replacement Surgery',\n",
       "       'Deep Vein Thrombosis, First Event',\n",
       "       'Deep Vein Thrombosis, Prophylaxis',\n",
       "       'Deep Vein Thrombosis, Recurrent Event', 'Delayed Puberty, Male',\n",
       "       'Dementia', 'Dental Abscess', 'Depression', \"Dercum's Disease\",\n",
       "       'Dermatitis', 'Dermatitis Herpeti', 'Dermatitis Herpetiformis',\n",
       "       'Dermatologic Lesion', 'Dermatological Disorders',\n",
       "       'Dermatomyositis', 'Dermatophytosis', 'Diabetes Insipidus',\n",
       "       'Diabetes, Type 1', 'Diabetes, Type 2', 'Diabetic Kidney Disease',\n",
       "       'Diabetic Macular Edema', 'Diabetic Peripheral Neuropathy',\n",
       "       'Diagnosis and Investigation', 'Diagnostic Bronchograms',\n",
       "       'Diaper Rash', 'Diarrhea', 'Diarrhea, Acute', 'Diarrhea, Chronic',\n",
       "       'Dientamoeba fragilis', 'Dietary Fiber Supplementation',\n",
       "       'Dietary Supplementation', 'Dissociative Identity Disorde',\n",
       "       'Diverticulitis', 'Dry Eye Disease', 'Dry Skin',\n",
       "       'Dumping Syndrome', 'Duodenal Ulce', 'Duodenal Ulcer Prophylaxis',\n",
       "       \"Dupuytren's contracture\", 'Dysautonomia', 'Dyspareunia',\n",
       "       'Dystonia', 'Dysuria', 'Ear Wax Impaction', 'Ectopic Pregnancy',\n",
       "       'Eczema', 'Edema', 'Ehrlichiosis', 'Emergency Contraception',\n",
       "       'Endometrial Cance', 'Endometrial Hyperplasia',\n",
       "       'Endometrial Hyperplasia, Prophylaxis', 'Endometriosis',\n",
       "       'Endoscopy or Radiology Premedication', 'Enterocolitis',\n",
       "       'Eosinophilic Esophagitis', 'Epicondylitis, Tennis Elbow',\n",
       "       'Epididymitis, Sexually Transmitted', 'Epilepsy',\n",
       "       'Erectile Dysfunction', 'Erosive Esophagitis',\n",
       "       'Esophageal Candidiasis', 'Esophageal Spasm',\n",
       "       'Esophageal Variceal Hemorrhage Prophylaxis',\n",
       "       'Euvolemic Hyponatremia', 'Expectoration',\n",
       "       'Extrapyramidal Reaction', 'Eye Redness', 'Eye Redness/Itching',\n",
       "       'Eyelash Hypotrichosis', 'GERD', 'Gallbladder Disease', 'Gas',\n",
       "       'Gastric Cance', 'Gastric Ulcer Maintenance Treatment',\n",
       "       'Gastritis/Duodenitis', 'Gastroenteritis',\n",
       "       'Gastrointestinal Decontamination', 'Gastrointestinal Hemorrhage',\n",
       "       'Gastrointestinal Stromal Tum', 'Gastroparesis', 'Gaucher Disease',\n",
       "       'Gender Dysphoria', 'Generalized Anxiety Disorde',\n",
       "       'Gestational Diabetes', 'Giant Cell Tumor of Bone', 'Giardiasis',\n",
       "       'Gingivitis', 'Glaucoma', 'Glaucoma, Open Angle',\n",
       "       'Glaucoma/Intraocular Hypertension', 'Glioblastoma Multi',\n",
       "       'Glioblastoma Multiforme', 'Gonadotropin Inhibition',\n",
       "       'Gonococcal Infection, Disseminated',\n",
       "       'Gonococcal Infection, Uncomplicated', 'Gout', 'Gout, Acute',\n",
       "       'Gout, Prophylaxis', 'Gouty Arthritis', 'Granuloma Annulare',\n",
       "       'HIV Infection', 'Hairy Cell Leukemia', \"Hashimoto's disease\",\n",
       "       'Head Injury', 'Head Lice', 'Head and Neck Cance', 'Headache',\n",
       "       'Heart Attack', 'Heart Failure', 'Helicobacter Pylori Infection',\n",
       "       'Hemangioma', 'Hemophilia A', 'Hemophilia B', 'Hemorrhoids',\n",
       "       'Hemorrhoids (pramoxine / zinc oxide)', 'Hepatic Encephalopathy',\n",
       "       'Hepatic Tum', 'Hepatitis B', 'Hepatitis B Prevention',\n",
       "       'Hepatitis C', 'Hepatocellular Carcinoma',\n",
       "       'Herbal Supplementation', 'Hereditary Angioedema',\n",
       "       'Herpes Simplex', 'Herpes Simplex Dendritic Keratitis',\n",
       "       'Herpes Simplex, Mucocutaneous/Immunocompetent Host',\n",
       "       'Herpes Simplex, Mucocutaneous/Immunocompromised Host',\n",
       "       'Herpes Simplex, Suppression', 'Herpes Zoste',\n",
       "       'Herpes Zoster, Prophylaxis', 'Hiccups',\n",
       "       'Hidradenitis Suppurativa', 'High Blood Pressure',\n",
       "       'High Cholesterol', 'High Cholesterol, Familial Heterozygous',\n",
       "       'High Cholesterol, Familial Homozygous', 'Hirsutism',\n",
       "       'Histoplasmosis', \"Hodgkin's Lymphoma\", 'Hot Flashes',\n",
       "       'Human Papilloma Virus', 'Human Papillomavirus Prophylaxis',\n",
       "       'Hydrocephalus', 'Hyperbilirubinemia', 'Hypercalcemia',\n",
       "       'Hypercalcemia of Malignancy', 'Hyperekplexia', 'Hyperhidrosis',\n",
       "       'Hyperkalemia', 'Hyperlipoproteinemia',\n",
       "       'Hyperlipoproteinemia Type III, Elevated beta-VLDL   IDL',\n",
       "       'Hyperlipoproteinemia Type IIa, Elevated LDL',\n",
       "       'Hyperlipoproteinemia Type IV, Elevated VLDL',\n",
       "       'Hyperparathyroidism Secondary to Renal Impairment',\n",
       "       'Hyperphosphatemia', 'Hyperphosphatemia of Renal Failure',\n",
       "       'Hyperprolactinemia', 'Hypersomnia', 'Hypertensive Emergency',\n",
       "       'Hyperthyroidism', 'Hypertriglyceridemia',\n",
       "       'Hyperuricemia Secondary to Chemotherapy',\n",
       "       'Hypoactive Sexual Desire Disorde', 'Hypocalcemia',\n",
       "       'Hypodermoclysis', 'Hypoestrogenism', 'Hypoglycemia',\n",
       "       'Hypogonadism, Male', 'Hypokalemia',\n",
       "       'Hypokalemic Periodic Paralysis', 'Hypomagnesemia',\n",
       "       'Hypoparathyroidism', 'Hypopituitarism', 'Hypotension',\n",
       "       'Hypothyroidism, After Thyroid Removal', 'ICU Agitation',\n",
       "       'Ichthyosis', 'Idiopathic Thrombocytopenic Purpura',\n",
       "       'Immunosuppression', 'Impetig', 'Indigestion',\n",
       "       'Infection Prophylaxis', 'Infectious Diarrhea',\n",
       "       'Inflammatory Bowel Disease', 'Inflammatory Conditions',\n",
       "       'Influenza', 'Influenza Prophylaxis', 'Insomnia',\n",
       "       'Insomnia, Stimulant-Associated', 'Insulin Resistance Syndrome',\n",
       "       'Intermittent Claudication', 'Intermittent Explosive Disorde',\n",
       "       'Interstitial Cystitis', 'Intraabdominal Infection',\n",
       "       'Intraocular Hypertension', 'Iritis', 'Iron Deficiency Anemia',\n",
       "       'Irritable Bowel Syndrome', 'Ischemic Stroke',\n",
       "       'Ischemic Stroke, Prophylaxis', 'Jet Lag', 'Joint Infection',\n",
       "       'Juvenile Idiopathic Arthritis', 'Juvenile Rheumatoid Arthritis',\n",
       "       'Keratitis', 'Keratoconjunctivitis Sicca', 'Keratosis',\n",
       "       'Kidney Infections', 'Klinefelter Syndrome', 'Labor Induction',\n",
       "       'Labor Pain', 'Lactation Augmentation', 'Lactose Intolerance',\n",
       "       'Left Ventricular Dysfunction', 'Legionella Pneumonia',\n",
       "       'Lennox-Gastaut Syndrome', 'Leukemia',\n",
       "       'Leukocytoclastic Vasculitis', 'Lewy Body Dementia',\n",
       "       'Lichen Planus', 'Lichen Sclerosus', 'Light Anesthesia',\n",
       "       'Light Sedation', 'Linear IgA Disease', 'Lipodystrophy',\n",
       "       'Liver Magnetic Resonance Imaging', 'Local Anesthesia',\n",
       "       'Lyme Disease', 'Lyme Disease, Arthritis',\n",
       "       'Lyme Disease, Erythema Chronicum Migrans',\n",
       "       'Lyme Disease, Neurologic', 'Lymphocytic Colitis', 'Lymphoma',\n",
       "       'Macular Degeneration', 'Macular Edema',\n",
       "       'Major Depressive Disorde', 'Malaria', 'Malaria Prevention',\n",
       "       'Malignant Glioma', 'Mania', 'Manscaping Pain',\n",
       "       'Mantle Cell Lymphoma', 'Melanoma', 'Melanoma, Metastatic',\n",
       "       'Melasma', \"Meniere's Disease\", 'Meningitis',\n",
       "       'Meningitis, Meningococcal',\n",
       "       'Meningococcal Meningitis Prophylaxis', 'Menopausal Disorders',\n",
       "       'Menorrhagia', 'Menstrual Disorders',\n",
       "       'Methicillin-Resistant Staphylococcus Aureus Infection',\n",
       "       'Microscopic polyangiitis', 'Migraine', 'Migraine Prevention',\n",
       "       'Mild Cognitive Impairment', 'Mitral Valve Prolapse',\n",
       "       'Mixed Connective Tissue Disease', 'Mononucleosis',\n",
       "       'Motion Sickness', 'Mountain Sickness / Altitude Sickness',\n",
       "       'Mucositis', 'Multiple Endocrine Adenomas', 'Multiple Myeloma',\n",
       "       'Multiple Sclerosis', 'Mumps Prophylaxis', 'Muscle Pain',\n",
       "       'Muscle Spasm', 'Muscle Twitching', 'Myasthenia Gravis',\n",
       "       'Mycobacterium avium-intracellulare, Treatment',\n",
       "       'Mycoplasma Pneumonia', 'Myelodysplastic Syndrome',\n",
       "       'Myelofibrosis', 'Myeloproliferative Disorders',\n",
       "       'Myotonia Congenita', 'Myxedema Coma',\n",
       "       'NSAID-Induced Gastric Ulce', 'NSAID-Induced Ulcer Prophylaxis',\n",
       "       'Narcolepsy', 'Nasal Carriage of Staphylococcus aureus',\n",
       "       'Nasal Congestion', 'Nasal Polyps',\n",
       "       'Nausea (phosphorated carbohydrate solution)', 'Nausea/Vomiting',\n",
       "       'Nausea/Vomiting of Pregnancy',\n",
       "       'Nausea/Vomiting, Chemotherapy Induced',\n",
       "       'Nausea/Vomiting, Postoperative',\n",
       "       'Nausea/Vomiting, Radiation Induced', 'Neck Pain',\n",
       "       'Neoplastic Diseases', 'Nephrocalcinosis', 'Nephrotic Syndrome',\n",
       "       'Neuralgia', 'Neuritis', 'Neuropathic Pain', 'Neurosis',\n",
       "       'Neurosurgery', 'Neurotic Depression', 'Neutropenia',\n",
       "       'Neutropenia Associated with Chemotherapy',\n",
       "       'New Daily Persistent Headache', 'Niacin Deficiency',\n",
       "       'Night Terrors', 'Nightmares', 'Nocardiosis',\n",
       "       'Nocturnal Leg Cramps', \"Non-Hodgkin's Lymphoma\",\n",
       "       'Non-Small Cell Lung Cance', 'Nonalcoholic Fatty Liver Disease',\n",
       "       'Noninfectious Colitis', 'Nonoccupational Exposure',\n",
       "       'Not Listed / Othe', 'Obesity', 'Obsessive Compulsive Disorde',\n",
       "       'Obstructive Sleep Apnea/Hypopnea Syndrome', 'Occipital Neuralgia',\n",
       "       'Occupational Exposure', 'Ocular Rosacea', 'Oligospermia',\n",
       "       'Onychomycosis, Fingernail', 'Onychomycosis, Toenail',\n",
       "       'Oophorectomy', 'Ophthalmic Surgery', 'Opiate Adjunct',\n",
       "       'Opiate Dependence', 'Opiate Withdrawal', 'Opioid Overdose',\n",
       "       'Opioid-Induced Constipation', 'Oppositional Defiant Disorde',\n",
       "       'Oral Thrush', 'Oral and Dental Conditions',\n",
       "       'Organ Transplant, Rejection Prophylaxis',\n",
       "       'Organ Transplant, Rejection Reversal', 'Osteoarthritis',\n",
       "       'Osteolytic Bone Lesions of Multiple Myeloma',\n",
       "       'Osteolytic Bone Metastases of Solid Tumors', 'Osteoporosis',\n",
       "       'Otitis Externa', 'Otitis Media', 'Ovarian Cance', 'Ovarian Cysts',\n",
       "       'Overactive Bladde', 'Ovulation Induction', \"Paget's Disease\",\n",
       "       'Pain', 'Pain/Feve', 'Pancreatic Cance',\n",
       "       'Pancreatic Exocrine Dysfunction', 'Panic Disorde',\n",
       "       'Paragonimus westermani, Lung Fluke', 'Paranoid Disorde',\n",
       "       \"Parkinson's Disease\", 'Parkinsonian Trem', 'Parkinsonism',\n",
       "       'Paroxysmal Supraventricular Tachycardia',\n",
       "       'Patent Ductus Arteriosus',\n",
       "       'Pathological Hypersecretory Conditions', 'Pe',\n",
       "       'Pediatric Growth Hormone Deficiency',\n",
       "       'Pelvic Inflammatory Disease', 'Pemphigoid', 'Pemphigus',\n",
       "       'Peptic Ulce', 'Percutaneous Coronary Intervention',\n",
       "       'Performance Anxiety', 'Perimenopausal Symptoms', 'Period Pain',\n",
       "       'Periodic Limb Movement Disorde', 'Periodontitis',\n",
       "       'Perioral Dermatitis', 'Peripheral Arterial Disease',\n",
       "       'Peripheral Neuropathy', 'Peripheral T-cell Lymphoma',\n",
       "       'Peritonitis', 'Persistent Depressive Disorde', 'Pertussis',\n",
       "       'Pertussis Prophylaxis', \"Peyronie's Disease\", 'Pharyngitis',\n",
       "       'Photoaging of the Skin',\n",
       "       'Pinworm Infection (Enterobius vermicularis)',\n",
       "       'Pityriasis rubra pilaris', 'Plaque Psoriasis',\n",
       "       'Platelet Aggregation Inhibition',\n",
       "       'Pneumococcal Disease Prophylaxis', 'Pneumonia',\n",
       "       'Polycystic Ovary Syndrome', 'Polycythemia Vera',\n",
       "       'Polymyositis/Dermatomyositis', 'Porphyria', 'Portal Hypertension',\n",
       "       'Post Traumatic Stress Disorde', 'Post-Cholecystectomy Diarrhea',\n",
       "       'Postherpetic Neuralgia', 'Postmenopausal Symptoms',\n",
       "       'Postoperative Increased Intraocular Pressure',\n",
       "       'Postoperative Ocular Inflammation', 'Postoperative Pain',\n",
       "       'Postpartum Breast Pain', 'Postpartum Depression',\n",
       "       'Postural Orthostatic Tachycardia Syndrome',\n",
       "       'Pre-Exposure Prophylaxis', 'Precocious Puberty',\n",
       "       'Premature Ejaculation', 'Premature Lab',\n",
       "       'Premature Ventricular Depolarizations',\n",
       "       'Premenstrual Dysphoric Disorde', 'Premenstrual Syndrome',\n",
       "       'Prevention of Atherothrombotic Events',\n",
       "       'Prevention of Bladder infection',\n",
       "       'Prevention of Cardiovascular Disease',\n",
       "       'Prevention of Dental Caries', 'Prevention of Hypokalemia',\n",
       "       'Prevention of Osteoporosis',\n",
       "       'Prevention of Perinatal Group B Streptococcal Disease',\n",
       "       'Prevention of Thromboembolism in Atrial Fibrillation',\n",
       "       'Primary Hyperaldosteronism',\n",
       "       'Primary Hyperaldosteronism Diagnosis',\n",
       "       'Primary Immunodeficiency Syndrome', 'Primary Nocturnal Enuresis',\n",
       "       'Primary Ovarian Failure', 'Progesterone Insufficiency',\n",
       "       'Prostate Cance', 'Prostatitis',\n",
       "       'Prosthetic Heart Valves, Mechanical Valves - Thrombosis Prophylaxis',\n",
       "       'Prosthetic Heart Valves, Tissue Valves - Thrombosis Prophylaxis',\n",
       "       'Pruritus', 'Pruritus of Partial Biliary Obstruction',\n",
       "       'Pseudobulbar Affect', 'Pseudogout, Prophylaxis',\n",
       "       'Pseudomembranous Colitis', 'Pseudotumor Cerebri', 'Psoriasis',\n",
       "       'Psoriatic Arthritis', 'Psychosis', 'Pudendal Neuralgia',\n",
       "       'Pulmonary Edema', 'Pulmonary Embolism',\n",
       "       'Pulmonary Embolism, First Event',\n",
       "       'Pulmonary Embolism, Recurrent Event', 'Pulmonary Hypertension',\n",
       "       'Pupillary Dilation', 'Q Feve', 'Rabies Prophylaxis',\n",
       "       'Radionuclide Myocardial Perfusion Study', 'Ramsay Hunt Syndrome',\n",
       "       'Rat-bite Feve', \"Raynaud's Syndrome\",\n",
       "       'Reflex Sympathetic Dystrophy Syndrome', \"Reiter's Syndrome\",\n",
       "       'Rejection Prophylaxis', 'Renal Cell Carcinoma',\n",
       "       'Renal Transplant', 'Renal Tubular Acidosis',\n",
       "       'Restless Legs Syndrome',\n",
       "       'Reversal of Nondepolarizing Muscle Relaxants',\n",
       "       'Reversal of Opioid Sedation', 'Rheumatoid Arthritis', 'Rhinitis',\n",
       "       'Rhinorrhea', 'Rosacea', 'SIADH', 'STD Prophylaxis',\n",
       "       'Salivary Gland Cance', 'Salmonella Gastroenteritis',\n",
       "       'Sarcoidosis', 'Scabies', 'Schilling Test',\n",
       "       'Schistosoma japonicum', 'Schizoaffective Disorde',\n",
       "       'Schizophrenia', 'Schnitzler Syndrome', 'Sciatica', 'Scleroderma',\n",
       "       'Seasonal Affective Disorde', 'Seasonal Allergic Conjunctivitis',\n",
       "       'Seborrheic Dermatitis',\n",
       "       'Secondary Cutaneous Bacterial Infections',\n",
       "       'Secondary Hyperparathyroidism', 'Sedation', 'Seizure Prevention',\n",
       "       'Seizures', 'Sepsis', 'Severe Mood Dysregulation',\n",
       "       'Sexual Dysfunction, SSRI Induced', 'Shift Work Sleep Disorde',\n",
       "       'Short Stature', 'Short Stature for Age', 'Sinus Symptoms',\n",
       "       'Sinusitis', \"Sjogren's Syndrome\", 'Skin Cance',\n",
       "       'Skin Disinfection, Preoperative', 'Skin Rash',\n",
       "       'Skin and Structure Infection', 'Skin or Soft Tissue Infection',\n",
       "       'Sleep Paralysis', 'Small Bowel Bacterial Overgrowth',\n",
       "       'Small Bowel or Pancreatic Fistula', 'Small Fiber Neuropathy',\n",
       "       'Smoking Cessation', 'Social Anxiety Disorde',\n",
       "       'Soft Tissue Sarcoma', 'Solid Tumors', 'Somat',\n",
       "       'Somatoform Pain Disorde', 'Sore Throat', 'Spondyloarthritis',\n",
       "       'Spondylolisthesis', 'Sporotrichosis', 'Squamous Cell Carcinoma',\n",
       "       'Status Epilepticus', 'Steroid Responsive Inflammatory Conditions',\n",
       "       \"Still's Disease\", 'Stomach Cance', 'Stomach Ulce', 'Strabismus',\n",
       "       'Strep Throat', 'Streptococcal Infection',\n",
       "       'Stress Ulcer Prophylaxis', 'Strongyloidiasis',\n",
       "       'Subarachnoid Hemorrhage', 'Submental Fullness', 'Sunburn',\n",
       "       'Supraventricular Tachycardia', 'Surgical Prophylaxis',\n",
       "       'Swine Flu', 'Syringomyelia', 'Systemic Candidiasis',\n",
       "       'Systemic Lupus Erythematosus', 'Systemic Mastocytosis',\n",
       "       'Systemic Sclerosis', 'TSH Suppression', 'Tardive Dyskinesia',\n",
       "       'Temporomandibular Joint Disorde', 'Tendonitis',\n",
       "       'Testicular Cance', 'Tetanus', 'Thrombocythemia',\n",
       "       'Thrombocytopenia', 'Thromboembolic Stroke Prophylaxis',\n",
       "       'Thyroid Cance', 'Thyroid Suppression Test', 'Thyrotoxicosis',\n",
       "       'Tic Disorde', 'Tinea Barbae', 'Tinea Capitis', 'Tinea Corporis',\n",
       "       'Tinea Cruris', 'Tinea Pedis', 'Tinea Versicol', 'Tinnitus',\n",
       "       'Tonsillitis/Pharyngitis', 'Toothache', 'Topical Disinfection',\n",
       "       \"Tourette's Syndrome\", 'Transient Ischemic Attack',\n",
       "       'Transverse Myelitis', \"Traveler's Diarrhea\", 'Trichomoniasis',\n",
       "       'Trichotillomania', 'Trigeminal Neuralgia', 'Tuberculosis, Active',\n",
       "       'Tuberculosis, Latent', 'Tuberculosis, Prophylaxis',\n",
       "       \"Turner's Syndrome\", 'Tympanostomy Tube Placement Surgery',\n",
       "       'Typhoid Feve', 'Ulcerative Colitis', 'Ulcerative Colitis, Active',\n",
       "       'Ulcerative Colitis, Maintenance', 'Ulcerative Proctitis',\n",
       "       'Underactive Thyroid',\n",
       "       'Undifferentiated Connective Tissue Disease',\n",
       "       'Upper Limb Spasticity', 'Upper Respiratory Tract Infection',\n",
       "       'Urinary Incontinence', 'Urinary Retention',\n",
       "       'Urinary Tract Infection', 'Urinary Tract Stones', 'Urticaria',\n",
       "       'Uterine Bleeding', 'Uterine Fibroids', 'Uveitis',\n",
       "       'Uveitis, Posteri', 'Vaginal Yeast Infection', 'Varicella-Zoste',\n",
       "       'Varicose Veins', 'Ventricular Arrhythmia',\n",
       "       'Ventricular Fibrillation', 'Ventricular Tachycardia', 'Vertig',\n",
       "       'Vitamin B12 Deficiency', 'Vitamin D Deficiency',\n",
       "       'Vitamin K Deficiency',\n",
       "       'Vitamin/Mineral Supplementation and Deficiency',\n",
       "       'Vitamin/Mineral Supplementation during Pregnancy/Lactation',\n",
       "       'Vulvodynia', 'Warts', \"Wegener's Granulomatosis\", 'Weight Loss',\n",
       "       \"Wilson's Disease\", 'Wolff-Parkinson-White Syndrome',\n",
       "       'Women (minoxidil)', 'Women (oxybutynin)', 'Wound Cleansing',\n",
       "       'Xerostomia', 'Yellow Fever Prophylaxis',\n",
       "       'Zollinger-Ellison Syndrome', 'acial Lipoatrophy',\n",
       "       'acial Wrinkles', 'actor IX Deficiency', 'ailure to Thrive',\n",
       "       'amilial Cold Autoinflammatory Syndrome',\n",
       "       'amilial Mediterranean Feve', 'atigue',\n",
       "       'cal Segmental Glomerulosclerosis', 'emale Infertility', 'eve',\n",
       "       'ge (amlodipine / valsartan)',\n",
       "       'ge HCT (amlodipine / hydrochlorothiazide / valsartan)',\n",
       "       'ibrocystic Breast Disease', 'ibromyalgia', 'lic Acid Deficiency',\n",
       "       'llicle Stimulation', 'llicular Lymphoma', 'm Pain Disorde',\n",
       "       'mance Anxiety', 'me', 'min / pioglitazone)',\n",
       "       'min / rosiglitazone)', 'min / saxagliptin)', 'min / sitagliptin)',\n",
       "       'min)', 'mis', 'mist (', 'moterol / mometasone)', 'moterol)',\n",
       "       'mulation) (phenylephrine)', 't Care',\n",
       "       't Pac with Cyclobenzaprine (cyclobenzaprine)',\n",
       "       'tic (mycophenolic acid)', 'unctional Gastric Disorde',\n",
       "       'ungal Infection Prophylaxis', 'ungal Pneumonia',\n",
       "       \"von Willebrand's Disease\", 'zen Shoulde'], dtype=object)"
      ]
     },
     "execution_count": 14,
     "metadata": {},
     "output_type": "execute_result"
    }
   ],
   "source": [
    "#Conditions contains incorrect values\n",
    "unique_conditions = df['condition'].unique()\n",
    "unique_conditions.sort()\n",
    "unique_conditions"
   ]
  },
  {
   "cell_type": "code",
   "execution_count": 15,
   "metadata": {},
   "outputs": [],
   "source": [
    "#There is incorrect conditions that contain 'users found this comment helpful.' and does not contain a condition \n",
    "df.loc[df['condition'].str.contains('users found this comment helpful.'), 'condition'] = None"
   ]
  },
  {
   "cell_type": "code",
   "execution_count": 16,
   "metadata": {},
   "outputs": [
    {
     "name": "stdout",
     "output_type": "stream",
     "text": [
      "Incorrect Html Tagged Conditions Table\n",
      "uniqueid          0\n",
      "drugname          0\n",
      "condition      1171\n",
      "review            0\n",
      "rating            0\n",
      "date              0\n",
      "usefulcount       0\n",
      "dtype: int64\n"
     ]
    }
   ],
   "source": [
    "print(\"Incorrect Html Tagged Conditions Table\")\n",
    "print(df.isnull().sum())"
   ]
  },
  {
   "cell_type": "code",
   "execution_count": 17,
   "metadata": {},
   "outputs": [
    {
     "name": "stdout",
     "output_type": "stream",
     "text": [
      "Percentage of Corrupted values in conditions: 0.5475314327929715%\n"
     ]
    }
   ],
   "source": [
    "size = df.shape[0]\n",
    "condition_na = df['condition'].isnull().sum()\n",
    "\n",
    "print(f'Percentage of Corrupted values in conditions: {condition_na/size*100}%')"
   ]
  },
  {
   "cell_type": "code",
   "execution_count": 18,
   "metadata": {},
   "outputs": [
    {
     "name": "stdout",
     "output_type": "stream",
     "text": [
      "Missing Value Table\n",
      "uniqueid       0\n",
      "drugname       0\n",
      "condition      0\n",
      "review         0\n",
      "rating         0\n",
      "date           0\n",
      "usefulcount    0\n",
      "dtype: int64\n",
      "\n",
      "New Data Shape: (212698, 7)\n"
     ]
    }
   ],
   "source": [
    "df = df.dropna()\n",
    "print(\"Missing Value Table\")\n",
    "print(df.isnull().sum())\n",
    "print()\n",
    "print('New Data Shape:', df.shape)"
   ]
  },
  {
   "cell_type": "code",
   "execution_count": 19,
   "metadata": {},
   "outputs": [],
   "source": [
    "df['date'] = pd.to_datetime(df['date'], errors='coerce')"
   ]
  },
  {
   "cell_type": "markdown",
   "metadata": {},
   "source": [
    "# Preprocessing Reviews"
   ]
  },
  {
   "cell_type": "code",
   "execution_count": 20,
   "metadata": {},
   "outputs": [],
   "source": [
    "def review_clean(review): \n",
    "    lower = review.str.lower()\n",
    "    pat_rem = lower.str.replace(\"&#039;\", \"\")\n",
    "    spec_rem = pat_rem.str.replace(r'[^\\w\\d\\s]',' ')\n",
    "    ascii_rem = spec_rem.str.replace(r'[^\\x00-\\x7F]+',' ')\n",
    "    space_rem = ascii_rem.str.replace(r'^\\s+|\\s+?$','')\n",
    "    multiw_remove = space_rem.str.replace(r'\\s+',' ')\n",
    "    df = multiw_remove.str.replace(r'\\.{2,}', ' ')\n",
    "    \n",
    "    return df"
   ]
  },
  {
   "cell_type": "code",
   "execution_count": 21,
   "metadata": {},
   "outputs": [
    {
     "name": "stderr",
     "output_type": "stream",
     "text": [
      "<ipython-input-20-285af68ff6b5>:4: FutureWarning: The default value of regex will change from True to False in a future version.\n",
      "  spec_rem = pat_rem.str.replace(r'[^\\w\\d\\s]',' ')\n",
      "<ipython-input-20-285af68ff6b5>:5: FutureWarning: The default value of regex will change from True to False in a future version.\n",
      "  ascii_rem = spec_rem.str.replace(r'[^\\x00-\\x7F]+',' ')\n",
      "<ipython-input-20-285af68ff6b5>:6: FutureWarning: The default value of regex will change from True to False in a future version.\n",
      "  space_rem = ascii_rem.str.replace(r'^\\s+|\\s+?$','')\n",
      "<ipython-input-20-285af68ff6b5>:7: FutureWarning: The default value of regex will change from True to False in a future version.\n",
      "  multiw_remove = space_rem.str.replace(r'\\s+',' ')\n",
      "<ipython-input-20-285af68ff6b5>:8: FutureWarning: The default value of regex will change from True to False in a future version.\n",
      "  df = multiw_remove.str.replace(r'\\.{2,}', ' ')\n"
     ]
    }
   ],
   "source": [
    "df['review_clean'] = review_clean(df['review'])"
   ]
  },
  {
   "cell_type": "code",
   "execution_count": 22,
   "metadata": {},
   "outputs": [
    {
     "data": {
      "text/html": [
       "<div>\n",
       "<style scoped>\n",
       "    .dataframe tbody tr th:only-of-type {\n",
       "        vertical-align: middle;\n",
       "    }\n",
       "\n",
       "    .dataframe tbody tr th {\n",
       "        vertical-align: top;\n",
       "    }\n",
       "\n",
       "    .dataframe thead th {\n",
       "        text-align: right;\n",
       "    }\n",
       "</style>\n",
       "<table border=\"1\" class=\"dataframe\">\n",
       "  <thead>\n",
       "    <tr style=\"text-align: right;\">\n",
       "      <th></th>\n",
       "      <th>uniqueid</th>\n",
       "      <th>drugname</th>\n",
       "      <th>condition</th>\n",
       "      <th>review</th>\n",
       "      <th>rating</th>\n",
       "      <th>date</th>\n",
       "      <th>usefulcount</th>\n",
       "      <th>review_clean</th>\n",
       "    </tr>\n",
       "  </thead>\n",
       "  <tbody>\n",
       "    <tr>\n",
       "      <th>0</th>\n",
       "      <td>0</td>\n",
       "      <td>Medroxyprogesterone</td>\n",
       "      <td>Abnormal Uterine Bleeding</td>\n",
       "      <td>\"Been on the depo injection since January 2015...</td>\n",
       "      <td>3.0</td>\n",
       "      <td>2015-10-28</td>\n",
       "      <td>4</td>\n",
       "      <td>been on the depo injection since january 2015 ...</td>\n",
       "    </tr>\n",
       "    <tr>\n",
       "      <th>1</th>\n",
       "      <td>2</td>\n",
       "      <td>Medroxyprogesterone</td>\n",
       "      <td>Amenorrhea</td>\n",
       "      <td>\"I&amp;#039;m 21 years old and recently found out ...</td>\n",
       "      <td>10.0</td>\n",
       "      <td>2015-10-27</td>\n",
       "      <td>11</td>\n",
       "      <td>im 21 years old and recently found out i might...</td>\n",
       "    </tr>\n",
       "    <tr>\n",
       "      <th>2</th>\n",
       "      <td>3</td>\n",
       "      <td>Medroxyprogesterone</td>\n",
       "      <td>Abnormal Uterine Bleeding</td>\n",
       "      <td>\"I have been on the shot 11 years and until a ...</td>\n",
       "      <td>8.0</td>\n",
       "      <td>2015-10-27</td>\n",
       "      <td>7</td>\n",
       "      <td>i have been on the shot 11 years and until a m...</td>\n",
       "    </tr>\n",
       "  </tbody>\n",
       "</table>\n",
       "</div>"
      ],
      "text/plain": [
       "   uniqueid             drugname                  condition  \\\n",
       "0         0  Medroxyprogesterone  Abnormal Uterine Bleeding   \n",
       "1         2  Medroxyprogesterone                 Amenorrhea   \n",
       "2         3  Medroxyprogesterone  Abnormal Uterine Bleeding   \n",
       "\n",
       "                                              review  rating       date  \\\n",
       "0  \"Been on the depo injection since January 2015...     3.0 2015-10-28   \n",
       "1  \"I&#039;m 21 years old and recently found out ...    10.0 2015-10-27   \n",
       "2  \"I have been on the shot 11 years and until a ...     8.0 2015-10-27   \n",
       "\n",
       "   usefulcount                                       review_clean  \n",
       "0            4  been on the depo injection since january 2015 ...  \n",
       "1           11  im 21 years old and recently found out i might...  \n",
       "2            7  i have been on the shot 11 years and until a m...  "
      ]
     },
     "execution_count": 22,
     "metadata": {},
     "output_type": "execute_result"
    }
   ],
   "source": [
    "df.head(3)"
   ]
  },
  {
   "cell_type": "code",
   "execution_count": 23,
   "metadata": {},
   "outputs": [],
   "source": [
    "#Used for remouving punctuation\n",
    "from string import punctuation \n",
    "df['review_clean'] = df['review_clean'].apply(lambda x: ''.join(word for word in x if word not in punctuation))"
   ]
  },
  {
   "cell_type": "code",
   "execution_count": 24,
   "metadata": {},
   "outputs": [
    {
     "name": "stderr",
     "output_type": "stream",
     "text": [
      "<ipython-input-24-ecbee070b3e0>:2: FutureWarning: The default value of regex will change from True to False in a future version.\n",
      "  df['review_clean'] = df['review_clean'].str.replace('\\d+', '')\n"
     ]
    }
   ],
   "source": [
    "#removing numbers \n",
    "df['review_clean'] = df['review_clean'].str.replace('\\d+', '')"
   ]
  },
  {
   "cell_type": "code",
   "execution_count": 25,
   "metadata": {},
   "outputs": [],
   "source": [
    "#Removing stop words \n",
    "from nltk.corpus import stopwords\n",
    "\n",
    "stop_words = set(stopwords.words('english'))\n",
    "df['review_clean'] = df['review_clean'].apply(lambda x: ' '.join(word for word in x.split() if word not in stop_words))"
   ]
  },
  {
   "cell_type": "code",
   "execution_count": 26,
   "metadata": {},
   "outputs": [],
   "source": [
    "#Lemmitization and word tokenization \n",
    "w_tokenizer = nltk.tokenize.WhitespaceTokenizer()\n",
    "lemmatizer = nltk.stem.WordNetLemmatizer()\n",
    "\n",
    "def lemmatize_text(text):\n",
    "    return [lemmatizer.lemmatize(w) for w in w_tokenizer.tokenize(text)]"
   ]
  },
  {
   "cell_type": "code",
   "execution_count": 27,
   "metadata": {},
   "outputs": [],
   "source": [
    "df['text_lemmatized'] = df.review_clean.apply(lemmatize_text)"
   ]
  },
  {
   "cell_type": "code",
   "execution_count": 28,
   "metadata": {},
   "outputs": [],
   "source": [
    "#This is converting the lemmetized words into a string and storing them within the clean review\n",
    "df['review_clean'] = [','.join(map(str, l)) for l in df['text_lemmatized']]\n",
    "df['review_clean'] = df['review_clean'].replace(',',' ', regex=True)"
   ]
  },
  {
   "cell_type": "code",
   "execution_count": 29,
   "metadata": {},
   "outputs": [
    {
     "data": {
      "text/html": [
       "<div>\n",
       "<style scoped>\n",
       "    .dataframe tbody tr th:only-of-type {\n",
       "        vertical-align: middle;\n",
       "    }\n",
       "\n",
       "    .dataframe tbody tr th {\n",
       "        vertical-align: top;\n",
       "    }\n",
       "\n",
       "    .dataframe thead th {\n",
       "        text-align: right;\n",
       "    }\n",
       "</style>\n",
       "<table border=\"1\" class=\"dataframe\">\n",
       "  <thead>\n",
       "    <tr style=\"text-align: right;\">\n",
       "      <th></th>\n",
       "      <th>uniqueid</th>\n",
       "      <th>drugname</th>\n",
       "      <th>condition</th>\n",
       "      <th>review</th>\n",
       "      <th>rating</th>\n",
       "      <th>date</th>\n",
       "      <th>usefulcount</th>\n",
       "      <th>review_clean</th>\n",
       "      <th>text_lemmatized</th>\n",
       "    </tr>\n",
       "  </thead>\n",
       "  <tbody>\n",
       "    <tr>\n",
       "      <th>0</th>\n",
       "      <td>0</td>\n",
       "      <td>Medroxyprogesterone</td>\n",
       "      <td>Abnormal Uterine Bleeding</td>\n",
       "      <td>\"Been on the depo injection since January 2015...</td>\n",
       "      <td>3.0</td>\n",
       "      <td>2015-10-28</td>\n",
       "      <td>4</td>\n",
       "      <td>depo injection since january bleeding stopped ...</td>\n",
       "      <td>[depo, injection, since, january, bleeding, st...</td>\n",
       "    </tr>\n",
       "    <tr>\n",
       "      <th>1</th>\n",
       "      <td>2</td>\n",
       "      <td>Medroxyprogesterone</td>\n",
       "      <td>Amenorrhea</td>\n",
       "      <td>\"I&amp;#039;m 21 years old and recently found out ...</td>\n",
       "      <td>10.0</td>\n",
       "      <td>2015-10-27</td>\n",
       "      <td>11</td>\n",
       "      <td>im year old recently found might pcos havent g...</td>\n",
       "      <td>[im, year, old, recently, found, might, pcos, ...</td>\n",
       "    </tr>\n",
       "    <tr>\n",
       "      <th>2</th>\n",
       "      <td>3</td>\n",
       "      <td>Medroxyprogesterone</td>\n",
       "      <td>Abnormal Uterine Bleeding</td>\n",
       "      <td>\"I have been on the shot 11 years and until a ...</td>\n",
       "      <td>8.0</td>\n",
       "      <td>2015-10-27</td>\n",
       "      <td>7</td>\n",
       "      <td>shot year month ago never period even spotting...</td>\n",
       "      <td>[shot, year, month, ago, never, period, even, ...</td>\n",
       "    </tr>\n",
       "  </tbody>\n",
       "</table>\n",
       "</div>"
      ],
      "text/plain": [
       "   uniqueid             drugname                  condition  \\\n",
       "0         0  Medroxyprogesterone  Abnormal Uterine Bleeding   \n",
       "1         2  Medroxyprogesterone                 Amenorrhea   \n",
       "2         3  Medroxyprogesterone  Abnormal Uterine Bleeding   \n",
       "\n",
       "                                              review  rating       date  \\\n",
       "0  \"Been on the depo injection since January 2015...     3.0 2015-10-28   \n",
       "1  \"I&#039;m 21 years old and recently found out ...    10.0 2015-10-27   \n",
       "2  \"I have been on the shot 11 years and until a ...     8.0 2015-10-27   \n",
       "\n",
       "   usefulcount                                       review_clean  \\\n",
       "0            4  depo injection since january bleeding stopped ...   \n",
       "1           11  im year old recently found might pcos havent g...   \n",
       "2            7  shot year month ago never period even spotting...   \n",
       "\n",
       "                                     text_lemmatized  \n",
       "0  [depo, injection, since, january, bleeding, st...  \n",
       "1  [im, year, old, recently, found, might, pcos, ...  \n",
       "2  [shot, year, month, ago, never, period, even, ...  "
      ]
     },
     "execution_count": 29,
     "metadata": {},
     "output_type": "execute_result"
    }
   ],
   "source": [
    "df.head(3)"
   ]
  },
  {
   "cell_type": "code",
   "execution_count": 30,
   "metadata": {},
   "outputs": [],
   "source": [
    "del df['text_lemmatized']\n",
    "del df['usefulcount']\n",
    "del df['date']"
   ]
  },
  {
   "cell_type": "code",
   "execution_count": 31,
   "metadata": {},
   "outputs": [
    {
     "data": {
      "text/html": [
       "<div>\n",
       "<style scoped>\n",
       "    .dataframe tbody tr th:only-of-type {\n",
       "        vertical-align: middle;\n",
       "    }\n",
       "\n",
       "    .dataframe tbody tr th {\n",
       "        vertical-align: top;\n",
       "    }\n",
       "\n",
       "    .dataframe thead th {\n",
       "        text-align: right;\n",
       "    }\n",
       "</style>\n",
       "<table border=\"1\" class=\"dataframe\">\n",
       "  <thead>\n",
       "    <tr style=\"text-align: right;\">\n",
       "      <th></th>\n",
       "      <th>uniqueid</th>\n",
       "      <th>drugname</th>\n",
       "      <th>condition</th>\n",
       "      <th>review</th>\n",
       "      <th>rating</th>\n",
       "      <th>review_clean</th>\n",
       "    </tr>\n",
       "  </thead>\n",
       "  <tbody>\n",
       "    <tr>\n",
       "      <th>0</th>\n",
       "      <td>0</td>\n",
       "      <td>Medroxyprogesterone</td>\n",
       "      <td>Abnormal Uterine Bleeding</td>\n",
       "      <td>\"Been on the depo injection since January 2015...</td>\n",
       "      <td>3.0</td>\n",
       "      <td>depo injection since january bleeding stopped ...</td>\n",
       "    </tr>\n",
       "    <tr>\n",
       "      <th>1</th>\n",
       "      <td>2</td>\n",
       "      <td>Medroxyprogesterone</td>\n",
       "      <td>Amenorrhea</td>\n",
       "      <td>\"I&amp;#039;m 21 years old and recently found out ...</td>\n",
       "      <td>10.0</td>\n",
       "      <td>im year old recently found might pcos havent g...</td>\n",
       "    </tr>\n",
       "    <tr>\n",
       "      <th>2</th>\n",
       "      <td>3</td>\n",
       "      <td>Medroxyprogesterone</td>\n",
       "      <td>Abnormal Uterine Bleeding</td>\n",
       "      <td>\"I have been on the shot 11 years and until a ...</td>\n",
       "      <td>8.0</td>\n",
       "      <td>shot year month ago never period even spotting...</td>\n",
       "    </tr>\n",
       "  </tbody>\n",
       "</table>\n",
       "</div>"
      ],
      "text/plain": [
       "   uniqueid             drugname                  condition  \\\n",
       "0         0  Medroxyprogesterone  Abnormal Uterine Bleeding   \n",
       "1         2  Medroxyprogesterone                 Amenorrhea   \n",
       "2         3  Medroxyprogesterone  Abnormal Uterine Bleeding   \n",
       "\n",
       "                                              review  rating  \\\n",
       "0  \"Been on the depo injection since January 2015...     3.0   \n",
       "1  \"I&#039;m 21 years old and recently found out ...    10.0   \n",
       "2  \"I have been on the shot 11 years and until a ...     8.0   \n",
       "\n",
       "                                        review_clean  \n",
       "0  depo injection since january bleeding stopped ...  \n",
       "1  im year old recently found might pcos havent g...  \n",
       "2  shot year month ago never period even spotting...  "
      ]
     },
     "execution_count": 31,
     "metadata": {},
     "output_type": "execute_result"
    }
   ],
   "source": [
    "df.head(3)"
   ]
  },
  {
   "cell_type": "markdown",
   "metadata": {},
   "source": [
    "#  Polarity Lexicon Approach"
   ]
  },
  {
   "cell_type": "markdown",
   "metadata": {},
   "source": [
    "<h3>TextBlob</h3>"
   ]
  },
  {
   "cell_type": "code",
   "execution_count": 32,
   "metadata": {},
   "outputs": [],
   "source": [
    "from tqdm import tqdm"
   ]
  },
  {
   "cell_type": "code",
   "execution_count": 33,
   "metadata": {},
   "outputs": [
    {
     "name": "stderr",
     "output_type": "stream",
     "text": [
      "100%|██████████| 212698/212698 [04:12<00:00, 843.20it/s] \n"
     ]
    }
   ],
   "source": [
    "reviews = df[\"review_clean\"]\n",
    "sentiments = []\n",
    "subjectivity = []\n",
    "\n",
    "for review in tqdm(reviews):\n",
    "    blob = TextBlob(review)\n",
    "    sentiments += [blob.sentiment.polarity]\n",
    "    subjectivity += [blob.sentiment.subjectivity]"
   ]
  },
  {
   "cell_type": "code",
   "execution_count": 34,
   "metadata": {},
   "outputs": [],
   "source": [
    "textblob_df = df.copy()\n",
    "\n",
    "textblob_df[\"polarity\"] = sentiments\n",
    "textblob_df[\"subjectivity\"] = subjectivity"
   ]
  },
  {
   "cell_type": "code",
   "execution_count": 35,
   "metadata": {},
   "outputs": [
    {
     "data": {
      "text/html": [
       "<div>\n",
       "<style scoped>\n",
       "    .dataframe tbody tr th:only-of-type {\n",
       "        vertical-align: middle;\n",
       "    }\n",
       "\n",
       "    .dataframe tbody tr th {\n",
       "        vertical-align: top;\n",
       "    }\n",
       "\n",
       "    .dataframe thead th {\n",
       "        text-align: right;\n",
       "    }\n",
       "</style>\n",
       "<table border=\"1\" class=\"dataframe\">\n",
       "  <thead>\n",
       "    <tr style=\"text-align: right;\">\n",
       "      <th></th>\n",
       "      <th>uniqueid</th>\n",
       "      <th>drugname</th>\n",
       "      <th>condition</th>\n",
       "      <th>review</th>\n",
       "      <th>rating</th>\n",
       "      <th>review_clean</th>\n",
       "      <th>polarity</th>\n",
       "      <th>subjectivity</th>\n",
       "    </tr>\n",
       "  </thead>\n",
       "  <tbody>\n",
       "    <tr>\n",
       "      <th>0</th>\n",
       "      <td>0</td>\n",
       "      <td>Medroxyprogesterone</td>\n",
       "      <td>Abnormal Uterine Bleeding</td>\n",
       "      <td>\"Been on the depo injection since January 2015...</td>\n",
       "      <td>3.0</td>\n",
       "      <td>depo injection since january bleeding stopped ...</td>\n",
       "      <td>-0.160714</td>\n",
       "      <td>0.442857</td>\n",
       "    </tr>\n",
       "    <tr>\n",
       "      <th>1</th>\n",
       "      <td>2</td>\n",
       "      <td>Medroxyprogesterone</td>\n",
       "      <td>Amenorrhea</td>\n",
       "      <td>\"I&amp;#039;m 21 years old and recently found out ...</td>\n",
       "      <td>10.0</td>\n",
       "      <td>im year old recently found might pcos havent g...</td>\n",
       "      <td>0.186429</td>\n",
       "      <td>0.441032</td>\n",
       "    </tr>\n",
       "    <tr>\n",
       "      <th>2</th>\n",
       "      <td>3</td>\n",
       "      <td>Medroxyprogesterone</td>\n",
       "      <td>Abnormal Uterine Bleeding</td>\n",
       "      <td>\"I have been on the shot 11 years and until a ...</td>\n",
       "      <td>8.0</td>\n",
       "      <td>shot year month ago never period even spotting...</td>\n",
       "      <td>-0.075000</td>\n",
       "      <td>0.709722</td>\n",
       "    </tr>\n",
       "  </tbody>\n",
       "</table>\n",
       "</div>"
      ],
      "text/plain": [
       "   uniqueid             drugname                  condition  \\\n",
       "0         0  Medroxyprogesterone  Abnormal Uterine Bleeding   \n",
       "1         2  Medroxyprogesterone                 Amenorrhea   \n",
       "2         3  Medroxyprogesterone  Abnormal Uterine Bleeding   \n",
       "\n",
       "                                              review  rating  \\\n",
       "0  \"Been on the depo injection since January 2015...     3.0   \n",
       "1  \"I&#039;m 21 years old and recently found out ...    10.0   \n",
       "2  \"I have been on the shot 11 years and until a ...     8.0   \n",
       "\n",
       "                                        review_clean  polarity  subjectivity  \n",
       "0  depo injection since january bleeding stopped ... -0.160714      0.442857  \n",
       "1  im year old recently found might pcos havent g...  0.186429      0.441032  \n",
       "2  shot year month ago never period even spotting... -0.075000      0.709722  "
      ]
     },
     "execution_count": 35,
     "metadata": {},
     "output_type": "execute_result"
    }
   ],
   "source": [
    "textblob_df.head(3)"
   ]
  },
  {
   "cell_type": "code",
   "execution_count": 36,
   "metadata": {},
   "outputs": [
    {
     "data": {
      "text/plain": [
       "count    212698.000000\n",
       "mean          0.066307\n",
       "std           0.235980\n",
       "min          -1.000000\n",
       "25%          -0.050000\n",
       "50%           0.058974\n",
       "75%           0.187083\n",
       "max           1.000000\n",
       "Name: polarity, dtype: float64"
      ]
     },
     "execution_count": 36,
     "metadata": {},
     "output_type": "execute_result"
    }
   ],
   "source": [
    "textblob_df['polarity'].describe()"
   ]
  },
  {
   "cell_type": "code",
   "execution_count": 37,
   "metadata": {},
   "outputs": [
    {
     "data": {
      "text/plain": [
       "array([[1.        , 0.33345986],\n",
       "       [0.33345986, 1.        ]])"
      ]
     },
     "execution_count": 37,
     "metadata": {},
     "output_type": "execute_result"
    }
   ],
   "source": [
    "np.corrcoef(df[\"rating\"], textblob_df[\"polarity\"])"
   ]
  },
  {
   "cell_type": "code",
   "execution_count": 38,
   "metadata": {},
   "outputs": [
    {
     "data": {
      "image/png": "[encoded data removed]",
      "text/plain": [
       "<Figure size 432x288 with 1 Axes>"
      ]
     },
     "metadata": {
      "needs_background": "light"
     },
     "output_type": "display_data"
    }
   ],
   "source": [
    "sns.boxplot(x=np.array(textblob_df[\"rating\"]),y=np.array(textblob_df[\"polarity\"]))\n",
    "plt.xlabel(\"Rating\")\n",
    "plt.ylabel(\"Polarity\")\n",
    "plt.title(\"Polarity vs Ratings\")\n",
    "plt.show()"
   ]
  },
  {
   "cell_type": "code",
   "execution_count": 39,
   "metadata": {},
   "outputs": [
    {
     "name": "stderr",
     "output_type": "stream",
     "text": [
      "C:\\Users\\vanes\\anaconda3\\lib\\site-packages\\seaborn\\distributions.py:2557: FutureWarning: `distplot` is a deprecated function and will be removed in a future version. Please adapt your code to use either `displot` (a figure-level function with similar flexibility) or `histplot` (an axes-level function for histograms).\n",
      "  warnings.warn(msg, FutureWarning)\n"
     ]
    },
    {
     "data": {
      "text/plain": [
       "Text(0.5, 1.0, 'TextBlob Polarity Distribution')"
      ]
     },
     "execution_count": 39,
     "metadata": {},
     "output_type": "execute_result"
    },
    {
     "data": {
      "image/png": "[encoded data removed]",
      "text/plain": [
       "<Figure size 432x432 with 1 Axes>"
      ]
     },
     "metadata": {
      "needs_background": "light"
     },
     "output_type": "display_data"
    }
   ],
   "source": [
    "plt.figure(figsize=(6,6))\n",
    "sns.set_style('white')\n",
    "sns.distplot(textblob_df['polarity'])\n",
    "plt.box(False)\n",
    "plt.title(\"TextBlob Polarity Distribution\", fontsize=18)"
   ]
  },
  {
   "cell_type": "code",
   "execution_count": 40,
   "metadata": {},
   "outputs": [
    {
     "data": {
      "image/png": "[encoded data removed]",
      "text/plain": [
       "<Figure size 432x288 with 1 Axes>"
      ]
     },
     "metadata": {},
     "output_type": "display_data"
    }
   ],
   "source": [
    "pol_sub = textblob_df.plot.scatter(x='subjectivity',\n",
    "                     y='polarity',                       \n",
    "                     c='DarkBlue')"
   ]
  },
  {
   "cell_type": "code",
   "execution_count": 41,
   "metadata": {},
   "outputs": [],
   "source": [
    "#Creating Labels for Textblob Polarity score\n",
    "textblob_df.loc[(textblob_df['polarity'] > 0), 'sentiment'] = 1\n",
    "textblob_df.loc[(textblob_df['polarity'] == 0 ), 'sentiment'] = 0\n",
    "textblob_df.loc[(textblob_df['polarity'] < 0), 'sentiment'] = -1"
   ]
  },
  {
   "cell_type": "code",
   "execution_count": 42,
   "metadata": {},
   "outputs": [
    {
     "data": {
      "text/html": [
       "<div>\n",
       "<style scoped>\n",
       "    .dataframe tbody tr th:only-of-type {\n",
       "        vertical-align: middle;\n",
       "    }\n",
       "\n",
       "    .dataframe tbody tr th {\n",
       "        vertical-align: top;\n",
       "    }\n",
       "\n",
       "    .dataframe thead th {\n",
       "        text-align: right;\n",
       "    }\n",
       "</style>\n",
       "<table border=\"1\" class=\"dataframe\">\n",
       "  <thead>\n",
       "    <tr style=\"text-align: right;\">\n",
       "      <th></th>\n",
       "      <th>uniqueid</th>\n",
       "      <th>drugname</th>\n",
       "      <th>condition</th>\n",
       "      <th>review</th>\n",
       "      <th>rating</th>\n",
       "      <th>review_clean</th>\n",
       "      <th>polarity</th>\n",
       "      <th>subjectivity</th>\n",
       "      <th>sentiment</th>\n",
       "    </tr>\n",
       "  </thead>\n",
       "  <tbody>\n",
       "    <tr>\n",
       "      <th>0</th>\n",
       "      <td>0</td>\n",
       "      <td>Medroxyprogesterone</td>\n",
       "      <td>Abnormal Uterine Bleeding</td>\n",
       "      <td>\"Been on the depo injection since January 2015...</td>\n",
       "      <td>3.0</td>\n",
       "      <td>depo injection since january bleeding stopped ...</td>\n",
       "      <td>-0.160714</td>\n",
       "      <td>0.442857</td>\n",
       "      <td>-1.0</td>\n",
       "    </tr>\n",
       "    <tr>\n",
       "      <th>1</th>\n",
       "      <td>2</td>\n",
       "      <td>Medroxyprogesterone</td>\n",
       "      <td>Amenorrhea</td>\n",
       "      <td>\"I&amp;#039;m 21 years old and recently found out ...</td>\n",
       "      <td>10.0</td>\n",
       "      <td>im year old recently found might pcos havent g...</td>\n",
       "      <td>0.186429</td>\n",
       "      <td>0.441032</td>\n",
       "      <td>1.0</td>\n",
       "    </tr>\n",
       "    <tr>\n",
       "      <th>2</th>\n",
       "      <td>3</td>\n",
       "      <td>Medroxyprogesterone</td>\n",
       "      <td>Abnormal Uterine Bleeding</td>\n",
       "      <td>\"I have been on the shot 11 years and until a ...</td>\n",
       "      <td>8.0</td>\n",
       "      <td>shot year month ago never period even spotting...</td>\n",
       "      <td>-0.075000</td>\n",
       "      <td>0.709722</td>\n",
       "      <td>-1.0</td>\n",
       "    </tr>\n",
       "  </tbody>\n",
       "</table>\n",
       "</div>"
      ],
      "text/plain": [
       "   uniqueid             drugname                  condition  \\\n",
       "0         0  Medroxyprogesterone  Abnormal Uterine Bleeding   \n",
       "1         2  Medroxyprogesterone                 Amenorrhea   \n",
       "2         3  Medroxyprogesterone  Abnormal Uterine Bleeding   \n",
       "\n",
       "                                              review  rating  \\\n",
       "0  \"Been on the depo injection since January 2015...     3.0   \n",
       "1  \"I&#039;m 21 years old and recently found out ...    10.0   \n",
       "2  \"I have been on the shot 11 years and until a ...     8.0   \n",
       "\n",
       "                                        review_clean  polarity  subjectivity  \\\n",
       "0  depo injection since january bleeding stopped ... -0.160714      0.442857   \n",
       "1  im year old recently found might pcos havent g...  0.186429      0.441032   \n",
       "2  shot year month ago never period even spotting... -0.075000      0.709722   \n",
       "\n",
       "   sentiment  \n",
       "0       -1.0  \n",
       "1        1.0  \n",
       "2       -1.0  "
      ]
     },
     "execution_count": 42,
     "metadata": {},
     "output_type": "execute_result"
    }
   ],
   "source": [
    "textblob_df.head(3)"
   ]
  },
  {
   "cell_type": "code",
   "execution_count": 43,
   "metadata": {},
   "outputs": [
    {
     "data": {
      "text/plain": [
       " 1.0    131182\n",
       "-1.0     70248\n",
       " 0.0     11268\n",
       "Name: sentiment, dtype: int64"
      ]
     },
     "execution_count": 43,
     "metadata": {},
     "output_type": "execute_result"
    }
   ],
   "source": [
    "textblob_df['sentiment'].value_counts()"
   ]
  },
  {
   "cell_type": "code",
   "execution_count": 44,
   "metadata": {},
   "outputs": [
    {
     "name": "stderr",
     "output_type": "stream",
     "text": [
      "C:\\Users\\vanes\\anaconda3\\lib\\site-packages\\seaborn\\_decorators.py:36: FutureWarning: Pass the following variable as a keyword arg: x. From version 0.12, the only valid positional argument will be `data`, and passing other arguments without an explicit keyword will result in an error or misinterpretation.\n",
      "  warnings.warn(\n"
     ]
    },
    {
     "data": {
      "text/plain": [
       "<AxesSubplot:xlabel='sentiment', ylabel='count'>"
      ]
     },
     "execution_count": 44,
     "metadata": {},
     "output_type": "execute_result"
    },
    {
     "data": {
      "image/png": "[encoded data removed]",
      "text/plain": [
       "<Figure size 432x288 with 1 Axes>"
      ]
     },
     "metadata": {},
     "output_type": "display_data"
    }
   ],
   "source": [
    "sns.countplot(textblob_df['sentiment'])"
   ]
  },
  {
   "cell_type": "markdown",
   "metadata": {},
   "source": [
    "<h3>VADER</h3>"
   ]
  },
  {
   "cell_type": "code",
   "execution_count": 45,
   "metadata": {},
   "outputs": [
    {
     "name": "stderr",
     "output_type": "stream",
     "text": [
      "[nltk_data] Downloading package vader_lexicon to\n",
      "[nltk_data]     C:\\Users\\vanes\\AppData\\Roaming\\nltk_data...\n",
      "[nltk_data]   Package vader_lexicon is already up-to-date!\n"
     ]
    }
   ],
   "source": [
    "import nltk\n",
    "nltk.download('vader_lexicon')\n",
    "from nltk.sentiment.vader import SentimentIntensityAnalyzer\n",
    "sid = SentimentIntensityAnalyzer()"
   ]
  },
  {
   "cell_type": "code",
   "execution_count": 46,
   "metadata": {},
   "outputs": [],
   "source": [
    "vader_df = df.copy()"
   ]
  },
  {
   "cell_type": "code",
   "execution_count": 47,
   "metadata": {},
   "outputs": [
    {
     "data": {
      "text/html": [
       "<div>\n",
       "<style scoped>\n",
       "    .dataframe tbody tr th:only-of-type {\n",
       "        vertical-align: middle;\n",
       "    }\n",
       "\n",
       "    .dataframe tbody tr th {\n",
       "        vertical-align: top;\n",
       "    }\n",
       "\n",
       "    .dataframe thead th {\n",
       "        text-align: right;\n",
       "    }\n",
       "</style>\n",
       "<table border=\"1\" class=\"dataframe\">\n",
       "  <thead>\n",
       "    <tr style=\"text-align: right;\">\n",
       "      <th></th>\n",
       "      <th>uniqueid</th>\n",
       "      <th>drugname</th>\n",
       "      <th>condition</th>\n",
       "      <th>review</th>\n",
       "      <th>rating</th>\n",
       "      <th>review_clean</th>\n",
       "    </tr>\n",
       "  </thead>\n",
       "  <tbody>\n",
       "    <tr>\n",
       "      <th>0</th>\n",
       "      <td>0</td>\n",
       "      <td>Medroxyprogesterone</td>\n",
       "      <td>Abnormal Uterine Bleeding</td>\n",
       "      <td>\"Been on the depo injection since January 2015...</td>\n",
       "      <td>3.0</td>\n",
       "      <td>depo injection since january bleeding stopped ...</td>\n",
       "    </tr>\n",
       "    <tr>\n",
       "      <th>1</th>\n",
       "      <td>2</td>\n",
       "      <td>Medroxyprogesterone</td>\n",
       "      <td>Amenorrhea</td>\n",
       "      <td>\"I&amp;#039;m 21 years old and recently found out ...</td>\n",
       "      <td>10.0</td>\n",
       "      <td>im year old recently found might pcos havent g...</td>\n",
       "    </tr>\n",
       "    <tr>\n",
       "      <th>2</th>\n",
       "      <td>3</td>\n",
       "      <td>Medroxyprogesterone</td>\n",
       "      <td>Abnormal Uterine Bleeding</td>\n",
       "      <td>\"I have been on the shot 11 years and until a ...</td>\n",
       "      <td>8.0</td>\n",
       "      <td>shot year month ago never period even spotting...</td>\n",
       "    </tr>\n",
       "  </tbody>\n",
       "</table>\n",
       "</div>"
      ],
      "text/plain": [
       "   uniqueid             drugname                  condition  \\\n",
       "0         0  Medroxyprogesterone  Abnormal Uterine Bleeding   \n",
       "1         2  Medroxyprogesterone                 Amenorrhea   \n",
       "2         3  Medroxyprogesterone  Abnormal Uterine Bleeding   \n",
       "\n",
       "                                              review  rating  \\\n",
       "0  \"Been on the depo injection since January 2015...     3.0   \n",
       "1  \"I&#039;m 21 years old and recently found out ...    10.0   \n",
       "2  \"I have been on the shot 11 years and until a ...     8.0   \n",
       "\n",
       "                                        review_clean  \n",
       "0  depo injection since january bleeding stopped ...  \n",
       "1  im year old recently found might pcos havent g...  \n",
       "2  shot year month ago never period even spotting...  "
      ]
     },
     "execution_count": 47,
     "metadata": {},
     "output_type": "execute_result"
    }
   ],
   "source": [
    "vader_df.head(3)"
   ]
  },
  {
   "cell_type": "code",
   "execution_count": 48,
   "metadata": {},
   "outputs": [
    {
     "name": "stdout",
     "output_type": "stream",
     "text": [
      "Review example:  depo injection since january bleeding stopped another injection june didnt bleed month started spotting mid july since approx august st bleeding constantly heavy enough use pad almost november im sick bleeding forking money sanitary pad shouldnt bleeding well long currently awaiting ultrasound see happening would like change contraceptive doctor wont let\n"
     ]
    },
    {
     "data": {
      "text/html": [
       "<div>\n",
       "<style scoped>\n",
       "    .dataframe tbody tr th:only-of-type {\n",
       "        vertical-align: middle;\n",
       "    }\n",
       "\n",
       "    .dataframe tbody tr th {\n",
       "        vertical-align: top;\n",
       "    }\n",
       "\n",
       "    .dataframe thead th {\n",
       "        text-align: right;\n",
       "    }\n",
       "</style>\n",
       "<table border=\"1\" class=\"dataframe\">\n",
       "  <thead>\n",
       "    <tr style=\"text-align: right;\">\n",
       "      <th></th>\n",
       "      <th>uniqueid</th>\n",
       "      <th>drugname</th>\n",
       "      <th>condition</th>\n",
       "      <th>review</th>\n",
       "      <th>rating</th>\n",
       "      <th>review_clean</th>\n",
       "    </tr>\n",
       "  </thead>\n",
       "  <tbody>\n",
       "    <tr>\n",
       "      <th>0</th>\n",
       "      <td>0</td>\n",
       "      <td>Medroxyprogesterone</td>\n",
       "      <td>Abnormal Uterine Bleeding</td>\n",
       "      <td>\"Been on the depo injection since January 2015...</td>\n",
       "      <td>3.0</td>\n",
       "      <td>depo injection since january bleeding stopped ...</td>\n",
       "    </tr>\n",
       "    <tr>\n",
       "      <th>1</th>\n",
       "      <td>2</td>\n",
       "      <td>Medroxyprogesterone</td>\n",
       "      <td>Amenorrhea</td>\n",
       "      <td>\"I&amp;#039;m 21 years old and recently found out ...</td>\n",
       "      <td>10.0</td>\n",
       "      <td>im year old recently found might pcos havent g...</td>\n",
       "    </tr>\n",
       "  </tbody>\n",
       "</table>\n",
       "</div>"
      ],
      "text/plain": [
       "   uniqueid             drugname                  condition  \\\n",
       "0         0  Medroxyprogesterone  Abnormal Uterine Bleeding   \n",
       "1         2  Medroxyprogesterone                 Amenorrhea   \n",
       "\n",
       "                                              review  rating  \\\n",
       "0  \"Been on the depo injection since January 2015...     3.0   \n",
       "1  \"I&#039;m 21 years old and recently found out ...    10.0   \n",
       "\n",
       "                                        review_clean  \n",
       "0  depo injection since january bleeding stopped ...  \n",
       "1  im year old recently found might pcos havent g...  "
      ]
     },
     "execution_count": 48,
     "metadata": {},
     "output_type": "execute_result"
    }
   ],
   "source": [
    "def encode_reviews(review):\n",
    "    return html.unescape(review) # Decode in utf-8 and convert HTML characters\n",
    "\n",
    "print(\"Review example: \", vader_df.loc[0, 'review_clean']) # Example of review text\n",
    "\n",
    "vader_df['review_clean'] = vader_df['review_clean'].apply(encode_reviews) # Let's clean the text...\n",
    "\n",
    "vader_df.head(2)"
   ]
  },
  {
   "cell_type": "code",
   "execution_count": 49,
   "metadata": {},
   "outputs": [],
   "source": [
    "sid = SentimentIntensityAnalyzer() \n",
    "\n",
    "\"\"\"\n",
    "Only run the bottom three lines if there is time. This step takes a few minutes\n",
    "\"\"\"\n",
    "#vader_df[\"neg_score\"] = vader_df[\"review_clean\"].apply(lambda x: sid.polarity_scores(x)[\"neg\"])\n",
    "#vader_df[\"neu_score\"] = vader_df[\"review_clean\"].apply(lambda x: sid.polarity_scores(x)[\"neu\"])\n",
    "#vader_df[\"pos_score\"] = vader_df[\"review_clean\"].apply(lambda x: sid.polarity_scores(x)[\"pos\"])\n",
    "\n",
    "vader_df[\"v_polarity\"] = vader_df[\"review_clean\"].apply(lambda x: sid.polarity_scores(x)[\"compound\"])"
   ]
  },
  {
   "cell_type": "code",
   "execution_count": 50,
   "metadata": {},
   "outputs": [
    {
     "data": {
      "text/html": [
       "<div>\n",
       "<style scoped>\n",
       "    .dataframe tbody tr th:only-of-type {\n",
       "        vertical-align: middle;\n",
       "    }\n",
       "\n",
       "    .dataframe tbody tr th {\n",
       "        vertical-align: top;\n",
       "    }\n",
       "\n",
       "    .dataframe thead th {\n",
       "        text-align: right;\n",
       "    }\n",
       "</style>\n",
       "<table border=\"1\" class=\"dataframe\">\n",
       "  <thead>\n",
       "    <tr style=\"text-align: right;\">\n",
       "      <th></th>\n",
       "      <th>uniqueid</th>\n",
       "      <th>drugname</th>\n",
       "      <th>condition</th>\n",
       "      <th>review</th>\n",
       "      <th>rating</th>\n",
       "      <th>review_clean</th>\n",
       "      <th>v_polarity</th>\n",
       "    </tr>\n",
       "  </thead>\n",
       "  <tbody>\n",
       "    <tr>\n",
       "      <th>0</th>\n",
       "      <td>0</td>\n",
       "      <td>Medroxyprogesterone</td>\n",
       "      <td>Abnormal Uterine Bleeding</td>\n",
       "      <td>\"Been on the depo injection since January 2015...</td>\n",
       "      <td>3.0</td>\n",
       "      <td>depo injection since january bleeding stopped ...</td>\n",
       "      <td>-0.5024</td>\n",
       "    </tr>\n",
       "    <tr>\n",
       "      <th>1</th>\n",
       "      <td>2</td>\n",
       "      <td>Medroxyprogesterone</td>\n",
       "      <td>Amenorrhea</td>\n",
       "      <td>\"I&amp;#039;m 21 years old and recently found out ...</td>\n",
       "      <td>10.0</td>\n",
       "      <td>im year old recently found might pcos havent g...</td>\n",
       "      <td>0.7650</td>\n",
       "    </tr>\n",
       "    <tr>\n",
       "      <th>2</th>\n",
       "      <td>3</td>\n",
       "      <td>Medroxyprogesterone</td>\n",
       "      <td>Abnormal Uterine Bleeding</td>\n",
       "      <td>\"I have been on the shot 11 years and until a ...</td>\n",
       "      <td>8.0</td>\n",
       "      <td>shot year month ago never period even spotting...</td>\n",
       "      <td>-0.1779</td>\n",
       "    </tr>\n",
       "  </tbody>\n",
       "</table>\n",
       "</div>"
      ],
      "text/plain": [
       "   uniqueid             drugname                  condition  \\\n",
       "0         0  Medroxyprogesterone  Abnormal Uterine Bleeding   \n",
       "1         2  Medroxyprogesterone                 Amenorrhea   \n",
       "2         3  Medroxyprogesterone  Abnormal Uterine Bleeding   \n",
       "\n",
       "                                              review  rating  \\\n",
       "0  \"Been on the depo injection since January 2015...     3.0   \n",
       "1  \"I&#039;m 21 years old and recently found out ...    10.0   \n",
       "2  \"I have been on the shot 11 years and until a ...     8.0   \n",
       "\n",
       "                                        review_clean  v_polarity  \n",
       "0  depo injection since january bleeding stopped ...     -0.5024  \n",
       "1  im year old recently found might pcos havent g...      0.7650  \n",
       "2  shot year month ago never period even spotting...     -0.1779  "
      ]
     },
     "execution_count": 50,
     "metadata": {},
     "output_type": "execute_result"
    }
   ],
   "source": [
    "vader_df.head(3)"
   ]
  },
  {
   "cell_type": "code",
   "execution_count": 51,
   "metadata": {},
   "outputs": [
    {
     "data": {
      "text/plain": [
       "array([[1.       , 0.3012931],\n",
       "       [0.3012931, 1.       ]])"
      ]
     },
     "execution_count": 51,
     "metadata": {},
     "output_type": "execute_result"
    }
   ],
   "source": [
    "np.corrcoef(vader_df[\"rating\"], vader_df[\"v_polarity\"])"
   ]
  },
  {
   "cell_type": "code",
   "execution_count": 52,
   "metadata": {},
   "outputs": [
    {
     "data": {
      "image/png": "[encoded data removed]",
      "text/plain": [
       "<Figure size 432x288 with 1 Axes>"
      ]
     },
     "metadata": {},
     "output_type": "display_data"
    }
   ],
   "source": [
    "sns.boxplot(x=np.array(vader_df[\"rating\"]),y=np.array(vader_df[\"v_polarity\"]))\n",
    "plt.xlabel(\"Rating\")\n",
    "plt.ylabel(\"Polarity\")\n",
    "plt.title(\"Polarity vs Ratings\")\n",
    "plt.show()"
   ]
  },
  {
   "cell_type": "code",
   "execution_count": 53,
   "metadata": {},
   "outputs": [
    {
     "name": "stderr",
     "output_type": "stream",
     "text": [
      "C:\\Users\\vanes\\anaconda3\\lib\\site-packages\\seaborn\\distributions.py:2557: FutureWarning: `distplot` is a deprecated function and will be removed in a future version. Please adapt your code to use either `displot` (a figure-level function with similar flexibility) or `histplot` (an axes-level function for histograms).\n",
      "  warnings.warn(msg, FutureWarning)\n"
     ]
    },
    {
     "data": {
      "text/plain": [
       "Text(0.5, 1.0, 'VADER Polarity Distribution')"
      ]
     },
     "execution_count": 53,
     "metadata": {},
     "output_type": "execute_result"
    },
    {
     "data": {
      "image/png": "[encoded data removed]",
      "text/plain": [
       "<Figure size 432x432 with 1 Axes>"
      ]
     },
     "metadata": {},
     "output_type": "display_data"
    }
   ],
   "source": [
    "plt.figure(figsize=(6,6))\n",
    "sns.set_style('white')\n",
    "sns.distplot(vader_df['v_polarity'])\n",
    "plt.box(False)\n",
    "plt.title(\"VADER Polarity Distribution\", fontsize=18)"
   ]
  },
  {
   "cell_type": "code",
   "execution_count": 54,
   "metadata": {},
   "outputs": [],
   "source": [
    "vader_df.loc[(vader_df['v_polarity'] > 0), 'sentiment'] = 1\n",
    "vader_df.loc[(vader_df['v_polarity'] == 0), 'sentiment'] = 0\n",
    "vader_df.loc[(vader_df['v_polarity'] < 0), 'sentiment'] = -1"
   ]
  },
  {
   "cell_type": "code",
   "execution_count": 55,
   "metadata": {},
   "outputs": [
    {
     "data": {
      "text/html": [
       "<div>\n",
       "<style scoped>\n",
       "    .dataframe tbody tr th:only-of-type {\n",
       "        vertical-align: middle;\n",
       "    }\n",
       "\n",
       "    .dataframe tbody tr th {\n",
       "        vertical-align: top;\n",
       "    }\n",
       "\n",
       "    .dataframe thead th {\n",
       "        text-align: right;\n",
       "    }\n",
       "</style>\n",
       "<table border=\"1\" class=\"dataframe\">\n",
       "  <thead>\n",
       "    <tr style=\"text-align: right;\">\n",
       "      <th></th>\n",
       "      <th>uniqueid</th>\n",
       "      <th>drugname</th>\n",
       "      <th>condition</th>\n",
       "      <th>review</th>\n",
       "      <th>rating</th>\n",
       "      <th>review_clean</th>\n",
       "      <th>v_polarity</th>\n",
       "      <th>sentiment</th>\n",
       "    </tr>\n",
       "  </thead>\n",
       "  <tbody>\n",
       "    <tr>\n",
       "      <th>0</th>\n",
       "      <td>0</td>\n",
       "      <td>Medroxyprogesterone</td>\n",
       "      <td>Abnormal Uterine Bleeding</td>\n",
       "      <td>\"Been on the depo injection since January 2015...</td>\n",
       "      <td>3.0</td>\n",
       "      <td>depo injection since january bleeding stopped ...</td>\n",
       "      <td>-0.5024</td>\n",
       "      <td>-1.0</td>\n",
       "    </tr>\n",
       "    <tr>\n",
       "      <th>1</th>\n",
       "      <td>2</td>\n",
       "      <td>Medroxyprogesterone</td>\n",
       "      <td>Amenorrhea</td>\n",
       "      <td>\"I&amp;#039;m 21 years old and recently found out ...</td>\n",
       "      <td>10.0</td>\n",
       "      <td>im year old recently found might pcos havent g...</td>\n",
       "      <td>0.7650</td>\n",
       "      <td>1.0</td>\n",
       "    </tr>\n",
       "    <tr>\n",
       "      <th>2</th>\n",
       "      <td>3</td>\n",
       "      <td>Medroxyprogesterone</td>\n",
       "      <td>Abnormal Uterine Bleeding</td>\n",
       "      <td>\"I have been on the shot 11 years and until a ...</td>\n",
       "      <td>8.0</td>\n",
       "      <td>shot year month ago never period even spotting...</td>\n",
       "      <td>-0.1779</td>\n",
       "      <td>-1.0</td>\n",
       "    </tr>\n",
       "  </tbody>\n",
       "</table>\n",
       "</div>"
      ],
      "text/plain": [
       "   uniqueid             drugname                  condition  \\\n",
       "0         0  Medroxyprogesterone  Abnormal Uterine Bleeding   \n",
       "1         2  Medroxyprogesterone                 Amenorrhea   \n",
       "2         3  Medroxyprogesterone  Abnormal Uterine Bleeding   \n",
       "\n",
       "                                              review  rating  \\\n",
       "0  \"Been on the depo injection since January 2015...     3.0   \n",
       "1  \"I&#039;m 21 years old and recently found out ...    10.0   \n",
       "2  \"I have been on the shot 11 years and until a ...     8.0   \n",
       "\n",
       "                                        review_clean  v_polarity  sentiment  \n",
       "0  depo injection since january bleeding stopped ...     -0.5024       -1.0  \n",
       "1  im year old recently found might pcos havent g...      0.7650        1.0  \n",
       "2  shot year month ago never period even spotting...     -0.1779       -1.0  "
      ]
     },
     "execution_count": 55,
     "metadata": {},
     "output_type": "execute_result"
    }
   ],
   "source": [
    "vader_df.head(3)"
   ]
  },
  {
   "cell_type": "code",
   "execution_count": 56,
   "metadata": {},
   "outputs": [
    {
     "data": {
      "text/plain": [
       " 1.0    103557\n",
       "-1.0    103417\n",
       " 0.0      5724\n",
       "Name: sentiment, dtype: int64"
      ]
     },
     "execution_count": 56,
     "metadata": {},
     "output_type": "execute_result"
    }
   ],
   "source": [
    "vader_df['sentiment'].value_counts()"
   ]
  },
  {
   "cell_type": "code",
   "execution_count": 57,
   "metadata": {},
   "outputs": [
    {
     "name": "stderr",
     "output_type": "stream",
     "text": [
      "C:\\Users\\vanes\\anaconda3\\lib\\site-packages\\seaborn\\_decorators.py:36: FutureWarning: Pass the following variable as a keyword arg: x. From version 0.12, the only valid positional argument will be `data`, and passing other arguments without an explicit keyword will result in an error or misinterpretation.\n",
      "  warnings.warn(\n"
     ]
    },
    {
     "data": {
      "text/plain": [
       "<AxesSubplot:xlabel='sentiment', ylabel='count'>"
      ]
     },
     "execution_count": 57,
     "metadata": {},
     "output_type": "execute_result"
    },
    {
     "data": {
      "image/png": "[encoded data removed]",
      "text/plain": [
       "<Figure size 432x288 with 1 Axes>"
      ]
     },
     "metadata": {},
     "output_type": "display_data"
    }
   ],
   "source": [
    "sns.countplot(vader_df['sentiment'])"
   ]
  },
  {
   "cell_type": "markdown",
   "metadata": {},
   "source": [
    "<h3>Average Polarity (TextBlob and Vader)</h3>"
   ]
  },
  {
   "cell_type": "code",
   "execution_count": 58,
   "metadata": {},
   "outputs": [],
   "source": [
    "avg_df = df.copy()"
   ]
  },
  {
   "cell_type": "code",
   "execution_count": 59,
   "metadata": {},
   "outputs": [
    {
     "data": {
      "text/html": [
       "<div>\n",
       "<style scoped>\n",
       "    .dataframe tbody tr th:only-of-type {\n",
       "        vertical-align: middle;\n",
       "    }\n",
       "\n",
       "    .dataframe tbody tr th {\n",
       "        vertical-align: top;\n",
       "    }\n",
       "\n",
       "    .dataframe thead th {\n",
       "        text-align: right;\n",
       "    }\n",
       "</style>\n",
       "<table border=\"1\" class=\"dataframe\">\n",
       "  <thead>\n",
       "    <tr style=\"text-align: right;\">\n",
       "      <th></th>\n",
       "      <th>uniqueid</th>\n",
       "      <th>drugname</th>\n",
       "      <th>condition</th>\n",
       "      <th>review</th>\n",
       "      <th>rating</th>\n",
       "      <th>review_clean</th>\n",
       "    </tr>\n",
       "  </thead>\n",
       "  <tbody>\n",
       "    <tr>\n",
       "      <th>0</th>\n",
       "      <td>0</td>\n",
       "      <td>Medroxyprogesterone</td>\n",
       "      <td>Abnormal Uterine Bleeding</td>\n",
       "      <td>\"Been on the depo injection since January 2015...</td>\n",
       "      <td>3.0</td>\n",
       "      <td>depo injection since january bleeding stopped ...</td>\n",
       "    </tr>\n",
       "    <tr>\n",
       "      <th>1</th>\n",
       "      <td>2</td>\n",
       "      <td>Medroxyprogesterone</td>\n",
       "      <td>Amenorrhea</td>\n",
       "      <td>\"I&amp;#039;m 21 years old and recently found out ...</td>\n",
       "      <td>10.0</td>\n",
       "      <td>im year old recently found might pcos havent g...</td>\n",
       "    </tr>\n",
       "  </tbody>\n",
       "</table>\n",
       "</div>"
      ],
      "text/plain": [
       "   uniqueid             drugname                  condition  \\\n",
       "0         0  Medroxyprogesterone  Abnormal Uterine Bleeding   \n",
       "1         2  Medroxyprogesterone                 Amenorrhea   \n",
       "\n",
       "                                              review  rating  \\\n",
       "0  \"Been on the depo injection since January 2015...     3.0   \n",
       "1  \"I&#039;m 21 years old and recently found out ...    10.0   \n",
       "\n",
       "                                        review_clean  \n",
       "0  depo injection since january bleeding stopped ...  \n",
       "1  im year old recently found might pcos havent g...  "
      ]
     },
     "execution_count": 59,
     "metadata": {},
     "output_type": "execute_result"
    }
   ],
   "source": [
    "avg_df.head(2)"
   ]
  },
  {
   "cell_type": "code",
   "execution_count": 60,
   "metadata": {},
   "outputs": [],
   "source": [
    "avg_df['tb_pol'] = textblob_df[\"polarity\"]\n",
    "avg_df['vd_pol'] = vader_df[\"v_polarity\"]"
   ]
  },
  {
   "cell_type": "code",
   "execution_count": 61,
   "metadata": {},
   "outputs": [],
   "source": [
    "avg_df['polarity'] = avg_df[['tb_pol', 'vd_pol']].mean(axis=1)"
   ]
  },
  {
   "cell_type": "code",
   "execution_count": 62,
   "metadata": {},
   "outputs": [
    {
     "data": {
      "text/html": [
       "<div>\n",
       "<style scoped>\n",
       "    .dataframe tbody tr th:only-of-type {\n",
       "        vertical-align: middle;\n",
       "    }\n",
       "\n",
       "    .dataframe tbody tr th {\n",
       "        vertical-align: top;\n",
       "    }\n",
       "\n",
       "    .dataframe thead th {\n",
       "        text-align: right;\n",
       "    }\n",
       "</style>\n",
       "<table border=\"1\" class=\"dataframe\">\n",
       "  <thead>\n",
       "    <tr style=\"text-align: right;\">\n",
       "      <th></th>\n",
       "      <th>uniqueid</th>\n",
       "      <th>drugname</th>\n",
       "      <th>condition</th>\n",
       "      <th>review</th>\n",
       "      <th>rating</th>\n",
       "      <th>review_clean</th>\n",
       "      <th>tb_pol</th>\n",
       "      <th>vd_pol</th>\n",
       "      <th>polarity</th>\n",
       "    </tr>\n",
       "  </thead>\n",
       "  <tbody>\n",
       "    <tr>\n",
       "      <th>0</th>\n",
       "      <td>0</td>\n",
       "      <td>Medroxyprogesterone</td>\n",
       "      <td>Abnormal Uterine Bleeding</td>\n",
       "      <td>\"Been on the depo injection since January 2015...</td>\n",
       "      <td>3.0</td>\n",
       "      <td>depo injection since january bleeding stopped ...</td>\n",
       "      <td>-0.160714</td>\n",
       "      <td>-0.5024</td>\n",
       "      <td>-0.331557</td>\n",
       "    </tr>\n",
       "    <tr>\n",
       "      <th>1</th>\n",
       "      <td>2</td>\n",
       "      <td>Medroxyprogesterone</td>\n",
       "      <td>Amenorrhea</td>\n",
       "      <td>\"I&amp;#039;m 21 years old and recently found out ...</td>\n",
       "      <td>10.0</td>\n",
       "      <td>im year old recently found might pcos havent g...</td>\n",
       "      <td>0.186429</td>\n",
       "      <td>0.7650</td>\n",
       "      <td>0.475714</td>\n",
       "    </tr>\n",
       "    <tr>\n",
       "      <th>2</th>\n",
       "      <td>3</td>\n",
       "      <td>Medroxyprogesterone</td>\n",
       "      <td>Abnormal Uterine Bleeding</td>\n",
       "      <td>\"I have been on the shot 11 years and until a ...</td>\n",
       "      <td>8.0</td>\n",
       "      <td>shot year month ago never period even spotting...</td>\n",
       "      <td>-0.075000</td>\n",
       "      <td>-0.1779</td>\n",
       "      <td>-0.126450</td>\n",
       "    </tr>\n",
       "  </tbody>\n",
       "</table>\n",
       "</div>"
      ],
      "text/plain": [
       "   uniqueid             drugname                  condition  \\\n",
       "0         0  Medroxyprogesterone  Abnormal Uterine Bleeding   \n",
       "1         2  Medroxyprogesterone                 Amenorrhea   \n",
       "2         3  Medroxyprogesterone  Abnormal Uterine Bleeding   \n",
       "\n",
       "                                              review  rating  \\\n",
       "0  \"Been on the depo injection since January 2015...     3.0   \n",
       "1  \"I&#039;m 21 years old and recently found out ...    10.0   \n",
       "2  \"I have been on the shot 11 years and until a ...     8.0   \n",
       "\n",
       "                                        review_clean    tb_pol  vd_pol  \\\n",
       "0  depo injection since january bleeding stopped ... -0.160714 -0.5024   \n",
       "1  im year old recently found might pcos havent g...  0.186429  0.7650   \n",
       "2  shot year month ago never period even spotting... -0.075000 -0.1779   \n",
       "\n",
       "   polarity  \n",
       "0 -0.331557  \n",
       "1  0.475714  \n",
       "2 -0.126450  "
      ]
     },
     "execution_count": 62,
     "metadata": {},
     "output_type": "execute_result"
    }
   ],
   "source": [
    "avg_df.head(3)"
   ]
  },
  {
   "cell_type": "code",
   "execution_count": 63,
   "metadata": {},
   "outputs": [
    {
     "data": {
      "text/plain": [
       "array([[1.        , 0.34819486],\n",
       "       [0.34819486, 1.        ]])"
      ]
     },
     "execution_count": 63,
     "metadata": {},
     "output_type": "execute_result"
    }
   ],
   "source": [
    "np.corrcoef(avg_df[\"rating\"], avg_df[\"polarity\"])"
   ]
  },
  {
   "cell_type": "code",
   "execution_count": 64,
   "metadata": {},
   "outputs": [
    {
     "name": "stderr",
     "output_type": "stream",
     "text": [
      "C:\\Users\\vanes\\anaconda3\\lib\\site-packages\\seaborn\\distributions.py:2557: FutureWarning: `distplot` is a deprecated function and will be removed in a future version. Please adapt your code to use either `displot` (a figure-level function with similar flexibility) or `histplot` (an axes-level function for histograms).\n",
      "  warnings.warn(msg, FutureWarning)\n"
     ]
    },
    {
     "data": {
      "text/plain": [
       "Text(0.5, 1.0, 'Average Polarity Distribution')"
      ]
     },
     "execution_count": 64,
     "metadata": {},
     "output_type": "execute_result"
    },
    {
     "data": {
      "image/png": "[encoded data removed]",
      "text/plain": [
       "<Figure size 432x432 with 1 Axes>"
      ]
     },
     "metadata": {},
     "output_type": "display_data"
    }
   ],
   "source": [
    "plt.figure(figsize=(6,6))\n",
    "sns.set_style('white')\n",
    "sns.distplot(avg_df['polarity'])\n",
    "plt.box(False)\n",
    "plt.title(\"Average Polarity Distribution\", fontsize=18)"
   ]
  },
  {
   "cell_type": "code",
   "execution_count": 65,
   "metadata": {},
   "outputs": [],
   "source": [
    "#avg_df['sentiment'] = pd.qcut(avg_df['polarity'], 2, labels = [0, 1])\n",
    "\n",
    "avg_df.loc[(avg_df['polarity'] > 0), 'sentiment'] = 1\n",
    "avg_df.loc[(avg_df['polarity'] == 0 ), 'sentiment'] = 0\n",
    "avg_df.loc[(avg_df['polarity'] < 0), 'sentiment'] = -1"
   ]
  },
  {
   "cell_type": "code",
   "execution_count": 66,
   "metadata": {},
   "outputs": [
    {
     "data": {
      "text/html": [
       "<div>\n",
       "<style scoped>\n",
       "    .dataframe tbody tr th:only-of-type {\n",
       "        vertical-align: middle;\n",
       "    }\n",
       "\n",
       "    .dataframe tbody tr th {\n",
       "        vertical-align: top;\n",
       "    }\n",
       "\n",
       "    .dataframe thead th {\n",
       "        text-align: right;\n",
       "    }\n",
       "</style>\n",
       "<table border=\"1\" class=\"dataframe\">\n",
       "  <thead>\n",
       "    <tr style=\"text-align: right;\">\n",
       "      <th></th>\n",
       "      <th>uniqueid</th>\n",
       "      <th>drugname</th>\n",
       "      <th>condition</th>\n",
       "      <th>review</th>\n",
       "      <th>rating</th>\n",
       "      <th>review_clean</th>\n",
       "      <th>tb_pol</th>\n",
       "      <th>vd_pol</th>\n",
       "      <th>polarity</th>\n",
       "      <th>sentiment</th>\n",
       "    </tr>\n",
       "  </thead>\n",
       "  <tbody>\n",
       "    <tr>\n",
       "      <th>0</th>\n",
       "      <td>0</td>\n",
       "      <td>Medroxyprogesterone</td>\n",
       "      <td>Abnormal Uterine Bleeding</td>\n",
       "      <td>\"Been on the depo injection since January 2015...</td>\n",
       "      <td>3.0</td>\n",
       "      <td>depo injection since january bleeding stopped ...</td>\n",
       "      <td>-0.160714</td>\n",
       "      <td>-0.5024</td>\n",
       "      <td>-0.331557</td>\n",
       "      <td>-1.0</td>\n",
       "    </tr>\n",
       "    <tr>\n",
       "      <th>1</th>\n",
       "      <td>2</td>\n",
       "      <td>Medroxyprogesterone</td>\n",
       "      <td>Amenorrhea</td>\n",
       "      <td>\"I&amp;#039;m 21 years old and recently found out ...</td>\n",
       "      <td>10.0</td>\n",
       "      <td>im year old recently found might pcos havent g...</td>\n",
       "      <td>0.186429</td>\n",
       "      <td>0.7650</td>\n",
       "      <td>0.475714</td>\n",
       "      <td>1.0</td>\n",
       "    </tr>\n",
       "    <tr>\n",
       "      <th>2</th>\n",
       "      <td>3</td>\n",
       "      <td>Medroxyprogesterone</td>\n",
       "      <td>Abnormal Uterine Bleeding</td>\n",
       "      <td>\"I have been on the shot 11 years and until a ...</td>\n",
       "      <td>8.0</td>\n",
       "      <td>shot year month ago never period even spotting...</td>\n",
       "      <td>-0.075000</td>\n",
       "      <td>-0.1779</td>\n",
       "      <td>-0.126450</td>\n",
       "      <td>-1.0</td>\n",
       "    </tr>\n",
       "  </tbody>\n",
       "</table>\n",
       "</div>"
      ],
      "text/plain": [
       "   uniqueid             drugname                  condition  \\\n",
       "0         0  Medroxyprogesterone  Abnormal Uterine Bleeding   \n",
       "1         2  Medroxyprogesterone                 Amenorrhea   \n",
       "2         3  Medroxyprogesterone  Abnormal Uterine Bleeding   \n",
       "\n",
       "                                              review  rating  \\\n",
       "0  \"Been on the depo injection since January 2015...     3.0   \n",
       "1  \"I&#039;m 21 years old and recently found out ...    10.0   \n",
       "2  \"I have been on the shot 11 years and until a ...     8.0   \n",
       "\n",
       "                                        review_clean    tb_pol  vd_pol  \\\n",
       "0  depo injection since january bleeding stopped ... -0.160714 -0.5024   \n",
       "1  im year old recently found might pcos havent g...  0.186429  0.7650   \n",
       "2  shot year month ago never period even spotting... -0.075000 -0.1779   \n",
       "\n",
       "   polarity  sentiment  \n",
       "0 -0.331557       -1.0  \n",
       "1  0.475714        1.0  \n",
       "2 -0.126450       -1.0  "
      ]
     },
     "execution_count": 66,
     "metadata": {},
     "output_type": "execute_result"
    }
   ],
   "source": [
    "avg_df.head(3)"
   ]
  },
  {
   "cell_type": "code",
   "execution_count": 67,
   "metadata": {},
   "outputs": [
    {
     "data": {
      "text/plain": [
       " 1.0    109101\n",
       "-1.0    100917\n",
       " 0.0      2680\n",
       "Name: sentiment, dtype: int64"
      ]
     },
     "execution_count": 67,
     "metadata": {},
     "output_type": "execute_result"
    }
   ],
   "source": [
    "avg_df['sentiment'].value_counts()"
   ]
  },
  {
   "cell_type": "code",
   "execution_count": 68,
   "metadata": {},
   "outputs": [
    {
     "name": "stderr",
     "output_type": "stream",
     "text": [
      "C:\\Users\\vanes\\anaconda3\\lib\\site-packages\\seaborn\\_decorators.py:36: FutureWarning: Pass the following variable as a keyword arg: x. From version 0.12, the only valid positional argument will be `data`, and passing other arguments without an explicit keyword will result in an error or misinterpretation.\n",
      "  warnings.warn(\n"
     ]
    },
    {
     "data": {
      "text/plain": [
       "<AxesSubplot:xlabel='sentiment', ylabel='count'>"
      ]
     },
     "execution_count": 68,
     "metadata": {},
     "output_type": "execute_result"
    },
    {
     "data": {
      "image/png": "[encoded data removed]",
      "text/plain": [
       "<Figure size 432x288 with 1 Axes>"
      ]
     },
     "metadata": {},
     "output_type": "display_data"
    }
   ],
   "source": [
    "sns.countplot(avg_df['sentiment'])"
   ]
  },
  {
   "cell_type": "markdown",
   "metadata": {},
   "source": [
    "# Splitting the Data"
   ]
  },
  {
   "cell_type": "code",
   "execution_count": 100,
   "metadata": {},
   "outputs": [],
   "source": [
    "df['tb_sentiment'] = textblob_df['sentiment']\n",
    "df['vd_sentiment'] = vader_df['sentiment']\n",
    "df['sentiment'] = avg_df['sentiment']"
   ]
  },
  {
   "cell_type": "markdown",
   "metadata": {},
   "source": [
    "Everything past this step is repeated multiple times. Data Collected is manually entered within Assessing_Results.ipynb to undergo further evaluation. Some of the steps take mintues to accomplish and as such it was run multiple time on different occations"
   ]
  },
  {
   "cell_type": "code",
   "execution_count": 101,
   "metadata": {},
   "outputs": [],
   "source": [
    "from sklearn.model_selection import train_test_split\n",
    "train, test = train_test_split(df,test_size=0.30, shuffle = True)"
   ]
  },
  {
   "cell_type": "code",
   "execution_count": 102,
   "metadata": {},
   "outputs": [],
   "source": [
    "X_train = train.review_clean\n",
    "X_test = test.review_clean\n",
    "Y_train =  train.sentiment\n",
    "Y_test = test.sentiment"
   ]
  },
  {
   "cell_type": "code",
   "execution_count": 103,
   "metadata": {},
   "outputs": [
    {
     "name": "stdout",
     "output_type": "stream",
     "text": [
      "Train data shape  (148888,) (148888,)\n",
      "Test data shape  (63810,) (63810,)\n"
     ]
    }
   ],
   "source": [
    "print('Train data shape ',X_train.shape,Y_train.shape)\n",
    "print('Test data shape ',X_test.shape,Y_test.shape)"
   ]
  },
  {
   "cell_type": "code",
   "execution_count": 104,
   "metadata": {},
   "outputs": [
    {
     "name": "stderr",
     "output_type": "stream",
     "text": [
      "C:\\Users\\vanes\\anaconda3\\lib\\site-packages\\seaborn\\_decorators.py:36: FutureWarning: Pass the following variable as a keyword arg: x. From version 0.12, the only valid positional argument will be `data`, and passing other arguments without an explicit keyword will result in an error or misinterpretation.\n",
      "  warnings.warn(\n"
     ]
    },
    {
     "data": {
      "text/plain": [
       "<AxesSubplot:xlabel='sentiment', ylabel='count'>"
      ]
     },
     "execution_count": 104,
     "metadata": {},
     "output_type": "execute_result"
    },
    {
     "data": {
      "image/png": "[encoded data removed]",
      "text/plain": [
       "<Figure size 432x288 with 1 Axes>"
      ]
     },
     "metadata": {},
     "output_type": "display_data"
    }
   ],
   "source": [
    "sns.countplot(train.sentiment)"
   ]
  },
  {
   "cell_type": "markdown",
   "metadata": {},
   "source": [
    "# Modelling and Feature Engineering "
   ]
  },
  {
   "cell_type": "markdown",
   "metadata": {},
   "source": [
    "<h3>Term Frequency/Count Vectorizer</h3>"
   ]
  },
  {
   "cell_type": "code",
   "execution_count": 105,
   "metadata": {},
   "outputs": [],
   "source": [
    "from sklearn.feature_extraction.text import CountVectorizer\n",
    "cv = CountVectorizer()#min_df = 0.005, max_df = 0.50"
   ]
  },
  {
   "cell_type": "code",
   "execution_count": 123,
   "metadata": {},
   "outputs": [],
   "source": [
    "#Vectorizing the text data\n",
    "X_train_dtm = cv.fit_transform(X_train)\n",
    "X_test_dtm = cv.transform(X_test)"
   ]
  },
  {
   "cell_type": "code",
   "execution_count": 124,
   "metadata": {},
   "outputs": [
    {
     "data": {
      "text/plain": [
       "(148888, 41213)"
      ]
     },
     "execution_count": 124,
     "metadata": {},
     "output_type": "execute_result"
    }
   ],
   "source": [
    "X_train_dtm.shape"
   ]
  },
  {
   "cell_type": "code",
   "execution_count": 125,
   "metadata": {},
   "outputs": [],
   "source": [
    "#Balencing the dataset\n",
    "oversample = SMOTE(random_state = 1)\n",
    "undersample = RandomUnderSampler()\n",
    "steps = [(\"o\", oversample), (\"u\", undersample)]\n",
    "pipeline = Pipeline(steps=steps)\n",
    "X_train_dtm, Y_train = pipeline.fit_resample(X_train_dtm,Y_train)"
   ]
  },
  {
   "cell_type": "code",
   "execution_count": 126,
   "metadata": {},
   "outputs": [
    {
     "name": "stdout",
     "output_type": "stream",
     "text": [
      "Class: -1.0, n: 76243, (33.33333333333333%)\n",
      "Class: 0.0, n: 76243, (33.33333333333333%)\n",
      "Class: 1.0, n: 76243, (33.33333333333333%)\n"
     ]
    }
   ],
   "source": [
    "counter = Counter(Y_train) #Change Y_train_'dtm'\n",
    "for k, v in counter.items():\n",
    "    dist = v / len(Y_train)*100\n",
    "    print(f\"Class: {k}, n: {v}, ({dist}%)\")"
   ]
  },
  {
   "cell_type": "code",
   "execution_count": 127,
   "metadata": {},
   "outputs": [
    {
     "name": "stdout",
     "output_type": "stream",
     "text": [
      "Train data shape  (228729, 41213) (228729,)\n",
      "Test data shape  (63810, 41213) (63810,)\n"
     ]
    }
   ],
   "source": [
    "print('Train data shape ',X_train_dtm.shape,Y_train.shape)#Change Y_train_dtm\n",
    "print('Test data shape ',X_test_dtm.shape,Y_test.shape)"
   ]
  },
  {
   "cell_type": "markdown",
   "metadata": {},
   "source": [
    "<h4>Multinomial Naive Bayes</h4>"
   ]
  },
  {
   "cell_type": "code",
   "execution_count": 97,
   "metadata": {},
   "outputs": [],
   "source": [
    "from sklearn.naive_bayes import MultinomialNB #import MultinomialNB\n",
    "from sklearn.metrics import classification_report, confusion_matrix #import confusion_matrix\n",
    "from sklearn import model_selection   \n",
    "from sklearn.model_selection import cross_validate\n",
    "from sklearn.metrics import classification_report\n",
    "from sklearn import metrics\n",
    "from sklearn.metrics import confusion_matrix\n",
    "import sklearn.model_selection\n",
    "from sklearn.model_selection import cross_val_score"
   ]
  },
  {
   "cell_type": "code",
   "execution_count": 153,
   "metadata": {},
   "outputs": [],
   "source": [
    "nb_dtm = MultinomialNB().fit(X_train_dtm, Y_train) #fit the training data\n",
    "pred = nb_dtm.predict(X_test_dtm)"
   ]
  },
  {
   "cell_type": "code",
   "execution_count": 154,
   "metadata": {},
   "outputs": [
    {
     "name": "stdout",
     "output_type": "stream",
     "text": [
      "Accuracy: 0.7723084156088388\n",
      "Confusion Matrix\n",
      "[[23421   160  7287]\n",
      " [   83   449   160]\n",
      " [ 6651   188 25411]]\n"
     ]
    }
   ],
   "source": [
    "print(\"Accuracy: %s\" % str(nb_dtm.score(X_test_dtm, Y_test))) #check accuracy\n",
    "print(\"Confusion Matrix\") \n",
    "print(confusion_matrix(pred, Y_test))"
   ]
  },
  {
   "cell_type": "code",
   "execution_count": 155,
   "metadata": {},
   "outputs": [
    {
     "name": "stdout",
     "output_type": "stream",
     "text": [
      "              precision    recall  f1-score   support\n",
      "\n",
      "        -1.0       0.76      0.78      0.77     30155\n",
      "         0.0       0.65      0.56      0.60       797\n",
      "         1.0       0.79      0.77      0.78     32858\n",
      "\n",
      "    accuracy                           0.77     63810\n",
      "   macro avg       0.73      0.70      0.72     63810\n",
      "weighted avg       0.77      0.77      0.77     63810\n",
      "\n"
     ]
    }
   ],
   "source": [
    "print(classification_report(Y_test, pred))"
   ]
  },
  {
   "cell_type": "code",
   "execution_count": 146,
   "metadata": {},
   "outputs": [
    {
     "name": "stdout",
     "output_type": "stream",
     "text": [
      "Accuracies: [0.82717615 0.82918725 0.82647663 0.762165   0.75836139 0.76089713\n",
      " 0.75477637 0.76006645 0.75412058 0.73600909]\n",
      "\n",
      "Precisions: [0.8319778  0.83373522 0.83137917 0.79167846 0.78948738 0.79144366\n",
      " 0.78734281 0.79004108 0.7852953  0.74997466]\n",
      "\n",
      "Recall: [0.82717853 0.82918956 0.82647888 0.76216631 0.75836309 0.76089845\n",
      " 0.75477577 0.76006576 0.75411998 0.73600909]\n",
      "\n",
      "F1 Score: [0.82915287 0.83107578 0.8284934  0.76801995 0.7641611  0.7669292\n",
      " 0.7609362  0.76605103 0.76033913 0.73977163]\n"
     ]
    }
   ],
   "source": [
    "accuracies = cross_val_score(estimator = nb_dtm, X = X_train_dtm, y = Y_train, cv = 10, scoring = 'accuracy')\n",
    "precision = cross_val_score(estimator = nb_dtm, X = X_train_dtm, y = Y_train, scoring=\"precision_macro\", cv = 10)\n",
    "recall = cross_val_score(estimator = nb_dtm, X = X_train_dtm, y = Y_train, scoring=\"recall_macro\", cv = 10)\n",
    "f1 = cross_val_score(estimator = nb_dtm, X = X_train_dtm, y = Y_train, scoring=\"f1_macro\", cv = 10)\n",
    "\n",
    "print(\"Accuracies:\", accuracies)\n",
    "print()\n",
    "print(\"Precisions:\", precision)\n",
    "print()\n",
    "print(\"Recall:\", recall)\n",
    "print()\n",
    "print(\"F1 Score:\", f1)"
   ]
  },
  {
   "cell_type": "markdown",
   "metadata": {},
   "source": [
    "<h4>Decision Trees</h4>"
   ]
  },
  {
   "cell_type": "code",
   "execution_count": 81,
   "metadata": {},
   "outputs": [],
   "source": [
    "from sklearn.tree import DecisionTreeClassifier"
   ]
  },
  {
   "cell_type": "code",
   "execution_count": 256,
   "metadata": {},
   "outputs": [
    {
     "data": {
      "text/plain": [
       "DecisionTreeClassifier()"
      ]
     },
     "execution_count": 256,
     "metadata": {},
     "output_type": "execute_result"
    }
   ],
   "source": [
    "dt_dtm = DecisionTreeClassifier()\n",
    "dt_dtm.fit(X_train_dtm, Y_train)"
   ]
  },
  {
   "cell_type": "code",
   "execution_count": 257,
   "metadata": {},
   "outputs": [
    {
     "name": "stdout",
     "output_type": "stream",
     "text": [
      "Accuracy: 0.8536593010499922\n",
      "Confusion Matrix\n",
      "[[23333   185  7246]\n",
      " [   60   439   129]\n",
      " [ 6713   210 25495]]\n"
     ]
    }
   ],
   "source": [
    "print(\"Accuracy: %s\" % str(dt_dtm.score(X_test_dtm, Y_test))) #check accuracy\n",
    "print(\"Confusion Matrix\") \n",
    "print(confusion_matrix(pred, Y_test))"
   ]
  },
  {
   "cell_type": "code",
   "execution_count": 258,
   "metadata": {},
   "outputs": [
    {
     "name": "stdout",
     "output_type": "stream",
     "text": [
      "717\n"
     ]
    }
   ],
   "source": [
    "print(dt_dtm.tree_.max_depth)"
   ]
  },
  {
   "cell_type": "markdown",
   "metadata": {},
   "source": [
    "Hypertuning the Decision Tree - viewing the best max_depth for the tree"
   ]
  },
  {
   "cell_type": "code",
   "execution_count": 259,
   "metadata": {},
   "outputs": [
    {
     "data": {
      "image/png": "[encoded data removed]",
      "text/plain": [
       "<Figure size 432x288 with 1 Axes>"
      ]
     },
     "metadata": {},
     "output_type": "display_data"
    }
   ],
   "source": [
    "from sklearn.model_selection import validation_curve\n",
    "\n",
    "param_range = [1,2,3,4,5,6,7,8,9,10,11,12,13,14,15,20,30,40,50,75,100]\n",
    "\n",
    "train_scores, valid_scores = validation_curve(estimator = DecisionTreeClassifier(random_state=1), X= X_train_dtm, y = Y_train, \n",
    "                                              param_name = \"max_depth\", param_range = param_range, \n",
    "                                              scoring='neg_mean_squared_error', cv=3)\n",
    "train_scores = np.sqrt(np.abs(train_scores))\n",
    "valid_scores = np.sqrt(np.abs(valid_scores))\n",
    "\n",
    "train_scores_mean = np.mean(train_scores, axis=1)\n",
    "valid_scores_mean = np.mean(valid_scores, axis=1)\n",
    "\n",
    "plt.title(\"Validation Curve with DT\")\n",
    "plt.xlabel(\"max_depth\")\n",
    "plt.ylabel(\"RMSE\")\n",
    "plt.plot(param_range, train_scores_mean, label=\"train rmse\")\n",
    "plt.plot(param_range, valid_scores_mean, label=\"validation rmse\")\n",
    "\n",
    "plt.legend()\n",
    "plt.show()"
   ]
  },
  {
   "cell_type": "code",
   "execution_count": 85,
   "metadata": {},
   "outputs": [
    {
     "data": {
      "image/png": "[encoded data removed]",
      "text/plain": [
       "<Figure size 432x288 with 1 Axes>"
      ]
     },
     "metadata": {},
     "output_type": "display_data"
    }
   ],
   "source": [
    "from sklearn.model_selection import validation_curve\n",
    "param_range = [1,2,3,4,5,6,7,8,9,10,11,12,13,14,15,20,30,40,50,75,100]\n",
    "\n",
    "train_scores, valid_scores = validation_curve(estimator = DecisionTreeClassifier(random_state=1), X= X_train_dtm, y = Y_train, \n",
    "                                              param_name = \"max_depth\", param_range = param_range, \n",
    "                                           scoring='accuracy', cv=3)\n",
    "train_scores = np.sqrt(np.abs(train_scores))\n",
    "valid_scores = np.sqrt(np.abs(valid_scores))\n",
    "\n",
    "train_scores_mean = np.mean(train_scores, axis=1)\n",
    "valid_scores_mean = np.mean(valid_scores, axis=1)\n",
    "\n",
    "plt.title(\"Validation Curve with DT\")\n",
    "plt.xlabel(\"max_depth\")\n",
    "plt.ylabel(\"Accuracy\")\n",
    "plt.plot(param_range, train_scores_mean, label=\"training accuracy\")\n",
    "plt.plot(param_range, valid_scores_mean, label=\"validation accuracy\")\n",
    "\n",
    "plt.legend()\n",
    "plt.show()"
   ]
  },
  {
   "cell_type": "code",
   "execution_count": 86,
   "metadata": {},
   "outputs": [
    {
     "name": "stdout",
     "output_type": "stream",
     "text": [
      "Average score(20): 0.770\n",
      "Average score(22): 0.780\n",
      "Average score(24): 0.788\n",
      "Average score(26): 0.794\n",
      "Average score(28): 0.800\n",
      "Average score(30): 0.805\n",
      "Average score(32): 0.810\n",
      "Average score(34): 0.813\n",
      "Average score(36): 0.818\n"
     ]
    }
   ],
   "source": [
    "#using cross fold validation to see wchin max_depth has the best accuarcy \n",
    "max_depth = [20, 22, 24, 26, 28, 30, 32, 34, 36]\n",
    "\n",
    "for val in max_depth:\n",
    "    score = cross_val_score(DecisionTreeClassifier(max_depth= val, random_state= 42), X_train_dtm, \n",
    "                            Y_train, cv= 3, scoring=\"accuracy\")\n",
    "    print(f'Average score({val}): {\"{:.3f}\".format(score.mean())}')"
   ]
  },
  {
   "cell_type": "code",
   "execution_count": 86,
   "metadata": {},
   "outputs": [
    {
     "data": {
      "text/plain": [
       "DecisionTreeClassifier(max_depth=32)"
      ]
     },
     "execution_count": 86,
     "metadata": {},
     "output_type": "execute_result"
    }
   ],
   "source": [
    "#Testing out the best parameters\n",
    "dt_dtm = DecisionTreeClassifier(max_depth = 32)\n",
    "dt_dtm.fit(X_train_dtm, Y_train)"
   ]
  },
  {
   "cell_type": "code",
   "execution_count": 87,
   "metadata": {},
   "outputs": [],
   "source": [
    "pred = dt_dtm.predict(X_test_dtm)"
   ]
  },
  {
   "cell_type": "code",
   "execution_count": 88,
   "metadata": {},
   "outputs": [
    {
     "name": "stdout",
     "output_type": "stream",
     "text": [
      "Accuracy: 0.7601786553831688\n",
      "Confusion Matrix\n",
      "[[22744    73  5720]\n",
      " [ 1543   628  1836]\n",
      " [ 6061    70 25135]]\n"
     ]
    }
   ],
   "source": [
    "print(\"Accuracy: %s\" % str(dt_dtm.score(X_test_dtm, Y_test))) #check accuracy\n",
    "print(\"Confusion Matrix\") \n",
    "print(confusion_matrix(pred, Y_test))"
   ]
  },
  {
   "cell_type": "code",
   "execution_count": 91,
   "metadata": {
    "scrolled": true
   },
   "outputs": [
    {
     "name": "stdout",
     "output_type": "stream",
     "text": [
      "              precision    recall  f1-score   support\n",
      "\n",
      "        -1.0       0.80      0.74      0.77     30290\n",
      "         0.0       0.16      0.81      0.26       773\n",
      "         1.0       0.80      0.77      0.78     32747\n",
      "\n",
      "    accuracy                           0.76     63810\n",
      "   macro avg       0.58      0.77      0.60     63810\n",
      "weighted avg       0.79      0.76      0.77     63810\n",
      "\n"
     ]
    }
   ],
   "source": [
    "from sklearn.metrics import classification_report\n",
    "from sklearn import metrics\n",
    "\n",
    "print(classification_report(Y_test, pred))"
   ]
  },
  {
   "cell_type": "code",
   "execution_count": 97,
   "metadata": {},
   "outputs": [
    {
     "name": "stdout",
     "output_type": "stream",
     "text": [
      "[0.8296154  0.83109966 0.82995722 0.82659565 0.82716319 0.83135423\n",
      " 0.82921505 0.82629006 0.83200908 0.77905352]\n"
     ]
    }
   ],
   "source": [
    "#Preforming 10-fold Cross validation\n",
    "accuracies = cross_val_score(estimator = dt_dtm, X = X_train_dtm, y = Y_train, cv = 10, scoring = 'accuracy')\n",
    "print(accuracies)"
   ]
  },
  {
   "cell_type": "code",
   "execution_count": 98,
   "metadata": {},
   "outputs": [
    {
     "data": {
      "text/plain": [
       "0.8242353064041505"
      ]
     },
     "execution_count": 98,
     "metadata": {},
     "output_type": "execute_result"
    }
   ],
   "source": [
    "accuracies.mean()"
   ]
  },
  {
   "cell_type": "code",
   "execution_count": 99,
   "metadata": {},
   "outputs": [
    {
     "name": "stdout",
     "output_type": "stream",
     "text": [
      "[0.82649523 0.82936238 0.82744577 0.82371043 0.82359563 0.82652308\n",
      " 0.82637308 0.82459331 0.82845765 0.77996449]\n"
     ]
    }
   ],
   "source": [
    "precision = cross_val_score(estimator = dt_dtm, X = X_train_dtm, y = Y_train, scoring=\"precision_macro\", cv = 10)\n",
    "print(precision)"
   ]
  },
  {
   "cell_type": "code",
   "execution_count": 100,
   "metadata": {},
   "outputs": [
    {
     "data": {
      "text/plain": [
       "0.8216521036472265"
      ]
     },
     "execution_count": 100,
     "metadata": {},
     "output_type": "execute_result"
    }
   ],
   "source": [
    "precision.mean()"
   ]
  },
  {
   "cell_type": "code",
   "execution_count": 101,
   "metadata": {},
   "outputs": [
    {
     "name": "stdout",
     "output_type": "stream",
     "text": [
      "[0.82962232 0.83154307 0.82904475 0.82603214 0.82514788 0.83016854\n",
      " 0.83069242 0.82798562 0.83166276 0.78106219]\n"
     ]
    }
   ],
   "source": [
    "recall = cross_val_score(estimator = dt_dtm, X = X_train_dtm, y = Y_train, scoring=\"recall_macro\", cv = 10)\n",
    "print(recall)"
   ]
  },
  {
   "cell_type": "code",
   "execution_count": 102,
   "metadata": {},
   "outputs": [
    {
     "data": {
      "text/plain": [
       "0.824296169902125"
      ]
     },
     "execution_count": 102,
     "metadata": {},
     "output_type": "execute_result"
    }
   ],
   "source": [
    "recall.mean()"
   ]
  },
  {
   "cell_type": "code",
   "execution_count": 89,
   "metadata": {},
   "outputs": [
    {
     "name": "stdout",
     "output_type": "stream",
     "text": [
      "[0.8249809  0.82722766 0.82926719 0.82504334 0.82967537 0.82657598\n",
      " 0.82524355 0.82717308 0.82433287 0.76648865]\n"
     ]
    }
   ],
   "source": [
    "f1 = cross_val_score(estimator = dt_dtm, X = X_train_dtm, y = Y_train, scoring=\"f1_macro\", cv = 10)\n",
    "print(f1)"
   ]
  },
  {
   "cell_type": "code",
   "execution_count": 90,
   "metadata": {},
   "outputs": [
    {
     "data": {
      "text/plain": [
       "0.8206008594164409"
      ]
     },
     "execution_count": 90,
     "metadata": {},
     "output_type": "execute_result"
    }
   ],
   "source": [
    "f1.mean()"
   ]
  },
  {
   "cell_type": "markdown",
   "metadata": {},
   "source": [
    "<h4>LR<h4>"
   ]
  },
  {
   "cell_type": "code",
   "execution_count": 86,
   "metadata": {},
   "outputs": [],
   "source": [
    "# make a prediction with a multinomial logistic regression model\n",
    "from sklearn.linear_model import LogisticRegression\n",
    "from sklearn.metrics import confusion_matrix"
   ]
  },
  {
   "cell_type": "code",
   "execution_count": 128,
   "metadata": {},
   "outputs": [],
   "source": [
    "lr_dtm = LogisticRegression(multi_class='multinomial', solver='lbfgs',  C=1.0, max_iter = 1000).fit(X_train_dtm, Y_train) \n",
    "pred = lr_dtm.predict(X_test_dtm)"
   ]
  },
  {
   "cell_type": "code",
   "execution_count": 129,
   "metadata": {},
   "outputs": [
    {
     "name": "stdout",
     "output_type": "stream",
     "text": [
      "Accuracy: 0.8915530481115812\n",
      "Confusion Matrix\n",
      "[[26943    43  3422]\n",
      " [  154   718   207]\n",
      " [ 3058    36 29229]]\n"
     ]
    }
   ],
   "source": [
    "print(\"Accuracy: %s\" % str(lr_dtm.score(X_test_dtm, Y_test))) #check accuracy\n",
    "print(\"Confusion Matrix\") \n",
    "print(confusion_matrix(pred, Y_test))"
   ]
  },
  {
   "cell_type": "code",
   "execution_count": 130,
   "metadata": {},
   "outputs": [
    {
     "name": "stdout",
     "output_type": "stream",
     "text": [
      "              precision    recall  f1-score   support\n",
      "\n",
      "        -1.0       0.89      0.89      0.89     30155\n",
      "         0.0       0.67      0.90      0.77       797\n",
      "         1.0       0.90      0.89      0.90     32858\n",
      "\n",
      "    accuracy                           0.89     63810\n",
      "   macro avg       0.82      0.89      0.85     63810\n",
      "weighted avg       0.89      0.89      0.89     63810\n",
      "\n"
     ]
    }
   ],
   "source": [
    "print(classification_report(Y_test, pred))"
   ]
  },
  {
   "cell_type": "code",
   "execution_count": 131,
   "metadata": {},
   "outputs": [
    {
     "name": "stdout",
     "output_type": "stream",
     "text": [
      "Accuracies: [0.92545796 0.9264198  0.92440869 0.92497705 0.92904298 0.9255454\n",
      " 0.92497705 0.92672583 0.92117344 0.85182756]\n",
      "Mean: 0.9180555756899492\n"
     ]
    }
   ],
   "source": [
    "accuracies = cross_val_score(estimator = lr_dtm, X = X_train_dtm, y = Y_train, cv = 10, scoring = 'accuracy')\n",
    "\n",
    "print(\"Accuracies:\", accuracies)\n",
    "print(\"Mean:\", accuracies.mean())"
   ]
  },
  {
   "cell_type": "code",
   "execution_count": 156,
   "metadata": {},
   "outputs": [
    {
     "name": "stdout",
     "output_type": "stream",
     "text": [
      "Precisions: [0.92516562 0.92613644 0.92408636 0.92464019 0.92880292 0.92526644\n",
      " 0.92467634 0.9264283  0.92087899 0.85560059]\n",
      "Mean: 0.9181682177858039\n"
     ]
    }
   ],
   "source": [
    "precision = cross_val_score(estimator = lr_dtm, X = X_train_dtm, y = Y_train, scoring=\"precision_macro\", cv = 10)\n",
    "\n",
    "print(\"Precisions:\", precision)\n",
    "print(\"Mean:\", precision.mean())"
   ]
  },
  {
   "cell_type": "code",
   "execution_count": 157,
   "metadata": {},
   "outputs": [
    {
     "name": "stdout",
     "output_type": "stream",
     "text": [
      "Recall: [0.92545945 0.92642121 0.92441018 0.92497387 0.92903999 0.92554231\n",
      " 0.92497869 0.92672765 0.92117506 0.85182756]\n",
      "Mean: 0.9180555977958591\n"
     ]
    }
   ],
   "source": [
    "recall = cross_val_score(estimator = lr_dtm, X = X_train_dtm, y = Y_train, scoring=\"recall_macro\", cv = 10)\n",
    "\n",
    "print(\"Recall:\", recall)\n",
    "print(\"Mean:\", recall.mean())"
   ]
  },
  {
   "cell_type": "code",
   "execution_count": 158,
   "metadata": {},
   "outputs": [
    {
     "name": "stdout",
     "output_type": "stream",
     "text": [
      "F1 Score: [0.92530005 0.92626316 0.92423402 0.92479288 0.92891088 0.92539452\n",
      " 0.92481467 0.92654627 0.92101736 0.84627945]\n",
      "Mean: 0.9173553249261861\n"
     ]
    }
   ],
   "source": [
    "f1 = cross_val_score(estimator = lr_dtm, X = X_train_dtm, y = Y_train, scoring=\"f1_macro\", cv = 10)\n",
    "\n",
    "print(\"F1 Score:\", f1)\n",
    "print(\"Mean:\", f1.mean())"
   ]
  },
  {
   "cell_type": "markdown",
   "metadata": {},
   "source": [
    "<h3>TF-IDF</h3>"
   ]
  },
  {
   "cell_type": "code",
   "execution_count": 74,
   "metadata": {},
   "outputs": [],
   "source": [
    "from sklearn.feature_extraction.text import TfidfVectorizer\n",
    "tfidf_vectorizer = TfidfVectorizer() "
   ]
  },
  {
   "cell_type": "code",
   "execution_count": 75,
   "metadata": {},
   "outputs": [],
   "source": [
    "X_train = train.review_clean\n",
    "X_test = test.review_clean\n",
    "Y_train =  train.sentiment\n",
    "Y_test = test.sentiment"
   ]
  },
  {
   "cell_type": "code",
   "execution_count": 76,
   "metadata": {},
   "outputs": [],
   "source": [
    "X_train_tfidf = tfidf_vectorizer.fit_transform(X_train)\n",
    "X_test_tfidf = tfidf_vectorizer.transform(X_test)"
   ]
  },
  {
   "cell_type": "code",
   "execution_count": 77,
   "metadata": {},
   "outputs": [
    {
     "data": {
      "text/plain": [
       "(148888, 41122)"
      ]
     },
     "execution_count": 77,
     "metadata": {},
     "output_type": "execute_result"
    }
   ],
   "source": [
    "X_train_tfidf.shape"
   ]
  },
  {
   "cell_type": "code",
   "execution_count": 78,
   "metadata": {},
   "outputs": [],
   "source": [
    "oversample = SMOTE(random_state = 1)\n",
    "undersample = RandomUnderSampler()\n",
    "steps = [(\"o\", oversample), (\"u\", undersample)]\n",
    "pipeline = Pipeline(steps=steps)\n",
    "X_train_tfidf, Y_train = pipeline.fit_resample(X_train_tfidf,Y_train)"
   ]
  },
  {
   "cell_type": "code",
   "execution_count": 79,
   "metadata": {},
   "outputs": [
    {
     "name": "stdout",
     "output_type": "stream",
     "text": [
      "Class: -1.0, n: 76483, (33.33333333333333%)\n",
      "Class: 0.0, n: 76483, (33.33333333333333%)\n",
      "Class: 1.0, n: 76483, (33.33333333333333%)\n"
     ]
    }
   ],
   "source": [
    "counter = Counter(Y_train) #Change Y_train_'dtm'\n",
    "for k, v in counter.items():\n",
    "    dist = v / len(Y_train)*100\n",
    "    print(f\"Class: {k}, n: {v}, ({dist}%)\")"
   ]
  },
  {
   "cell_type": "code",
   "execution_count": 80,
   "metadata": {},
   "outputs": [
    {
     "name": "stdout",
     "output_type": "stream",
     "text": [
      "Train data shape  (229449, 41122) (229449,)\n",
      "Test data shape  (63810, 41122) (63810,)\n"
     ]
    }
   ],
   "source": [
    "print('Train data shape ',X_train_tfidf.shape,Y_train.shape)\n",
    "print('Test data shape ',X_test_tfidf.shape,Y_test.shape)"
   ]
  },
  {
   "cell_type": "markdown",
   "metadata": {},
   "source": [
    "<h4>NB</h4>"
   ]
  },
  {
   "cell_type": "code",
   "execution_count": 108,
   "metadata": {},
   "outputs": [],
   "source": [
    "nb_tfidf = MultinomialNB().fit(X_train_tfidf, Y_train) #fit the training data\n",
    "pred = nb_tfidf.predict(X_test_tfidf)"
   ]
  },
  {
   "cell_type": "code",
   "execution_count": 109,
   "metadata": {},
   "outputs": [
    {
     "name": "stdout",
     "output_type": "stream",
     "text": [
      "Accuracy: 0.7716815546152641\n",
      "Confusion Matrix\n",
      "[[23624   119  7477]\n",
      " [  115   557   186]\n",
      " [ 6519   153 25060]]\n"
     ]
    }
   ],
   "source": [
    "print(\"Accuracy: %s\" % str(nb_tfidf.score(X_test_tfidf, Y_test))) #check accuracy\n",
    "print(\"Confusion Matrix\") \n",
    "print(confusion_matrix(pred, Y_test))"
   ]
  },
  {
   "cell_type": "code",
   "execution_count": 110,
   "metadata": {},
   "outputs": [
    {
     "name": "stdout",
     "output_type": "stream",
     "text": [
      "              precision    recall  f1-score   support\n",
      "\n",
      "        -1.0       0.76      0.78      0.77     30258\n",
      "         0.0       0.65      0.67      0.66       829\n",
      "         1.0       0.79      0.77      0.78     32723\n",
      "\n",
      "    accuracy                           0.77     63810\n",
      "   macro avg       0.73      0.74      0.74     63810\n",
      "weighted avg       0.77      0.77      0.77     63810\n",
      "\n"
     ]
    }
   ],
   "source": [
    "from sklearn.metrics import classification_report\n",
    "from sklearn import metrics\n",
    "\n",
    "print(classification_report(Y_test, pred))"
   ]
  },
  {
   "cell_type": "code",
   "execution_count": 112,
   "metadata": {},
   "outputs": [
    {
     "name": "stdout",
     "output_type": "stream",
     "text": [
      "Accuracies: [0.81020337 0.81578947 0.81496029 0.81386925 0.81023873 0.81621787\n",
      " 0.81320648 0.81215904 0.81573779 0.82437917] Mean: 0.8146761453219599\n",
      "\n",
      "Precisions: [0.81811826 0.82319269 0.82278482 0.82166906 0.81871878 0.82368018\n",
      " 0.82076681 0.8197051  0.82284686 0.83162482] Mean: 0.8223107372161653\n",
      "\n",
      "Recall: [0.81020337 0.81578947 0.81496029 0.81386925 0.8102366  0.81621532\n",
      " 0.81321015 0.81216271 0.81573617 0.82437864] Mean: 0.814676198615888\n",
      "\n",
      "F1 Score: [0.81309124 0.81854152 0.81784857 0.81669829 0.81327326 0.81892812\n",
      " 0.81599499 0.81496688 0.81841133 0.82682441] Mean: 0.8174578602684732\n"
     ]
    }
   ],
   "source": [
    "accuracies = cross_val_score(estimator = nb_tfidf, X = X_train_tfidf, y = Y_train, cv = 10, scoring = 'accuracy')\n",
    "precision = cross_val_score(estimator = nb_tfidf, X = X_train_tfidf, y = Y_train, scoring=\"precision_macro\", cv = 10)\n",
    "recall = cross_val_score(estimator = nb_tfidf, X = X_train_tfidf, y = Y_train, scoring=\"recall_macro\", cv = 10)\n",
    "f1 = cross_val_score(estimator = nb_tfidf, X = X_train_tfidf, y = Y_train, scoring=\"f1_macro\", cv = 10)\n",
    "\n",
    "print(\"Accuracies:\", accuracies, \"Mean:\", accuracies.mean())\n",
    "print()\n",
    "print(\"Precisions:\", precision, \"Mean:\", precision.mean())\n",
    "print()\n",
    "print(\"Recall:\", recall, \"Mean:\", recall.mean())\n",
    "print()\n",
    "print(\"F1 Score:\", f1, \"Mean:\", f1.mean())\n"
   ]
  },
  {
   "cell_type": "markdown",
   "metadata": {},
   "source": [
    "<h4>Decision Tree<h4>"
   ]
  },
  {
   "cell_type": "code",
   "execution_count": 113,
   "metadata": {},
   "outputs": [
    {
     "data": {
      "text/plain": [
       "DecisionTreeClassifier()"
      ]
     },
     "execution_count": 113,
     "metadata": {},
     "output_type": "execute_result"
    }
   ],
   "source": [
    "dt_tfidf = DecisionTreeClassifier()\n",
    "dt_tfidf.fit(X_train_tfidf, Y_train)"
   ]
  },
  {
   "cell_type": "code",
   "execution_count": 114,
   "metadata": {},
   "outputs": [],
   "source": [
    "pred = dt_tfidf.predict(X_test_tfidf)"
   ]
  },
  {
   "cell_type": "code",
   "execution_count": 116,
   "metadata": {},
   "outputs": [
    {
     "name": "stdout",
     "output_type": "stream",
     "text": [
      "Accuracy: 0.8577495690330669\n",
      "Confusion Matrix\n",
      "[[25908    40  4526]\n",
      " [   97   735   107]\n",
      " [ 4253    54 28090]]\n"
     ]
    }
   ],
   "source": [
    "print(\"Accuracy: %s\" % str(dt_tfidf.score(X_test_tfidf, Y_test))) #check accuracy\n",
    "print(\"Confusion Matrix\") \n",
    "print(confusion_matrix(pred, Y_test))"
   ]
  },
  {
   "cell_type": "code",
   "execution_count": 117,
   "metadata": {},
   "outputs": [
    {
     "name": "stdout",
     "output_type": "stream",
     "text": [
      "558\n"
     ]
    }
   ],
   "source": [
    "print(dt_tfidf.tree_.max_depth)"
   ]
  },
  {
   "cell_type": "code",
   "execution_count": 119,
   "metadata": {},
   "outputs": [
    {
     "data": {
      "image/png": "[encoded data removed]",
      "text/plain": [
       "<Figure size 432x288 with 1 Axes>"
      ]
     },
     "metadata": {},
     "output_type": "display_data"
    }
   ],
   "source": [
    "from sklearn.model_selection import validation_curve\n",
    "\n",
    "param_range = [1,2,3,4,5,6,7,8,9,10,11,12,13,14,15,20,30,40,50,75,100]\n",
    "\n",
    "train_scores, valid_scores = validation_curve(estimator = DecisionTreeClassifier(random_state=1), X= X_train_tfidf, y = Y_train, \n",
    "                                              param_name = \"max_depth\", param_range = param_range, \n",
    "                                              scoring='neg_mean_squared_error', cv=3)\n",
    "train_scores = np.sqrt(np.abs(train_scores))\n",
    "valid_scores = np.sqrt(np.abs(valid_scores))\n",
    "\n",
    "train_scores_mean = np.mean(train_scores, axis=1)\n",
    "valid_scores_mean = np.mean(valid_scores, axis=1)\n",
    "\n",
    "plt.title(\"Validation Curve with DT\")\n",
    "plt.xlabel(\"max_depth\")\n",
    "plt.ylabel(\"RMSE\")\n",
    "plt.plot(param_range, train_scores_mean, label=\"train rmse\")\n",
    "plt.plot(param_range, valid_scores_mean, label=\"validation rmse\")\n",
    "\n",
    "plt.legend()\n",
    "plt.show()"
   ]
  },
  {
   "cell_type": "code",
   "execution_count": 120,
   "metadata": {},
   "outputs": [
    {
     "data": {
      "image/png": "[encoded data removed]",
      "text/plain": [
       "<Figure size 432x288 with 1 Axes>"
      ]
     },
     "metadata": {},
     "output_type": "display_data"
    }
   ],
   "source": [
    "from sklearn.model_selection import validation_curve\n",
    "param_range = [1,2,3,4,5,6,7,8,9,10,11,12,13,14,15,20,30,40,50,75,100]\n",
    "\n",
    "train_scores, valid_scores = validation_curve(estimator = DecisionTreeClassifier(random_state=1), X= X_train_tfidf, y = Y_train, \n",
    "                                              param_name = \"max_depth\", param_range = param_range, \n",
    "                                           scoring='accuracy', cv=3)\n",
    "train_scores = np.sqrt(np.abs(train_scores))\n",
    "valid_scores = np.sqrt(np.abs(valid_scores))\n",
    "\n",
    "train_scores_mean = np.mean(train_scores, axis=1)\n",
    "valid_scores_mean = np.mean(valid_scores, axis=1)\n",
    "\n",
    "plt.title(\"Validation Curve with DT\")\n",
    "plt.xlabel(\"max_depth\")\n",
    "plt.ylabel(\"Accuracy\")\n",
    "plt.plot(param_range, train_scores_mean, label=\"training accuracy\")\n",
    "plt.plot(param_range, valid_scores_mean, label=\"validation accuracy\")\n",
    "\n",
    "plt.legend()\n",
    "plt.show()"
   ]
  },
  {
   "cell_type": "code",
   "execution_count": null,
   "metadata": {},
   "outputs": [],
   "source": [
    "from sklearn.model_selection import validation_curve\n",
    "param_range = [1,2,3,4,5,6,7,8,9,10,11,12,13,14,15,20,30,40,50,75,100]\n",
    "\n",
    "train_scores, valid_scores = validation_curve(estimator = DecisionTreeClassifier(random_state=1), X= X_train_tfidf, y = Y_train, \n",
    "                                              param_name = \"max_depth\", param_range = param_range, \n",
    "                                           scoring='accuracy', cv=3)\n",
    "train_scores = np.sqrt(np.abs(train_scores))\n",
    "valid_scores = np.sqrt(np.abs(valid_scores))\n",
    "\n",
    "train_scores_mean = np.mean(train_scores, axis=1)\n",
    "valid_scores_mean = np.mean(valid_scores, axis=1)\n",
    "\n",
    "plt.title(\"Validation Curve with DT\")\n",
    "plt.xlabel(\"max_depth\")\n",
    "plt.ylabel(\"Accuracy\")\n",
    "plt.plot(param_range, train_scores_mean, label=\"training accuracy\")\n",
    "plt.plot(param_range, valid_scores_mean, label=\"validation accuracy\")\n",
    "\n",
    "plt.legend()\n",
    "plt.show()"
   ]
  },
  {
   "cell_type": "code",
   "execution_count": 125,
   "metadata": {},
   "outputs": [
    {
     "data": {
      "text/plain": [
       "DecisionTreeClassifier(max_depth=20)"
      ]
     },
     "execution_count": 125,
     "metadata": {},
     "output_type": "execute_result"
    }
   ],
   "source": [
    "dt_tfidf = DecisionTreeClassifier(max_depth = 45)\n",
    "dt_tfidf.fit(X_train_tfidf, Y_train)"
   ]
  },
  {
   "cell_type": "code",
   "execution_count": 126,
   "metadata": {},
   "outputs": [],
   "source": [
    "pred = dt_tfidf.predict(X_test_tfidf)"
   ]
  },
  {
   "cell_type": "code",
   "execution_count": 127,
   "metadata": {},
   "outputs": [
    {
     "name": "stdout",
     "output_type": "stream",
     "text": [
      "              precision    recall  f1-score   support\n",
      "\n",
      "        -1.0       0.75      0.64      0.69     30258\n",
      "         0.0       0.10      0.93      0.19       829\n",
      "         1.0       0.75      0.70      0.72     32723\n",
      "\n",
      "    accuracy                           0.67     63810\n",
      "   macro avg       0.53      0.76      0.53     63810\n",
      "weighted avg       0.74      0.67      0.70     63810\n",
      "\n"
     ]
    }
   ],
   "source": [
    "print(classification_report(Y_test, pred))"
   ]
  },
  {
   "cell_type": "code",
   "execution_count": 128,
   "metadata": {},
   "outputs": [
    {
     "name": "stdout",
     "output_type": "stream",
     "text": [
      "[0.77577027 0.77249716 0.77319543 0.77642489 0.7723563  0.77615328\n",
      " 0.77802994 0.77685157 0.77933924 0.79256317]\n",
      "0.7773181255717094\n"
     ]
    }
   ],
   "source": [
    "#Preforming 10-fold Cross validation\n",
    "accuracies = cross_val_score(estimator = dt_tfidf, X = X_train_tfidf, y = Y_train, cv = 10, scoring = 'accuracy')\n",
    "print(accuracies)\n",
    "print(accuracies.mean())"
   ]
  },
  {
   "cell_type": "code",
   "execution_count": 129,
   "metadata": {},
   "outputs": [
    {
     "name": "stdout",
     "output_type": "stream",
     "text": [
      "[0.77222437 0.76807311 0.76988652 0.77174891 0.76655407 0.77281714\n",
      " 0.77441754 0.77471445 0.77391761 0.78834554]\n",
      "0.7732699258068554\n"
     ]
    }
   ],
   "source": [
    "precision = cross_val_score(estimator = dt_tfidf, X = X_train_tfidf, y = Y_train, scoring=\"precision_macro\", cv = 10)\n",
    "print(precision)\n",
    "print(precision.mean())"
   ]
  },
  {
   "cell_type": "code",
   "execution_count": 130,
   "metadata": {},
   "outputs": [
    {
     "name": "stdout",
     "output_type": "stream",
     "text": [
      "[0.77524657 0.77467924 0.77262809 0.77559571 0.77252751 0.77658637\n",
      " 0.77803919 0.77764627 0.77881057 0.79247033]\n",
      "0.7774229843411169\n"
     ]
    }
   ],
   "source": [
    "recall = cross_val_score(estimator = dt_tfidf, X = X_train_tfidf, y = Y_train, scoring=\"recall_macro\", cv = 10)\n",
    "print(recall)\n",
    "print(recall.mean())"
   ]
  },
  {
   "cell_type": "code",
   "execution_count": 131,
   "metadata": {},
   "outputs": [
    {
     "name": "stdout",
     "output_type": "stream",
     "text": [
      "[0.76817466 0.766196   0.76670085 0.76974441 0.76539206 0.77024842\n",
      " 0.77115172 0.77038933 0.77241947 0.78631106]\n",
      "0.7706727988093087\n"
     ]
    }
   ],
   "source": [
    "f1 = cross_val_score(estimator = dt_tfidf, X = X_train_tfidf, y = Y_train, scoring=\"f1_macro\", cv = 10)\n",
    "print(f1)\n",
    "print(f1.mean())"
   ]
  },
  {
   "cell_type": "markdown",
   "metadata": {},
   "source": [
    "<h4>LR</h4>"
   ]
  },
  {
   "cell_type": "code",
   "execution_count": 81,
   "metadata": {},
   "outputs": [],
   "source": [
    "from sklearn.linear_model import LogisticRegression\n",
    "from sklearn.metrics import confusion_matrix"
   ]
  },
  {
   "cell_type": "code",
   "execution_count": 93,
   "metadata": {},
   "outputs": [],
   "source": [
    "lr_tfidf = LogisticRegression(multi_class='multinomial', solver='lbfgs',  C=1.0, max_iter = 1000).fit(X_train_tfidf, Y_train) \n",
    "pred = lr_tfidf.predict(X_test_tfidf)"
   ]
  },
  {
   "cell_type": "code",
   "execution_count": 94,
   "metadata": {},
   "outputs": [
    {
     "name": "stdout",
     "output_type": "stream",
     "text": [
      "Accuracy: 0.8842657890612756\n",
      "Confusion Matrix\n",
      "[[26797    14  3280]\n",
      " [  396   768   478]\n",
      " [ 3202    15 28860]]\n"
     ]
    }
   ],
   "source": [
    "print(\"Accuracy: %s\" % str(lr_tfidf.score(X_test_tfidf, Y_test))) #check accuracy\n",
    "print(\"Confusion Matrix\") \n",
    "print(confusion_matrix(pred, Y_test))"
   ]
  },
  {
   "cell_type": "code",
   "execution_count": 95,
   "metadata": {},
   "outputs": [
    {
     "name": "stdout",
     "output_type": "stream",
     "text": [
      "              precision    recall  f1-score   support\n",
      "\n",
      "        -1.0       0.89      0.88      0.89     30395\n",
      "         0.0       0.47      0.96      0.63       797\n",
      "         1.0       0.90      0.88      0.89     32618\n",
      "\n",
      "    accuracy                           0.88     63810\n",
      "   macro avg       0.75      0.91      0.80     63810\n",
      "weighted avg       0.89      0.88      0.89     63810\n",
      "\n"
     ]
    }
   ],
   "source": [
    "from sklearn.metrics import classification_report\n",
    "from sklearn import metrics\n",
    "\n",
    "print(classification_report(Y_test, pred))"
   ]
  },
  {
   "cell_type": "code",
   "execution_count": 98,
   "metadata": {},
   "outputs": [
    {
     "name": "stdout",
     "output_type": "stream",
     "text": [
      "Accuracies: [0.92072347 0.91749837 0.91850076 0.91200697 0.92159512 0.91684463\n",
      " 0.91902375 0.92203094 0.91758553 0.93514644]\n",
      "Mean: 0.920095598807773\n"
     ]
    }
   ],
   "source": [
    "accuracies = cross_val_score(estimator = lr_tfidf, X = X_train_tfidf, y = Y_train, cv = 10, scoring = 'accuracy')\n",
    "\n",
    "print(\"Accuracies:\", accuracies)\n",
    "print(\"Mean:\", accuracies.mean())"
   ]
  },
  {
   "cell_type": "markdown",
   "metadata": {},
   "source": [
    "<h3>Bigram</h3>"
   ]
  },
  {
   "cell_type": "code",
   "execution_count": 106,
   "metadata": {},
   "outputs": [],
   "source": [
    "cv = CountVectorizer(ngram_range = (2,2)) "
   ]
  },
  {
   "cell_type": "code",
   "execution_count": 107,
   "metadata": {},
   "outputs": [],
   "source": [
    "X_train = train.review_clean\n",
    "X_test = test.review_clean\n",
    "Y_train =  train.sentiment\n",
    "Y_test = test.sentiment"
   ]
  },
  {
   "cell_type": "code",
   "execution_count": 108,
   "metadata": {},
   "outputs": [],
   "source": [
    "X_train_bigram = cv.fit_transform(X_train)\n",
    "X_test_bigram = cv.transform(X_test)"
   ]
  },
  {
   "cell_type": "code",
   "execution_count": 109,
   "metadata": {},
   "outputs": [
    {
     "data": {
      "text/plain": [
       "(148888, 1294039)"
      ]
     },
     "execution_count": 109,
     "metadata": {},
     "output_type": "execute_result"
    }
   ],
   "source": [
    "X_train_bigram.shape"
   ]
  },
  {
   "cell_type": "code",
   "execution_count": 110,
   "metadata": {},
   "outputs": [],
   "source": [
    "#Balencing the dataset\n",
    "oversample = SMOTE(random_state = 1)\n",
    "undersample = RandomUnderSampler()\n",
    "steps = [(\"o\", oversample), (\"u\", undersample)]\n",
    "pipeline = Pipeline(steps=steps)\n",
    "X_train_bigram, Y_train = pipeline.fit_resample(X_train_bigram,Y_train)"
   ]
  },
  {
   "cell_type": "code",
   "execution_count": 111,
   "metadata": {},
   "outputs": [
    {
     "name": "stdout",
     "output_type": "stream",
     "text": [
      "Class: -1.0, n: 76317, (33.33333333333333%)\n",
      "Class: 0.0, n: 76317, (33.33333333333333%)\n",
      "Class: 1.0, n: 76317, (33.33333333333333%)\n"
     ]
    }
   ],
   "source": [
    "counter = Counter(Y_train) #Change Y_train_'dtm'\n",
    "for k, v in counter.items():\n",
    "    dist = v / len(Y_train)*100\n",
    "    print(f\"Class: {k}, n: {v}, ({dist}%)\")"
   ]
  },
  {
   "cell_type": "code",
   "execution_count": 112,
   "metadata": {},
   "outputs": [
    {
     "name": "stdout",
     "output_type": "stream",
     "text": [
      "Train data shape  (228951, 1294039) (228951,)\n",
      "Test data shape  (63810, 1294039) (63810,)\n"
     ]
    }
   ],
   "source": [
    "print('Train data shape ',X_train_bigram.shape,Y_train.shape)#Change Y_train_dtm\n",
    "print('Test data shape ',X_test_bigram.shape,Y_test.shape)"
   ]
  },
  {
   "cell_type": "markdown",
   "metadata": {},
   "source": [
    "<h4>Multinomial Naive Bayes</h4>"
   ]
  },
  {
   "cell_type": "code",
   "execution_count": 110,
   "metadata": {},
   "outputs": [],
   "source": [
    "from sklearn.naive_bayes import MultinomialNB #import MultinomialNB\n",
    "from sklearn.metrics import classification_report, confusion_matrix #import confusion_matrix\n",
    "from sklearn import model_selection   \n",
    "from sklearn.model_selection import cross_validate\n",
    "from sklearn.metrics import confusion_matrix\n",
    "import sklearn.model_selection\n",
    "from sklearn.model_selection import cross_val_score\n",
    "from sklearn.metrics import classification_report\n",
    "from sklearn import metrics"
   ]
  },
  {
   "cell_type": "code",
   "execution_count": 111,
   "metadata": {},
   "outputs": [],
   "source": [
    "nb_bigram = MultinomialNB().fit(X_train_bigram, Y_train) #fit the training data\n",
    "pred = nb_bigram.predict(X_test_bigram)"
   ]
  },
  {
   "cell_type": "code",
   "execution_count": 112,
   "metadata": {},
   "outputs": [
    {
     "name": "stdout",
     "output_type": "stream",
     "text": [
      "Accuracy: 0.8497570913649898\n",
      "Confusion Matrix\n",
      "[[26375   298  4950]\n",
      " [   96   222   165]\n",
      " [ 3797   281 27626]]\n"
     ]
    }
   ],
   "source": [
    "print(\"Accuracy: %s\" % str(nb_bigram.score(X_test_bigram, Y_test))) #check accuracy\n",
    "print(\"Confusion Matrix\") \n",
    "print(confusion_matrix(pred, Y_test))"
   ]
  },
  {
   "cell_type": "code",
   "execution_count": 113,
   "metadata": {},
   "outputs": [
    {
     "name": "stdout",
     "output_type": "stream",
     "text": [
      "              precision    recall  f1-score   support\n",
      "\n",
      "        -1.0       0.83      0.87      0.85     30268\n",
      "         0.0       0.46      0.28      0.35       801\n",
      "         1.0       0.87      0.84      0.86     32741\n",
      "\n",
      "    accuracy                           0.85     63810\n",
      "   macro avg       0.72      0.66      0.69     63810\n",
      "weighted avg       0.85      0.85      0.85     63810\n",
      "\n"
     ]
    }
   ],
   "source": [
    "print(classification_report(Y_test, pred))"
   ]
  },
  {
   "cell_type": "code",
   "execution_count": 114,
   "metadata": {},
   "outputs": [
    {
     "name": "stdout",
     "output_type": "stream",
     "text": [
      "Accuracies: [0.63475642 0.63471276 0.63549852 0.63231186 0.63353414 0.63327222\n",
      " 0.62934346 0.62628776 0.63130784 0.63008556]\n",
      "\n",
      "Precisions: [0.71670766 0.71678323 0.71801091 0.71390793 0.71520812 0.71713435\n",
      " 0.71351942 0.7096965  0.71453685 0.72360317]\n",
      "\n",
      "Recall: [0.63475642 0.63471276 0.63549852 0.63231186 0.63353414 0.63327222\n",
      " 0.62934346 0.62628776 0.63130784 0.63008556]\n",
      "\n",
      "F1 Score: [0.59862231 0.59855272 0.59987463 0.5958793  0.5962385  0.59721741\n",
      " 0.59232806 0.59002718 0.59368433 0.59097909]\n"
     ]
    }
   ],
   "source": [
    "accuracies = cross_val_score(estimator = nb_bigram, X = X_train_bigram, y = Y_train, cv = 10, scoring = 'accuracy')\n",
    "precision = cross_val_score(estimator = nb_bigram, X = X_train_bigram, y = Y_train, scoring=\"precision_macro\", cv = 10)\n",
    "recall = cross_val_score(estimator = nb_bigram, X = X_train_bigram, y = Y_train, scoring=\"recall_macro\", cv = 10)\n",
    "f1 = cross_val_score(estimator = nb_bigram, X = X_train_bigram, y = Y_train, scoring=\"f1_macro\", cv = 10)\n",
    "\n",
    "print(\"Accuracies:\", accuracies)\n",
    "print()\n",
    "print(\"Precisions:\", precision)\n",
    "print()\n",
    "print(\"Recall:\", recall)\n",
    "print()\n",
    "print(\"F1 Score:\", f1)"
   ]
  },
  {
   "cell_type": "markdown",
   "metadata": {},
   "source": [
    "<h4>Decision Tree</h4>"
   ]
  },
  {
   "cell_type": "code",
   "execution_count": 115,
   "metadata": {},
   "outputs": [],
   "source": [
    "from sklearn.tree import DecisionTreeClassifier"
   ]
  },
  {
   "cell_type": "code",
   "execution_count": 116,
   "metadata": {},
   "outputs": [
    {
     "data": {
      "text/plain": [
       "DecisionTreeClassifier()"
      ]
     },
     "execution_count": 116,
     "metadata": {},
     "output_type": "execute_result"
    }
   ],
   "source": [
    "dt_bigram = DecisionTreeClassifier()\n",
    "dt_bigram.fit(X_train_bigram, Y_train)"
   ]
  },
  {
   "cell_type": "code",
   "execution_count": 117,
   "metadata": {},
   "outputs": [],
   "source": [
    "pred = dt_bigram.predict(X_test_bigram)"
   ]
  },
  {
   "cell_type": "code",
   "execution_count": 118,
   "metadata": {},
   "outputs": [
    {
     "name": "stdout",
     "output_type": "stream",
     "text": [
      "Accuracy: 0.8052029462466698\n",
      "Confusion Matrix\n",
      "[[24376    88  5340]\n",
      " [  692   646  1043]\n",
      " [ 5200    67 26358]]\n"
     ]
    }
   ],
   "source": [
    "print(\"Accuracy: %s\" % str(dt_bigram.score(X_test_bigram, Y_test))) #check accuracy\n",
    "print(\"Confusion Matrix\") \n",
    "print(confusion_matrix(pred, Y_test))"
   ]
  },
  {
   "cell_type": "code",
   "execution_count": 119,
   "metadata": {},
   "outputs": [
    {
     "name": "stdout",
     "output_type": "stream",
     "text": [
      "4339\n"
     ]
    }
   ],
   "source": [
    "print(dt_bigram.tree_.max_depth)"
   ]
  },
  {
   "cell_type": "code",
   "execution_count": 120,
   "metadata": {},
   "outputs": [
    {
     "data": {
      "image/png": "[encoded data removed]",
      "text/plain": [
       "<Figure size 432x288 with 1 Axes>"
      ]
     },
     "metadata": {},
     "output_type": "display_data"
    }
   ],
   "source": [
    "from sklearn.model_selection import validation_curve\n",
    "param_range = [1,2,3,4,5,6,7,8,9,10,11,12,13,14,15,20,30,40,50,75,100]\n",
    "\n",
    "train_scores, valid_scores = validation_curve(estimator = DecisionTreeClassifier(random_state=1), X= X_train_bigram, \n",
    "                                              y = Y_train, param_name = \"max_depth\", param_range = param_range, \n",
    "                                           scoring='accuracy', cv=3)\n",
    "\n",
    "train_scores = np.sqrt(np.abs(train_scores))\n",
    "valid_scores = np.sqrt(np.abs(valid_scores))\n",
    "\n",
    "train_scores_mean = np.mean(train_scores, axis=1)\n",
    "valid_scores_mean = np.mean(valid_scores, axis=1)\n",
    "\n",
    "plt.title(\"Validation Curve with DT\")\n",
    "plt.xlabel(\"max_depth\")\n",
    "plt.ylabel(\"Accuracy\")\n",
    "plt.plot(param_range, train_scores_mean, label=\"training accuracy\")\n",
    "plt.plot(param_range, valid_scores_mean, label=\"validation accuracy\")\n",
    "\n",
    "plt.legend()\n",
    "plt.show()"
   ]
  },
  {
   "cell_type": "code",
   "execution_count": 142,
   "metadata": {},
   "outputs": [
    {
     "data": {
      "text/plain": [
       "DecisionTreeClassifier(max_depth=20)"
      ]
     },
     "execution_count": 142,
     "metadata": {},
     "output_type": "execute_result"
    }
   ],
   "source": [
    "dt_bigram = DecisionTreeClassifier(max_depth = 20)\n",
    "dt_bigram.fit(X_train_bigram, Y_train)"
   ]
  },
  {
   "cell_type": "code",
   "execution_count": 143,
   "metadata": {},
   "outputs": [],
   "source": [
    "pred = dt_bigram.predict(X_test_bigram)"
   ]
  },
  {
   "cell_type": "code",
   "execution_count": 144,
   "metadata": {},
   "outputs": [
    {
     "name": "stdout",
     "output_type": "stream",
     "text": [
      "              precision    recall  f1-score   support\n",
      "\n",
      "        -1.0       0.64      0.23      0.34     30268\n",
      "         0.0       0.02      0.82      0.05       801\n",
      "         1.0       0.58      0.45      0.51     32741\n",
      "\n",
      "    accuracy                           0.35     63810\n",
      "   macro avg       0.42      0.50      0.30     63810\n",
      "weighted avg       0.60      0.35      0.42     63810\n",
      "\n"
     ]
    }
   ],
   "source": [
    "print(classification_report(Y_test, pred))"
   ]
  },
  {
   "cell_type": "code",
   "execution_count": 145,
   "metadata": {},
   "outputs": [
    {
     "name": "stdout",
     "output_type": "stream",
     "text": [
      "[0.52942204 0.53234678 0.53540248 0.52702113 0.52566789 0.52339794\n",
      " 0.52833071 0.52248123 0.52684652 0.48218963]\n",
      "0.5233106338397067\n"
     ]
    }
   ],
   "source": [
    "#Preforming 10-fold Cross validation\n",
    "accuracies = cross_val_score(estimator = dt_bigram, X = X_train_bigram, y = Y_train, cv = 10, scoring = 'accuracy')\n",
    "print(accuracies)\n",
    "print(accuracies.mean())"
   ]
  },
  {
   "cell_type": "code",
   "execution_count": 146,
   "metadata": {},
   "outputs": [
    {
     "name": "stdout",
     "output_type": "stream",
     "text": [
      "[0.56326694 0.55606018 0.5608641  0.56311916 0.55061307 0.57371541\n",
      " 0.55771435 0.56572181 0.55113018 0.50352307]\n",
      "0.5545728274077745\n"
     ]
    }
   ],
   "source": [
    "precision = cross_val_score(estimator = dt_bigram, X = X_train_bigram, y = Y_train, scoring=\"precision_macro\", cv = 10)\n",
    "print(precision)\n",
    "print(precision.mean())"
   ]
  },
  {
   "cell_type": "code",
   "execution_count": null,
   "metadata": {},
   "outputs": [],
   "source": [
    "recall = cross_val_score(estimator = dt_bigram, X = X_train_bigram, y = Y_train, scoring=\"recall_macro\", cv = 10)\n",
    "print(recall)\n",
    "print(recall.mean())"
   ]
  },
  {
   "cell_type": "code",
   "execution_count": null,
   "metadata": {},
   "outputs": [],
   "source": [
    "f1 = cross_val_score(estimator = dt_bigram, X = X_train_bigram, y = Y_train, scoring=\"f1_macro\", cv = 10)\n",
    "print(f1)\n",
    "print(f1.mean())"
   ]
  },
  {
   "cell_type": "markdown",
   "metadata": {},
   "source": [
    "<h4>LR</h4>"
   ]
  },
  {
   "cell_type": "code",
   "execution_count": 113,
   "metadata": {},
   "outputs": [],
   "source": [
    "from sklearn.linear_model import LogisticRegression\n",
    "from sklearn.metrics import confusion_matrix"
   ]
  },
  {
   "cell_type": "code",
   "execution_count": 116,
   "metadata": {},
   "outputs": [],
   "source": [
    "lr_bigram = LogisticRegression(multi_class='multinomial', solver='lbfgs',  C=1.0, max_iter = 1000).fit(X_train_bigram, Y_train) \n",
    "pred = lr_bigram.predict(X_test_bigram)"
   ]
  },
  {
   "cell_type": "code",
   "execution_count": 117,
   "metadata": {},
   "outputs": [
    {
     "name": "stdout",
     "output_type": "stream",
     "text": [
      "Accuracy: 0.8720106566368908\n",
      "Confusion Matrix\n",
      "[[26555    61  3223]\n",
      " [  663   759  1232]\n",
      " [ 2953    35 28329]]\n"
     ]
    }
   ],
   "source": [
    "print(\"Accuracy: %s\" % str(lr_bigram.score(X_test_bigram, Y_test))) #check accuracy\n",
    "print(\"Confusion Matrix\") \n",
    "print(confusion_matrix(pred, Y_test))"
   ]
  },
  {
   "cell_type": "code",
   "execution_count": 118,
   "metadata": {},
   "outputs": [
    {
     "name": "stdout",
     "output_type": "stream",
     "text": [
      "              precision    recall  f1-score   support\n",
      "\n",
      "        -1.0       0.89      0.88      0.89     30171\n",
      "         0.0       0.29      0.89      0.43       855\n",
      "         1.0       0.90      0.86      0.88     32784\n",
      "\n",
      "    accuracy                           0.87     63810\n",
      "   macro avg       0.69      0.88      0.73     63810\n",
      "weighted avg       0.89      0.87      0.88     63810\n",
      "\n"
     ]
    }
   ],
   "source": [
    "from sklearn.metrics import classification_report\n",
    "from sklearn import metrics\n",
    "\n",
    "print(classification_report(Y_test, pred))"
   ]
  },
  {
   "cell_type": "code",
   "execution_count": 122,
   "metadata": {},
   "outputs": [
    {
     "name": "stdout",
     "output_type": "stream",
     "text": [
      "Accuracies: [0.88925771 0.88770474 0.89087137 0.88884036 0.81284123]\n",
      "Mean: 0.8739030825170806\n"
     ]
    }
   ],
   "source": [
    "accuracies = cross_val_score(estimator = lr_bigram, X = X_train_bigram, y = Y_train, cv = 5, scoring = 'accuracy')\n",
    "\n",
    "print(\"Accuracies:\", accuracies)\n",
    "print(\"Mean:\", accuracies.mean())"
   ]
  }
 ],
 "metadata": {
  "kernelspec": {
   "display_name": "Python 3",
   "language": "python",
   "name": "python3"
  },
  "language_info": {
   "codemirror_mode": {
    "name": "ipython",
    "version": 3
   },
   "file_extension": ".py",
   "mimetype": "text/x-python",
   "name": "python",
   "nbconvert_exporter": "python",
   "pygments_lexer": "ipython3",
   "version": "3.8.8"
  }
 },
 "nbformat": 4,
 "nbformat_minor": 4
}
