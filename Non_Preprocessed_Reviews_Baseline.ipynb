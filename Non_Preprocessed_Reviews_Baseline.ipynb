{
 "cells": [
  {
   "cell_type": "code",
   "execution_count": 1,
   "metadata": {},
   "outputs": [],
   "source": [
    "import pandas as pd\n",
    "import numpy as np\n",
    "import seaborn as sns\n",
    "import matplotlib.pyplot as plt\n",
    "from nltk.corpus import stopwords\n",
    "from collections import Counter\n",
    "import nltk\n",
    "import re\n",
    "import string\n",
    "from string import punctuation\n",
    "from nltk import ngrams\n",
    "from nltk.tokenize import word_tokenize \n",
    "import html\n",
    "#!pip install TextBlob\n",
    "from textblob import TextBlob"
   ]
  },
  {
   "cell_type": "code",
   "execution_count": 2,
   "metadata": {},
   "outputs": [],
   "source": [
    "test_df = pd.read_csv('drugsComTest_raw.tsv', sep = '\\t')\n",
    "train_df = pd.read_csv('drugsComTrain_raw.tsv', sep = '\\t')"
   ]
  },
  {
   "cell_type": "code",
   "execution_count": 3,
   "metadata": {},
   "outputs": [
    {
     "data": {
      "text/html": [
       "<div>\n",
       "<style scoped>\n",
       "    .dataframe tbody tr th:only-of-type {\n",
       "        vertical-align: middle;\n",
       "    }\n",
       "\n",
       "    .dataframe tbody tr th {\n",
       "        vertical-align: top;\n",
       "    }\n",
       "\n",
       "    .dataframe thead th {\n",
       "        text-align: right;\n",
       "    }\n",
       "</style>\n",
       "<table border=\"1\" class=\"dataframe\">\n",
       "  <thead>\n",
       "    <tr style=\"text-align: right;\">\n",
       "      <th></th>\n",
       "      <th>uniqueid</th>\n",
       "      <th>drugname</th>\n",
       "      <th>condition</th>\n",
       "      <th>review</th>\n",
       "      <th>rating</th>\n",
       "      <th>date</th>\n",
       "      <th>usefulcount</th>\n",
       "    </tr>\n",
       "  </thead>\n",
       "  <tbody>\n",
       "    <tr>\n",
       "      <th>0</th>\n",
       "      <td>163740</td>\n",
       "      <td>Mirtazapine</td>\n",
       "      <td>Depression</td>\n",
       "      <td>\"I&amp;#039;ve tried a few antidepressants over th...</td>\n",
       "      <td>10.0</td>\n",
       "      <td>February 28, 2012</td>\n",
       "      <td>22</td>\n",
       "    </tr>\n",
       "    <tr>\n",
       "      <th>1</th>\n",
       "      <td>206473</td>\n",
       "      <td>Mesalamine</td>\n",
       "      <td>Crohn's Disease, Maintenance</td>\n",
       "      <td>\"My son has Crohn&amp;#039;s disease and has done ...</td>\n",
       "      <td>8.0</td>\n",
       "      <td>May 17, 2009</td>\n",
       "      <td>17</td>\n",
       "    </tr>\n",
       "    <tr>\n",
       "      <th>2</th>\n",
       "      <td>159672</td>\n",
       "      <td>Bactrim</td>\n",
       "      <td>Urinary Tract Infection</td>\n",
       "      <td>\"Quick reduction of symptoms\"</td>\n",
       "      <td>9.0</td>\n",
       "      <td>September 29, 2017</td>\n",
       "      <td>3</td>\n",
       "    </tr>\n",
       "    <tr>\n",
       "      <th>3</th>\n",
       "      <td>39293</td>\n",
       "      <td>Contrave</td>\n",
       "      <td>Weight Loss</td>\n",
       "      <td>\"Contrave combines drugs that were used for al...</td>\n",
       "      <td>9.0</td>\n",
       "      <td>March 5, 2017</td>\n",
       "      <td>35</td>\n",
       "    </tr>\n",
       "    <tr>\n",
       "      <th>4</th>\n",
       "      <td>97768</td>\n",
       "      <td>Cyclafem 1 / 35</td>\n",
       "      <td>Birth Control</td>\n",
       "      <td>\"I have been on this birth control for one cyc...</td>\n",
       "      <td>9.0</td>\n",
       "      <td>October 22, 2015</td>\n",
       "      <td>4</td>\n",
       "    </tr>\n",
       "  </tbody>\n",
       "</table>\n",
       "</div>"
      ],
      "text/plain": [
       "   uniqueid         drugname                     condition  \\\n",
       "0    163740      Mirtazapine                    Depression   \n",
       "1    206473       Mesalamine  Crohn's Disease, Maintenance   \n",
       "2    159672          Bactrim       Urinary Tract Infection   \n",
       "3     39293         Contrave                   Weight Loss   \n",
       "4     97768  Cyclafem 1 / 35                 Birth Control   \n",
       "\n",
       "                                              review  rating  \\\n",
       "0  \"I&#039;ve tried a few antidepressants over th...    10.0   \n",
       "1  \"My son has Crohn&#039;s disease and has done ...     8.0   \n",
       "2                      \"Quick reduction of symptoms\"     9.0   \n",
       "3  \"Contrave combines drugs that were used for al...     9.0   \n",
       "4  \"I have been on this birth control for one cyc...     9.0   \n",
       "\n",
       "                 date  usefulcount  \n",
       "0   February 28, 2012           22  \n",
       "1        May 17, 2009           17  \n",
       "2  September 29, 2017            3  \n",
       "3       March 5, 2017           35  \n",
       "4    October 22, 2015            4  "
      ]
     },
     "execution_count": 3,
     "metadata": {},
     "output_type": "execute_result"
    }
   ],
   "source": [
    "#Merging the two datasets \n",
    "frames = [test_df, train_df]\n",
    "df = pd.concat(frames)\n",
    "\n",
    "\n",
    "df.rename(columns={'Unnamed: 0':'uniqueid'}, inplace=True )\n",
    "df.columns = df.columns.str.lower()\n",
    "\n",
    "df.head(5)"
   ]
  },
  {
   "cell_type": "markdown",
   "metadata": {},
   "source": [
    "# Removing NA Values"
   ]
  },
  {
   "cell_type": "code",
   "execution_count": 4,
   "metadata": {},
   "outputs": [
    {
     "name": "stdout",
     "output_type": "stream",
     "text": [
      "Missing Data Table\n"
     ]
    },
    {
     "data": {
      "text/plain": [
       "uniqueid          0\n",
       "drugname          0\n",
       "condition      1194\n",
       "review            0\n",
       "rating            0\n",
       "date              0\n",
       "usefulcount       0\n",
       "dtype: int64"
      ]
     },
     "execution_count": 4,
     "metadata": {},
     "output_type": "execute_result"
    }
   ],
   "source": [
    "#Searching for NA values \n",
    "print(\"Missing Data Table\")\n",
    "df.isnull().sum()"
   ]
  },
  {
   "cell_type": "code",
   "execution_count": 5,
   "metadata": {},
   "outputs": [
    {
     "name": "stdout",
     "output_type": "stream",
     "text": [
      "Percentage of NA values in conditions: 0.5551861547546533%\n"
     ]
    }
   ],
   "source": [
    "size = df.shape[0]\n",
    "condition_na = df['condition'].isnull().sum()\n",
    "\n",
    "print(f'Percentage of NA values in conditions: {condition_na/size*100}%')"
   ]
  },
  {
   "cell_type": "code",
   "execution_count": 6,
   "metadata": {},
   "outputs": [
    {
     "name": "stdout",
     "output_type": "stream",
     "text": [
      "Missing Value Table\n",
      "uniqueid       0\n",
      "drugname       0\n",
      "condition      0\n",
      "review         0\n",
      "rating         0\n",
      "date           0\n",
      "usefulcount    0\n",
      "dtype: int64\n",
      "\n",
      "New Data Shape: (213869, 7)\n"
     ]
    }
   ],
   "source": [
    "df = df.dropna()\n",
    "print(\"Missing Value Table\")\n",
    "print(df.isnull().sum())\n",
    "print()\n",
    "print('New Data Shape:', df.shape)"
   ]
  },
  {
   "cell_type": "markdown",
   "metadata": {},
   "source": [
    "# Sorting Dataset and Removing Duplicates"
   ]
  },
  {
   "cell_type": "code",
   "execution_count": 7,
   "metadata": {},
   "outputs": [
    {
     "data": {
      "text/html": [
       "<div>\n",
       "<style scoped>\n",
       "    .dataframe tbody tr th:only-of-type {\n",
       "        vertical-align: middle;\n",
       "    }\n",
       "\n",
       "    .dataframe tbody tr th {\n",
       "        vertical-align: top;\n",
       "    }\n",
       "\n",
       "    .dataframe thead th {\n",
       "        text-align: right;\n",
       "    }\n",
       "</style>\n",
       "<table border=\"1\" class=\"dataframe\">\n",
       "  <thead>\n",
       "    <tr style=\"text-align: right;\">\n",
       "      <th></th>\n",
       "      <th>uniqueid</th>\n",
       "      <th>drugname</th>\n",
       "      <th>condition</th>\n",
       "      <th>review</th>\n",
       "      <th>rating</th>\n",
       "      <th>date</th>\n",
       "      <th>usefulcount</th>\n",
       "    </tr>\n",
       "  </thead>\n",
       "  <tbody>\n",
       "    <tr>\n",
       "      <th>0</th>\n",
       "      <td>0</td>\n",
       "      <td>Medroxyprogesterone</td>\n",
       "      <td>Abnormal Uterine Bleeding</td>\n",
       "      <td>\"Been on the depo injection since January 2015...</td>\n",
       "      <td>3.0</td>\n",
       "      <td>October 28, 2015</td>\n",
       "      <td>4</td>\n",
       "    </tr>\n",
       "    <tr>\n",
       "      <th>1</th>\n",
       "      <td>2</td>\n",
       "      <td>Medroxyprogesterone</td>\n",
       "      <td>Amenorrhea</td>\n",
       "      <td>\"I&amp;#039;m 21 years old and recently found out ...</td>\n",
       "      <td>10.0</td>\n",
       "      <td>October 27, 2015</td>\n",
       "      <td>11</td>\n",
       "    </tr>\n",
       "    <tr>\n",
       "      <th>2</th>\n",
       "      <td>3</td>\n",
       "      <td>Medroxyprogesterone</td>\n",
       "      <td>Abnormal Uterine Bleeding</td>\n",
       "      <td>\"I have been on the shot 11 years and until a ...</td>\n",
       "      <td>8.0</td>\n",
       "      <td>October 27, 2015</td>\n",
       "      <td>7</td>\n",
       "    </tr>\n",
       "    <tr>\n",
       "      <th>3</th>\n",
       "      <td>4</td>\n",
       "      <td>Medroxyprogesterone</td>\n",
       "      <td>Birth Control</td>\n",
       "      <td>\"Ive had four shots at this point. I was on bi...</td>\n",
       "      <td>9.0</td>\n",
       "      <td>October 26, 2015</td>\n",
       "      <td>12</td>\n",
       "    </tr>\n",
       "    <tr>\n",
       "      <th>4</th>\n",
       "      <td>5</td>\n",
       "      <td>Medroxyprogesterone</td>\n",
       "      <td>Abnormal Uterine Bleeding</td>\n",
       "      <td>\"I had a total of 3 shots. I got my first one ...</td>\n",
       "      <td>1.0</td>\n",
       "      <td>October 25, 2015</td>\n",
       "      <td>4</td>\n",
       "    </tr>\n",
       "    <tr>\n",
       "      <th>5</th>\n",
       "      <td>6</td>\n",
       "      <td>Medroxyprogesterone</td>\n",
       "      <td>Birth Control</td>\n",
       "      <td>\"This is a horrible shot!! I got my first shot...</td>\n",
       "      <td>1.0</td>\n",
       "      <td>October 24, 2015</td>\n",
       "      <td>3</td>\n",
       "    </tr>\n",
       "    <tr>\n",
       "      <th>6</th>\n",
       "      <td>7</td>\n",
       "      <td>Medroxyprogesterone</td>\n",
       "      <td>Abnormal Uterine Bleeding</td>\n",
       "      <td>\"I&amp;#039;m 18 and got this for heavy bleeding. ...</td>\n",
       "      <td>5.0</td>\n",
       "      <td>October 22, 2015</td>\n",
       "      <td>6</td>\n",
       "    </tr>\n",
       "    <tr>\n",
       "      <th>7</th>\n",
       "      <td>8</td>\n",
       "      <td>Medroxyprogesterone</td>\n",
       "      <td>Abnormal Uterine Bleeding</td>\n",
       "      <td>\"Im 19 and have been having heavy and painful ...</td>\n",
       "      <td>5.0</td>\n",
       "      <td>October 21, 2015</td>\n",
       "      <td>2</td>\n",
       "    </tr>\n",
       "    <tr>\n",
       "      <th>8</th>\n",
       "      <td>9</td>\n",
       "      <td>Medroxyprogesterone</td>\n",
       "      <td>Abnormal Uterine Bleeding</td>\n",
       "      <td>\"I&amp;#039;m a 30 year old woman. I got the shot ...</td>\n",
       "      <td>2.0</td>\n",
       "      <td>October 21, 2015</td>\n",
       "      <td>5</td>\n",
       "    </tr>\n",
       "    <tr>\n",
       "      <th>9</th>\n",
       "      <td>10</td>\n",
       "      <td>Medroxyprogesterone</td>\n",
       "      <td>Abnormal Uterine Bleeding</td>\n",
       "      <td>\"I&amp;#039;m 17 years old and I got shot in Augus...</td>\n",
       "      <td>7.0</td>\n",
       "      <td>October 20, 2015</td>\n",
       "      <td>2</td>\n",
       "    </tr>\n",
       "  </tbody>\n",
       "</table>\n",
       "</div>"
      ],
      "text/plain": [
       "   uniqueid             drugname                  condition  \\\n",
       "0         0  Medroxyprogesterone  Abnormal Uterine Bleeding   \n",
       "1         2  Medroxyprogesterone                 Amenorrhea   \n",
       "2         3  Medroxyprogesterone  Abnormal Uterine Bleeding   \n",
       "3         4  Medroxyprogesterone              Birth Control   \n",
       "4         5  Medroxyprogesterone  Abnormal Uterine Bleeding   \n",
       "5         6  Medroxyprogesterone              Birth Control   \n",
       "6         7  Medroxyprogesterone  Abnormal Uterine Bleeding   \n",
       "7         8  Medroxyprogesterone  Abnormal Uterine Bleeding   \n",
       "8         9  Medroxyprogesterone  Abnormal Uterine Bleeding   \n",
       "9        10  Medroxyprogesterone  Abnormal Uterine Bleeding   \n",
       "\n",
       "                                              review  rating  \\\n",
       "0  \"Been on the depo injection since January 2015...     3.0   \n",
       "1  \"I&#039;m 21 years old and recently found out ...    10.0   \n",
       "2  \"I have been on the shot 11 years and until a ...     8.0   \n",
       "3  \"Ive had four shots at this point. I was on bi...     9.0   \n",
       "4  \"I had a total of 3 shots. I got my first one ...     1.0   \n",
       "5  \"This is a horrible shot!! I got my first shot...     1.0   \n",
       "6  \"I&#039;m 18 and got this for heavy bleeding. ...     5.0   \n",
       "7  \"Im 19 and have been having heavy and painful ...     5.0   \n",
       "8  \"I&#039;m a 30 year old woman. I got the shot ...     2.0   \n",
       "9  \"I&#039;m 17 years old and I got shot in Augus...     7.0   \n",
       "\n",
       "               date  usefulcount  \n",
       "0  October 28, 2015            4  \n",
       "1  October 27, 2015           11  \n",
       "2  October 27, 2015            7  \n",
       "3  October 26, 2015           12  \n",
       "4  October 25, 2015            4  \n",
       "5  October 24, 2015            3  \n",
       "6  October 22, 2015            6  \n",
       "7  October 21, 2015            2  \n",
       "8  October 21, 2015            5  \n",
       "9  October 20, 2015            2  "
      ]
     },
     "execution_count": 7,
     "metadata": {},
     "output_type": "execute_result"
    }
   ],
   "source": [
    "df.sort_values(['uniqueid'], ascending = True, inplace = True)\n",
    "df.reset_index(drop = True, inplace = True)\n",
    "df.head(10)"
   ]
  },
  {
   "cell_type": "code",
   "execution_count": 8,
   "metadata": {},
   "outputs": [
    {
     "data": {
      "text/plain": [
       "0"
      ]
     },
     "execution_count": 8,
     "metadata": {},
     "output_type": "execute_result"
    }
   ],
   "source": [
    "df.duplicated().sum()"
   ]
  },
  {
   "cell_type": "code",
   "execution_count": 9,
   "metadata": {},
   "outputs": [
    {
     "data": {
      "text/html": [
       "<div>\n",
       "<style scoped>\n",
       "    .dataframe tbody tr th:only-of-type {\n",
       "        vertical-align: middle;\n",
       "    }\n",
       "\n",
       "    .dataframe tbody tr th {\n",
       "        vertical-align: top;\n",
       "    }\n",
       "\n",
       "    .dataframe thead th {\n",
       "        text-align: right;\n",
       "    }\n",
       "</style>\n",
       "<table border=\"1\" class=\"dataframe\">\n",
       "  <thead>\n",
       "    <tr style=\"text-align: right;\">\n",
       "      <th></th>\n",
       "      <th>uniqueid</th>\n",
       "      <th>rating</th>\n",
       "      <th>usefulcount</th>\n",
       "    </tr>\n",
       "  </thead>\n",
       "  <tbody>\n",
       "    <tr>\n",
       "      <th>count</th>\n",
       "      <td>213869.000000</td>\n",
       "      <td>213869.000000</td>\n",
       "      <td>213869.000000</td>\n",
       "    </tr>\n",
       "    <tr>\n",
       "      <th>mean</th>\n",
       "      <td>116076.924786</td>\n",
       "      <td>6.991149</td>\n",
       "      <td>28.094118</td>\n",
       "    </tr>\n",
       "    <tr>\n",
       "      <th>std</th>\n",
       "      <td>67016.705794</td>\n",
       "      <td>3.275792</td>\n",
       "      <td>36.401377</td>\n",
       "    </tr>\n",
       "    <tr>\n",
       "      <th>min</th>\n",
       "      <td>0.000000</td>\n",
       "      <td>1.000000</td>\n",
       "      <td>0.000000</td>\n",
       "    </tr>\n",
       "    <tr>\n",
       "      <th>25%</th>\n",
       "      <td>58122.000000</td>\n",
       "      <td>5.000000</td>\n",
       "      <td>6.000000</td>\n",
       "    </tr>\n",
       "    <tr>\n",
       "      <th>50%</th>\n",
       "      <td>115972.000000</td>\n",
       "      <td>8.000000</td>\n",
       "      <td>16.000000</td>\n",
       "    </tr>\n",
       "    <tr>\n",
       "      <th>75%</th>\n",
       "      <td>174018.000000</td>\n",
       "      <td>10.000000</td>\n",
       "      <td>36.000000</td>\n",
       "    </tr>\n",
       "    <tr>\n",
       "      <th>max</th>\n",
       "      <td>232291.000000</td>\n",
       "      <td>10.000000</td>\n",
       "      <td>1291.000000</td>\n",
       "    </tr>\n",
       "  </tbody>\n",
       "</table>\n",
       "</div>"
      ],
      "text/plain": [
       "            uniqueid         rating    usefulcount\n",
       "count  213869.000000  213869.000000  213869.000000\n",
       "mean   116076.924786       6.991149      28.094118\n",
       "std     67016.705794       3.275792      36.401377\n",
       "min         0.000000       1.000000       0.000000\n",
       "25%     58122.000000       5.000000       6.000000\n",
       "50%    115972.000000       8.000000      16.000000\n",
       "75%    174018.000000      10.000000      36.000000\n",
       "max    232291.000000      10.000000    1291.000000"
      ]
     },
     "execution_count": 9,
     "metadata": {},
     "output_type": "execute_result"
    }
   ],
   "source": [
    "df.describe()"
   ]
  },
  {
   "cell_type": "markdown",
   "metadata": {},
   "source": [
    "# Examining Conditions"
   ]
  },
  {
   "cell_type": "code",
   "execution_count": 10,
   "metadata": {},
   "outputs": [
    {
     "data": {
      "text/plain": [
       "array(['0</span> users found this comment helpful.',\n",
       "       '100</span> users found this comment helpful.',\n",
       "       '105</span> users found this comment helpful.',\n",
       "       '10</span> users found this comment helpful.',\n",
       "       '110</span> users found this comment helpful.',\n",
       "       '11</span> users found this comment helpful.',\n",
       "       '121</span> users found this comment helpful.',\n",
       "       '123</span> users found this comment helpful.',\n",
       "       '12</span> users found this comment helpful.',\n",
       "       '135</span> users found this comment helpful.',\n",
       "       '13</span> users found this comment helpful.',\n",
       "       '142</span> users found this comment helpful.',\n",
       "       '145</span> users found this comment helpful.',\n",
       "       '146</span> users found this comment helpful.',\n",
       "       '14</span> users found this comment helpful.',\n",
       "       '15</span> users found this comment helpful.',\n",
       "       '16</span> users found this comment helpful.',\n",
       "       '17</span> users found this comment helpful.',\n",
       "       '18</span> users found this comment helpful.',\n",
       "       '19</span> users found this comment helpful.',\n",
       "       '1</span> users found this comment helpful.',\n",
       "       '20</span> users found this comment helpful.',\n",
       "       '21</span> users found this comment helpful.',\n",
       "       '22</span> users found this comment helpful.',\n",
       "       '23</span> users found this comment helpful.',\n",
       "       '24</span> users found this comment helpful.',\n",
       "       '25</span> users found this comment helpful.',\n",
       "       '26</span> users found this comment helpful.',\n",
       "       '27</span> users found this comment helpful.',\n",
       "       '28</span> users found this comment helpful.',\n",
       "       '29</span> users found this comment helpful.',\n",
       "       '2</span> users found this comment helpful.',\n",
       "       '30</span> users found this comment helpful.',\n",
       "       '31</span> users found this comment helpful.',\n",
       "       '32</span> users found this comment helpful.',\n",
       "       '33</span> users found this comment helpful.',\n",
       "       '34</span> users found this comment helpful.',\n",
       "       '35</span> users found this comment helpful.',\n",
       "       '36</span> users found this comment helpful.',\n",
       "       '37</span> users found this comment helpful.',\n",
       "       '38</span> users found this comment helpful.',\n",
       "       '39</span> users found this comment helpful.',\n",
       "       '3</span> users found this comment helpful.',\n",
       "       '40</span> users found this comment helpful.',\n",
       "       '41</span> users found this comment helpful.',\n",
       "       '42</span> users found this comment helpful.',\n",
       "       '43</span> users found this comment helpful.',\n",
       "       '44</span> users found this comment helpful.',\n",
       "       '45</span> users found this comment helpful.',\n",
       "       '46</span> users found this comment helpful.',\n",
       "       '47</span> users found this comment helpful.',\n",
       "       '48</span> users found this comment helpful.',\n",
       "       '4</span> users found this comment helpful.',\n",
       "       '51</span> users found this comment helpful.',\n",
       "       '54</span> users found this comment helpful.',\n",
       "       '55</span> users found this comment helpful.',\n",
       "       '5</span> users found this comment helpful.',\n",
       "       '61</span> users found this comment helpful.',\n",
       "       '62</span> users found this comment helpful.',\n",
       "       '63</span> users found this comment helpful.',\n",
       "       '64</span> users found this comment helpful.',\n",
       "       '6</span> users found this comment helpful.',\n",
       "       '70</span> users found this comment helpful.',\n",
       "       '72</span> users found this comment helpful.',\n",
       "       '74</span> users found this comment helpful.',\n",
       "       '75</span> users found this comment helpful.',\n",
       "       '76</span> users found this comment helpful.',\n",
       "       '77</span> users found this comment helpful.',\n",
       "       '79</span> users found this comment helpful.',\n",
       "       '7</span> users found this comment helpful.',\n",
       "       '83</span> users found this comment helpful.',\n",
       "       '84</span> users found this comment helpful.',\n",
       "       '85</span> users found this comment helpful.',\n",
       "       '8</span> users found this comment helpful.',\n",
       "       '92</span> users found this comment helpful.',\n",
       "       '94</span> users found this comment helpful.',\n",
       "       '95</span> users found this comment helpful.',\n",
       "       '98</span> users found this comment helpful.',\n",
       "       '99</span> users found this comment helpful.',\n",
       "       '9</span> users found this comment helpful.', 'ADHD',\n",
       "       'AIDS Related Wasting', 'AV Heart Block', 'Abdominal Distension',\n",
       "       'Abnormal Uterine Bleeding', 'Abortion', 'Acetaminophen Overdose',\n",
       "       'Acne', 'Actinic Keratosis', 'Acute Coronary Syndrome',\n",
       "       'Acute Lymphoblastic Leukemia', 'Acute Nonlymphocytic Leukemia',\n",
       "       'Acute Otitis Externa', 'Acute Promyelocytic Leukemia',\n",
       "       \"Addison's Disease\", 'Adrenocortical Insufficiency',\n",
       "       'Adult Human Growth Hormone Deficiency', 'Aggressive Behavi',\n",
       "       'Agitated State', 'Agitation', 'Alcohol Dependence',\n",
       "       'Alcohol Withdrawal', 'Allergic Reactions', 'Allergic Rhinitis',\n",
       "       'Allergic Urticaria', 'Allergies', 'Alopecia',\n",
       "       'Alpha-1 Proteinase Inhibitor Deficiency', \"Alzheimer's Disease\",\n",
       "       'Amebiasis', 'Amenorrhea', 'Amyotrophic Lateral Sclerosis',\n",
       "       'Anal Fissure and Fistula', 'Anal Itching', 'Anaphylaxis',\n",
       "       'Anaplastic Astrocytoma', 'Anaplastic Oligodendroglioma',\n",
       "       'Androgenetic Alopecia', 'Anemia',\n",
       "       'Anemia Associated with Chronic Renal Failure',\n",
       "       'Anemia, Chemotherapy Induced', 'Anemia, Sickle Cell',\n",
       "       'Anesthesia', 'Anesthetic Adjunct', 'Angina',\n",
       "       'Angina Pectoris Prophylaxis', 'Angioedema',\n",
       "       'Ankylosing Spondylitis', 'Anorexia', 'Anorexia/Feeding Problems',\n",
       "       'Anthrax', 'Anti NMDA Receptor Encephalitis',\n",
       "       'Antiphospholipid Syndrome', 'Anxiety', 'Anxiety and Stress',\n",
       "       'Aphthous Ulce', 'Aplastic Anemia', 'Arrhythmia', 'Ascariasis',\n",
       "       'Asperger Syndrome', 'Aspergillosis, Aspergilloma',\n",
       "       'Aspiration Pneumonia', 'Asthma', 'Asthma, Maintenance',\n",
       "       'Asthma, acute', 'Asystole', 'Atherosclerosis',\n",
       "       'Atopic Dermatitis', 'Atrial Fibrillation', 'Atrial Flutte',\n",
       "       'Atrophic Urethritis', 'Atrophic Vaginitis',\n",
       "       'Auditory Processing Disorde', 'Autism',\n",
       "       'Autoimmune Hemolytic Anemia', 'Autoimmune Hepatitis',\n",
       "       'Avian Influenza', 'B12 Nutritional Deficiency', 'Babesiosis',\n",
       "       'Back Pain', 'Bacteremia', 'Bacterial Endocarditis Prevention',\n",
       "       'Bacterial Infection', 'Bacterial Skin Infection',\n",
       "       'Bacterial Vaginitis', \"Barrett's Esophagus\", 'Bartonellosis',\n",
       "       'Basal Cell Carcinoma', \"Behcet's Disease\",\n",
       "       'Benign Essential Trem', 'Benign Prostatic Hyperplasia',\n",
       "       'Benzodiazepine Withdrawal', 'Biliary Cirrhosis',\n",
       "       'Binge Eating Disorde', 'Bipolar Disorde', 'Birth Control',\n",
       "       'Bladder Infection', 'Bleeding Disorde', 'Blepharitis',\n",
       "       'Body Dysmorphic Disorde', 'Body Imaging', 'Bone infection',\n",
       "       'Borderline Personality Disorde', 'Bowel Preparation', 'Brain Tum',\n",
       "       'Breakthrough Pain', 'Breast Cance', 'Breast Cancer, Adjuvant',\n",
       "       'Breast Cancer, Metastatic', 'Breast Cancer, Palliative',\n",
       "       'Breast Cancer, Prevention', 'Bronchiectasis', 'Bronchitis',\n",
       "       'Bronchospasm Prophylaxis', 'Bulimia', 'Bullous Pemphigoid',\n",
       "       'Burning Mouth Syndrome', 'Burns, External', 'Bursitis',\n",
       "       'CMV Prophylaxis', 'CNS Magnetic Resonance Imaging', 'COPD',\n",
       "       'COPD, Acute', 'COPD, Maintenance', 'Cachexia',\n",
       "       'Campylobacter Gastroenteritis', 'Cance',\n",
       "       'Candida Urinary Tract Infection', 'Candidemia', 'Carcinoid Tum',\n",
       "       'Cardiovascular Risk Reduction', 'Cataplexy', 'Cerebral Edema',\n",
       "       'Cerebral Spasticity', 'Cerebrovascular Insufficiency',\n",
       "       'Cervical Dystonia', 'Chlamydia Infection', 'Cholera',\n",
       "       'Chronic Eosinophilic Leukemia', 'Chronic Fatigue Syndrome',\n",
       "       'Chronic Idiopathic Constipation',\n",
       "       'Chronic Inflammatory Demyelinating Polyradiculoneuropathy',\n",
       "       'Chronic Lymphocytic Leukemia', 'Chronic Myelogenous Leukemia',\n",
       "       'Chronic Myofascial Pain', 'Chronic Pain', 'Chronic Pancreatitis',\n",
       "       'Chronic Spasticity', 'Clostridial Infection', 'Cluster Headaches',\n",
       "       'Cluster-Tic Syndrome', 'Coccidioidomycosis', \"Cogan's Syndrome\",\n",
       "       'Cold Sores', 'Cold Symptoms', 'Colorectal Cance',\n",
       "       'Computed Tomography', 'Condylomata Acuminata', 'Conjunctivitis',\n",
       "       'Conjunctivitis, Allergic', 'Conjunctivitis, Bacterial',\n",
       "       'Constipation', 'Constipation, Acute', 'Constipation, Chronic',\n",
       "       'Constipation, Drug Induced', 'Corneal Refractive Surgery',\n",
       "       'Corneal Ulce', 'Coronary Artery Disease', 'Costochondritis',\n",
       "       'Cough', 'Cough and Nasal Congestion', \"Crohn's Disease\",\n",
       "       \"Crohn's Disease, Acute\", \"Crohn's Disease, Maintenance\", 'Croup',\n",
       "       'Cutaneous Candidiasis', 'Cutaneous Larva Migrans',\n",
       "       'Cutaneous T-cell Lymphoma', 'Cyclic Vomiting Syndrome',\n",
       "       'Cyclitis', 'Cyclothymic Disorde', 'Cystic Fibrosis', 'Dandruff',\n",
       "       'Deep Neck Infection', 'Deep Vein Thrombosis',\n",
       "       'Deep Vein Thrombosis Prophylaxis after Hip Replacement Surgery',\n",
       "       'Deep Vein Thrombosis Prophylaxis after Knee Replacement Surgery',\n",
       "       'Deep Vein Thrombosis, First Event',\n",
       "       'Deep Vein Thrombosis, Prophylaxis',\n",
       "       'Deep Vein Thrombosis, Recurrent Event', 'Delayed Puberty, Male',\n",
       "       'Dementia', 'Dental Abscess', 'Depression', \"Dercum's Disease\",\n",
       "       'Dermatitis', 'Dermatitis Herpeti', 'Dermatitis Herpetiformis',\n",
       "       'Dermatologic Lesion', 'Dermatological Disorders',\n",
       "       'Dermatomyositis', 'Dermatophytosis', 'Diabetes Insipidus',\n",
       "       'Diabetes, Type 1', 'Diabetes, Type 2', 'Diabetic Kidney Disease',\n",
       "       'Diabetic Macular Edema', 'Diabetic Peripheral Neuropathy',\n",
       "       'Diagnosis and Investigation', 'Diagnostic Bronchograms',\n",
       "       'Diaper Rash', 'Diarrhea', 'Diarrhea, Acute', 'Diarrhea, Chronic',\n",
       "       'Dientamoeba fragilis', 'Dietary Fiber Supplementation',\n",
       "       'Dietary Supplementation', 'Dissociative Identity Disorde',\n",
       "       'Diverticulitis', 'Dry Eye Disease', 'Dry Skin',\n",
       "       'Dumping Syndrome', 'Duodenal Ulce', 'Duodenal Ulcer Prophylaxis',\n",
       "       \"Dupuytren's contracture\", 'Dysautonomia', 'Dyspareunia',\n",
       "       'Dystonia', 'Dysuria', 'Ear Wax Impaction', 'Ectopic Pregnancy',\n",
       "       'Eczema', 'Edema', 'Ehrlichiosis', 'Emergency Contraception',\n",
       "       'Endometrial Cance', 'Endometrial Hyperplasia',\n",
       "       'Endometrial Hyperplasia, Prophylaxis', 'Endometriosis',\n",
       "       'Endoscopy or Radiology Premedication', 'Enterocolitis',\n",
       "       'Eosinophilic Esophagitis', 'Epicondylitis, Tennis Elbow',\n",
       "       'Epididymitis, Sexually Transmitted', 'Epilepsy',\n",
       "       'Erectile Dysfunction', 'Erosive Esophagitis',\n",
       "       'Esophageal Candidiasis', 'Esophageal Spasm',\n",
       "       'Esophageal Variceal Hemorrhage Prophylaxis',\n",
       "       'Euvolemic Hyponatremia', 'Expectoration',\n",
       "       'Extrapyramidal Reaction', 'Eye Redness', 'Eye Redness/Itching',\n",
       "       'Eyelash Hypotrichosis', 'GERD', 'Gallbladder Disease', 'Gas',\n",
       "       'Gastric Cance', 'Gastric Ulcer Maintenance Treatment',\n",
       "       'Gastritis/Duodenitis', 'Gastroenteritis',\n",
       "       'Gastrointestinal Decontamination', 'Gastrointestinal Hemorrhage',\n",
       "       'Gastrointestinal Stromal Tum', 'Gastroparesis', 'Gaucher Disease',\n",
       "       'Gender Dysphoria', 'Generalized Anxiety Disorde',\n",
       "       'Gestational Diabetes', 'Giant Cell Tumor of Bone', 'Giardiasis',\n",
       "       'Gingivitis', 'Glaucoma', 'Glaucoma, Open Angle',\n",
       "       'Glaucoma/Intraocular Hypertension', 'Glioblastoma Multi',\n",
       "       'Glioblastoma Multiforme', 'Gonadotropin Inhibition',\n",
       "       'Gonococcal Infection, Disseminated',\n",
       "       'Gonococcal Infection, Uncomplicated', 'Gout', 'Gout, Acute',\n",
       "       'Gout, Prophylaxis', 'Gouty Arthritis', 'Granuloma Annulare',\n",
       "       'HIV Infection', 'Hairy Cell Leukemia', \"Hashimoto's disease\",\n",
       "       'Head Injury', 'Head Lice', 'Head and Neck Cance', 'Headache',\n",
       "       'Heart Attack', 'Heart Failure', 'Helicobacter Pylori Infection',\n",
       "       'Hemangioma', 'Hemophilia A', 'Hemophilia B', 'Hemorrhoids',\n",
       "       'Hemorrhoids (pramoxine / zinc oxide)', 'Hepatic Encephalopathy',\n",
       "       'Hepatic Tum', 'Hepatitis B', 'Hepatitis B Prevention',\n",
       "       'Hepatitis C', 'Hepatocellular Carcinoma',\n",
       "       'Herbal Supplementation', 'Hereditary Angioedema',\n",
       "       'Herpes Simplex', 'Herpes Simplex Dendritic Keratitis',\n",
       "       'Herpes Simplex, Mucocutaneous/Immunocompetent Host',\n",
       "       'Herpes Simplex, Mucocutaneous/Immunocompromised Host',\n",
       "       'Herpes Simplex, Suppression', 'Herpes Zoste',\n",
       "       'Herpes Zoster, Prophylaxis', 'Hiccups',\n",
       "       'Hidradenitis Suppurativa', 'High Blood Pressure',\n",
       "       'High Cholesterol', 'High Cholesterol, Familial Heterozygous',\n",
       "       'High Cholesterol, Familial Homozygous', 'Hirsutism',\n",
       "       'Histoplasmosis', \"Hodgkin's Lymphoma\", 'Hot Flashes',\n",
       "       'Human Papilloma Virus', 'Human Papillomavirus Prophylaxis',\n",
       "       'Hydrocephalus', 'Hyperbilirubinemia', 'Hypercalcemia',\n",
       "       'Hypercalcemia of Malignancy', 'Hyperekplexia', 'Hyperhidrosis',\n",
       "       'Hyperkalemia', 'Hyperlipoproteinemia',\n",
       "       'Hyperlipoproteinemia Type III, Elevated beta-VLDL   IDL',\n",
       "       'Hyperlipoproteinemia Type IIa, Elevated LDL',\n",
       "       'Hyperlipoproteinemia Type IV, Elevated VLDL',\n",
       "       'Hyperparathyroidism Secondary to Renal Impairment',\n",
       "       'Hyperphosphatemia', 'Hyperphosphatemia of Renal Failure',\n",
       "       'Hyperprolactinemia', 'Hypersomnia', 'Hypertensive Emergency',\n",
       "       'Hyperthyroidism', 'Hypertriglyceridemia',\n",
       "       'Hyperuricemia Secondary to Chemotherapy',\n",
       "       'Hypoactive Sexual Desire Disorde', 'Hypocalcemia',\n",
       "       'Hypodermoclysis', 'Hypoestrogenism', 'Hypoglycemia',\n",
       "       'Hypogonadism, Male', 'Hypokalemia',\n",
       "       'Hypokalemic Periodic Paralysis', 'Hypomagnesemia',\n",
       "       'Hypoparathyroidism', 'Hypopituitarism', 'Hypotension',\n",
       "       'Hypothyroidism, After Thyroid Removal', 'ICU Agitation',\n",
       "       'Ichthyosis', 'Idiopathic Thrombocytopenic Purpura',\n",
       "       'Immunosuppression', 'Impetig', 'Indigestion',\n",
       "       'Infection Prophylaxis', 'Infectious Diarrhea',\n",
       "       'Inflammatory Bowel Disease', 'Inflammatory Conditions',\n",
       "       'Influenza', 'Influenza Prophylaxis', 'Insomnia',\n",
       "       'Insomnia, Stimulant-Associated', 'Insulin Resistance Syndrome',\n",
       "       'Intermittent Claudication', 'Intermittent Explosive Disorde',\n",
       "       'Interstitial Cystitis', 'Intraabdominal Infection',\n",
       "       'Intraocular Hypertension', 'Iritis', 'Iron Deficiency Anemia',\n",
       "       'Irritable Bowel Syndrome', 'Ischemic Stroke',\n",
       "       'Ischemic Stroke, Prophylaxis', 'Jet Lag', 'Joint Infection',\n",
       "       'Juvenile Idiopathic Arthritis', 'Juvenile Rheumatoid Arthritis',\n",
       "       'Keratitis', 'Keratoconjunctivitis Sicca', 'Keratosis',\n",
       "       'Kidney Infections', 'Klinefelter Syndrome', 'Labor Induction',\n",
       "       'Labor Pain', 'Lactation Augmentation', 'Lactose Intolerance',\n",
       "       'Left Ventricular Dysfunction', 'Legionella Pneumonia',\n",
       "       'Lennox-Gastaut Syndrome', 'Leukemia',\n",
       "       'Leukocytoclastic Vasculitis', 'Lewy Body Dementia',\n",
       "       'Lichen Planus', 'Lichen Sclerosus', 'Light Anesthesia',\n",
       "       'Light Sedation', 'Linear IgA Disease', 'Lipodystrophy',\n",
       "       'Liver Magnetic Resonance Imaging', 'Local Anesthesia',\n",
       "       'Lyme Disease', 'Lyme Disease, Arthritis',\n",
       "       'Lyme Disease, Erythema Chronicum Migrans',\n",
       "       'Lyme Disease, Neurologic', 'Lymphocytic Colitis', 'Lymphoma',\n",
       "       'Macular Degeneration', 'Macular Edema',\n",
       "       'Major Depressive Disorde', 'Malaria', 'Malaria Prevention',\n",
       "       'Malignant Glioma', 'Mania', 'Manscaping Pain',\n",
       "       'Mantle Cell Lymphoma', 'Melanoma', 'Melanoma, Metastatic',\n",
       "       'Melasma', \"Meniere's Disease\", 'Meningitis',\n",
       "       'Meningitis, Meningococcal',\n",
       "       'Meningococcal Meningitis Prophylaxis', 'Menopausal Disorders',\n",
       "       'Menorrhagia', 'Menstrual Disorders',\n",
       "       'Methicillin-Resistant Staphylococcus Aureus Infection',\n",
       "       'Microscopic polyangiitis', 'Migraine', 'Migraine Prevention',\n",
       "       'Mild Cognitive Impairment', 'Mitral Valve Prolapse',\n",
       "       'Mixed Connective Tissue Disease', 'Mononucleosis',\n",
       "       'Motion Sickness', 'Mountain Sickness / Altitude Sickness',\n",
       "       'Mucositis', 'Multiple Endocrine Adenomas', 'Multiple Myeloma',\n",
       "       'Multiple Sclerosis', 'Mumps Prophylaxis', 'Muscle Pain',\n",
       "       'Muscle Spasm', 'Muscle Twitching', 'Myasthenia Gravis',\n",
       "       'Mycobacterium avium-intracellulare, Treatment',\n",
       "       'Mycoplasma Pneumonia', 'Myelodysplastic Syndrome',\n",
       "       'Myelofibrosis', 'Myeloproliferative Disorders',\n",
       "       'Myotonia Congenita', 'Myxedema Coma',\n",
       "       'NSAID-Induced Gastric Ulce', 'NSAID-Induced Ulcer Prophylaxis',\n",
       "       'Narcolepsy', 'Nasal Carriage of Staphylococcus aureus',\n",
       "       'Nasal Congestion', 'Nasal Polyps',\n",
       "       'Nausea (phosphorated carbohydrate solution)', 'Nausea/Vomiting',\n",
       "       'Nausea/Vomiting of Pregnancy',\n",
       "       'Nausea/Vomiting, Chemotherapy Induced',\n",
       "       'Nausea/Vomiting, Postoperative',\n",
       "       'Nausea/Vomiting, Radiation Induced', 'Neck Pain',\n",
       "       'Neoplastic Diseases', 'Nephrocalcinosis', 'Nephrotic Syndrome',\n",
       "       'Neuralgia', 'Neuritis', 'Neuropathic Pain', 'Neurosis',\n",
       "       'Neurosurgery', 'Neurotic Depression', 'Neutropenia',\n",
       "       'Neutropenia Associated with Chemotherapy',\n",
       "       'New Daily Persistent Headache', 'Niacin Deficiency',\n",
       "       'Night Terrors', 'Nightmares', 'Nocardiosis',\n",
       "       'Nocturnal Leg Cramps', \"Non-Hodgkin's Lymphoma\",\n",
       "       'Non-Small Cell Lung Cance', 'Nonalcoholic Fatty Liver Disease',\n",
       "       'Noninfectious Colitis', 'Nonoccupational Exposure',\n",
       "       'Not Listed / Othe', 'Obesity', 'Obsessive Compulsive Disorde',\n",
       "       'Obstructive Sleep Apnea/Hypopnea Syndrome', 'Occipital Neuralgia',\n",
       "       'Occupational Exposure', 'Ocular Rosacea', 'Oligospermia',\n",
       "       'Onychomycosis, Fingernail', 'Onychomycosis, Toenail',\n",
       "       'Oophorectomy', 'Ophthalmic Surgery', 'Opiate Adjunct',\n",
       "       'Opiate Dependence', 'Opiate Withdrawal', 'Opioid Overdose',\n",
       "       'Opioid-Induced Constipation', 'Oppositional Defiant Disorde',\n",
       "       'Oral Thrush', 'Oral and Dental Conditions',\n",
       "       'Organ Transplant, Rejection Prophylaxis',\n",
       "       'Organ Transplant, Rejection Reversal', 'Osteoarthritis',\n",
       "       'Osteolytic Bone Lesions of Multiple Myeloma',\n",
       "       'Osteolytic Bone Metastases of Solid Tumors', 'Osteoporosis',\n",
       "       'Otitis Externa', 'Otitis Media', 'Ovarian Cance', 'Ovarian Cysts',\n",
       "       'Overactive Bladde', 'Ovulation Induction', \"Paget's Disease\",\n",
       "       'Pain', 'Pain/Feve', 'Pancreatic Cance',\n",
       "       'Pancreatic Exocrine Dysfunction', 'Panic Disorde',\n",
       "       'Paragonimus westermani, Lung Fluke', 'Paranoid Disorde',\n",
       "       \"Parkinson's Disease\", 'Parkinsonian Trem', 'Parkinsonism',\n",
       "       'Paroxysmal Supraventricular Tachycardia',\n",
       "       'Patent Ductus Arteriosus',\n",
       "       'Pathological Hypersecretory Conditions', 'Pe',\n",
       "       'Pediatric Growth Hormone Deficiency',\n",
       "       'Pelvic Inflammatory Disease', 'Pemphigoid', 'Pemphigus',\n",
       "       'Peptic Ulce', 'Percutaneous Coronary Intervention',\n",
       "       'Performance Anxiety', 'Perimenopausal Symptoms', 'Period Pain',\n",
       "       'Periodic Limb Movement Disorde', 'Periodontitis',\n",
       "       'Perioral Dermatitis', 'Peripheral Arterial Disease',\n",
       "       'Peripheral Neuropathy', 'Peripheral T-cell Lymphoma',\n",
       "       'Peritonitis', 'Persistent Depressive Disorde', 'Pertussis',\n",
       "       'Pertussis Prophylaxis', \"Peyronie's Disease\", 'Pharyngitis',\n",
       "       'Photoaging of the Skin',\n",
       "       'Pinworm Infection (Enterobius vermicularis)',\n",
       "       'Pityriasis rubra pilaris', 'Plaque Psoriasis',\n",
       "       'Platelet Aggregation Inhibition',\n",
       "       'Pneumococcal Disease Prophylaxis', 'Pneumonia',\n",
       "       'Polycystic Ovary Syndrome', 'Polycythemia Vera',\n",
       "       'Polymyositis/Dermatomyositis', 'Porphyria', 'Portal Hypertension',\n",
       "       'Post Traumatic Stress Disorde', 'Post-Cholecystectomy Diarrhea',\n",
       "       'Postherpetic Neuralgia', 'Postmenopausal Symptoms',\n",
       "       'Postoperative Increased Intraocular Pressure',\n",
       "       'Postoperative Ocular Inflammation', 'Postoperative Pain',\n",
       "       'Postpartum Breast Pain', 'Postpartum Depression',\n",
       "       'Postural Orthostatic Tachycardia Syndrome',\n",
       "       'Pre-Exposure Prophylaxis', 'Precocious Puberty',\n",
       "       'Premature Ejaculation', 'Premature Lab',\n",
       "       'Premature Ventricular Depolarizations',\n",
       "       'Premenstrual Dysphoric Disorde', 'Premenstrual Syndrome',\n",
       "       'Prevention of Atherothrombotic Events',\n",
       "       'Prevention of Bladder infection',\n",
       "       'Prevention of Cardiovascular Disease',\n",
       "       'Prevention of Dental Caries', 'Prevention of Hypokalemia',\n",
       "       'Prevention of Osteoporosis',\n",
       "       'Prevention of Perinatal Group B Streptococcal Disease',\n",
       "       'Prevention of Thromboembolism in Atrial Fibrillation',\n",
       "       'Primary Hyperaldosteronism',\n",
       "       'Primary Hyperaldosteronism Diagnosis',\n",
       "       'Primary Immunodeficiency Syndrome', 'Primary Nocturnal Enuresis',\n",
       "       'Primary Ovarian Failure', 'Progesterone Insufficiency',\n",
       "       'Prostate Cance', 'Prostatitis',\n",
       "       'Prosthetic Heart Valves, Mechanical Valves - Thrombosis Prophylaxis',\n",
       "       'Prosthetic Heart Valves, Tissue Valves - Thrombosis Prophylaxis',\n",
       "       'Pruritus', 'Pruritus of Partial Biliary Obstruction',\n",
       "       'Pseudobulbar Affect', 'Pseudogout, Prophylaxis',\n",
       "       'Pseudomembranous Colitis', 'Pseudotumor Cerebri', 'Psoriasis',\n",
       "       'Psoriatic Arthritis', 'Psychosis', 'Pudendal Neuralgia',\n",
       "       'Pulmonary Edema', 'Pulmonary Embolism',\n",
       "       'Pulmonary Embolism, First Event',\n",
       "       'Pulmonary Embolism, Recurrent Event', 'Pulmonary Hypertension',\n",
       "       'Pupillary Dilation', 'Q Feve', 'Rabies Prophylaxis',\n",
       "       'Radionuclide Myocardial Perfusion Study', 'Ramsay Hunt Syndrome',\n",
       "       'Rat-bite Feve', \"Raynaud's Syndrome\",\n",
       "       'Reflex Sympathetic Dystrophy Syndrome', \"Reiter's Syndrome\",\n",
       "       'Rejection Prophylaxis', 'Renal Cell Carcinoma',\n",
       "       'Renal Transplant', 'Renal Tubular Acidosis',\n",
       "       'Restless Legs Syndrome',\n",
       "       'Reversal of Nondepolarizing Muscle Relaxants',\n",
       "       'Reversal of Opioid Sedation', 'Rheumatoid Arthritis', 'Rhinitis',\n",
       "       'Rhinorrhea', 'Rosacea', 'SIADH', 'STD Prophylaxis',\n",
       "       'Salivary Gland Cance', 'Salmonella Gastroenteritis',\n",
       "       'Sarcoidosis', 'Scabies', 'Schilling Test',\n",
       "       'Schistosoma japonicum', 'Schizoaffective Disorde',\n",
       "       'Schizophrenia', 'Schnitzler Syndrome', 'Sciatica', 'Scleroderma',\n",
       "       'Seasonal Affective Disorde', 'Seasonal Allergic Conjunctivitis',\n",
       "       'Seborrheic Dermatitis',\n",
       "       'Secondary Cutaneous Bacterial Infections',\n",
       "       'Secondary Hyperparathyroidism', 'Sedation', 'Seizure Prevention',\n",
       "       'Seizures', 'Sepsis', 'Severe Mood Dysregulation',\n",
       "       'Sexual Dysfunction, SSRI Induced', 'Shift Work Sleep Disorde',\n",
       "       'Short Stature', 'Short Stature for Age', 'Sinus Symptoms',\n",
       "       'Sinusitis', \"Sjogren's Syndrome\", 'Skin Cance',\n",
       "       'Skin Disinfection, Preoperative', 'Skin Rash',\n",
       "       'Skin and Structure Infection', 'Skin or Soft Tissue Infection',\n",
       "       'Sleep Paralysis', 'Small Bowel Bacterial Overgrowth',\n",
       "       'Small Bowel or Pancreatic Fistula', 'Small Fiber Neuropathy',\n",
       "       'Smoking Cessation', 'Social Anxiety Disorde',\n",
       "       'Soft Tissue Sarcoma', 'Solid Tumors', 'Somat',\n",
       "       'Somatoform Pain Disorde', 'Sore Throat', 'Spondyloarthritis',\n",
       "       'Spondylolisthesis', 'Sporotrichosis', 'Squamous Cell Carcinoma',\n",
       "       'Status Epilepticus', 'Steroid Responsive Inflammatory Conditions',\n",
       "       \"Still's Disease\", 'Stomach Cance', 'Stomach Ulce', 'Strabismus',\n",
       "       'Strep Throat', 'Streptococcal Infection',\n",
       "       'Stress Ulcer Prophylaxis', 'Strongyloidiasis',\n",
       "       'Subarachnoid Hemorrhage', 'Submental Fullness', 'Sunburn',\n",
       "       'Supraventricular Tachycardia', 'Surgical Prophylaxis',\n",
       "       'Swine Flu', 'Syringomyelia', 'Systemic Candidiasis',\n",
       "       'Systemic Lupus Erythematosus', 'Systemic Mastocytosis',\n",
       "       'Systemic Sclerosis', 'TSH Suppression', 'Tardive Dyskinesia',\n",
       "       'Temporomandibular Joint Disorde', 'Tendonitis',\n",
       "       'Testicular Cance', 'Tetanus', 'Thrombocythemia',\n",
       "       'Thrombocytopenia', 'Thromboembolic Stroke Prophylaxis',\n",
       "       'Thyroid Cance', 'Thyroid Suppression Test', 'Thyrotoxicosis',\n",
       "       'Tic Disorde', 'Tinea Barbae', 'Tinea Capitis', 'Tinea Corporis',\n",
       "       'Tinea Cruris', 'Tinea Pedis', 'Tinea Versicol', 'Tinnitus',\n",
       "       'Tonsillitis/Pharyngitis', 'Toothache', 'Topical Disinfection',\n",
       "       \"Tourette's Syndrome\", 'Transient Ischemic Attack',\n",
       "       'Transverse Myelitis', \"Traveler's Diarrhea\", 'Trichomoniasis',\n",
       "       'Trichotillomania', 'Trigeminal Neuralgia', 'Tuberculosis, Active',\n",
       "       'Tuberculosis, Latent', 'Tuberculosis, Prophylaxis',\n",
       "       \"Turner's Syndrome\", 'Tympanostomy Tube Placement Surgery',\n",
       "       'Typhoid Feve', 'Ulcerative Colitis', 'Ulcerative Colitis, Active',\n",
       "       'Ulcerative Colitis, Maintenance', 'Ulcerative Proctitis',\n",
       "       'Underactive Thyroid',\n",
       "       'Undifferentiated Connective Tissue Disease',\n",
       "       'Upper Limb Spasticity', 'Upper Respiratory Tract Infection',\n",
       "       'Urinary Incontinence', 'Urinary Retention',\n",
       "       'Urinary Tract Infection', 'Urinary Tract Stones', 'Urticaria',\n",
       "       'Uterine Bleeding', 'Uterine Fibroids', 'Uveitis',\n",
       "       'Uveitis, Posteri', 'Vaginal Yeast Infection', 'Varicella-Zoste',\n",
       "       'Varicose Veins', 'Ventricular Arrhythmia',\n",
       "       'Ventricular Fibrillation', 'Ventricular Tachycardia', 'Vertig',\n",
       "       'Vitamin B12 Deficiency', 'Vitamin D Deficiency',\n",
       "       'Vitamin K Deficiency',\n",
       "       'Vitamin/Mineral Supplementation and Deficiency',\n",
       "       'Vitamin/Mineral Supplementation during Pregnancy/Lactation',\n",
       "       'Vulvodynia', 'Warts', \"Wegener's Granulomatosis\", 'Weight Loss',\n",
       "       \"Wilson's Disease\", 'Wolff-Parkinson-White Syndrome',\n",
       "       'Women (minoxidil)', 'Women (oxybutynin)', 'Wound Cleansing',\n",
       "       'Xerostomia', 'Yellow Fever Prophylaxis',\n",
       "       'Zollinger-Ellison Syndrome', 'acial Lipoatrophy',\n",
       "       'acial Wrinkles', 'actor IX Deficiency', 'ailure to Thrive',\n",
       "       'amilial Cold Autoinflammatory Syndrome',\n",
       "       'amilial Mediterranean Feve', 'atigue',\n",
       "       'cal Segmental Glomerulosclerosis', 'emale Infertility', 'eve',\n",
       "       'ge (amlodipine / valsartan)',\n",
       "       'ge HCT (amlodipine / hydrochlorothiazide / valsartan)',\n",
       "       'ibrocystic Breast Disease', 'ibromyalgia', 'lic Acid Deficiency',\n",
       "       'llicle Stimulation', 'llicular Lymphoma', 'm Pain Disorde',\n",
       "       'mance Anxiety', 'me', 'min / pioglitazone)',\n",
       "       'min / rosiglitazone)', 'min / saxagliptin)', 'min / sitagliptin)',\n",
       "       'min)', 'mis', 'mist (', 'moterol / mometasone)', 'moterol)',\n",
       "       'mulation) (phenylephrine)', 't Care',\n",
       "       't Pac with Cyclobenzaprine (cyclobenzaprine)',\n",
       "       'tic (mycophenolic acid)', 'unctional Gastric Disorde',\n",
       "       'ungal Infection Prophylaxis', 'ungal Pneumonia',\n",
       "       \"von Willebrand's Disease\", 'zen Shoulde'], dtype=object)"
      ]
     },
     "execution_count": 10,
     "metadata": {},
     "output_type": "execute_result"
    }
   ],
   "source": [
    "#Conditions \n",
    "unique_conditions = df['condition'].unique()\n",
    "unique_conditions.sort()\n",
    "unique_conditions"
   ]
  },
  {
   "cell_type": "code",
   "execution_count": 11,
   "metadata": {},
   "outputs": [],
   "source": [
    "#There is incorrect conditions that contain 'users found this comment helpful.' and does not contain a condition \n",
    "df.loc[df['condition'].str.contains('users found this comment helpful.'), 'condition'] = None"
   ]
  },
  {
   "cell_type": "code",
   "execution_count": 12,
   "metadata": {},
   "outputs": [
    {
     "name": "stdout",
     "output_type": "stream",
     "text": [
      "Incorrect Html Tagged Conditions Table\n",
      "uniqueid          0\n",
      "drugname          0\n",
      "condition      1171\n",
      "review            0\n",
      "rating            0\n",
      "date              0\n",
      "usefulcount       0\n",
      "dtype: int64\n"
     ]
    }
   ],
   "source": [
    "print(\"Incorrect Html Tagged Conditions Table\")\n",
    "print(df.isnull().sum())"
   ]
  },
  {
   "cell_type": "code",
   "execution_count": 13,
   "metadata": {},
   "outputs": [
    {
     "name": "stdout",
     "output_type": "stream",
     "text": [
      "Percentage of Corrupted values in conditions: 0.5475314327929715%\n"
     ]
    }
   ],
   "source": [
    "size = df.shape[0]\n",
    "condition_na = df['condition'].isnull().sum()\n",
    "\n",
    "print(f'Percentage of Corrupted values in conditions: {condition_na/size*100}%')"
   ]
  },
  {
   "cell_type": "code",
   "execution_count": 14,
   "metadata": {},
   "outputs": [
    {
     "name": "stdout",
     "output_type": "stream",
     "text": [
      "Missing Value Table\n",
      "uniqueid       0\n",
      "drugname       0\n",
      "condition      0\n",
      "review         0\n",
      "rating         0\n",
      "date           0\n",
      "usefulcount    0\n",
      "dtype: int64\n",
      "\n",
      "New Data Shape: (212698, 7)\n"
     ]
    }
   ],
   "source": [
    "df = df.dropna()\n",
    "print(\"Missing Value Table\")\n",
    "print(df.isnull().sum())\n",
    "print()\n",
    "print('New Data Shape:', df.shape)"
   ]
  },
  {
   "cell_type": "markdown",
   "metadata": {},
   "source": [
    "#  Polarity Lexicon Approach"
   ]
  },
  {
   "cell_type": "markdown",
   "metadata": {},
   "source": [
    "<h3>TextBlob</h3>"
   ]
  },
  {
   "cell_type": "code",
   "execution_count": 15,
   "metadata": {},
   "outputs": [],
   "source": [
    "from tqdm import tqdm"
   ]
  },
  {
   "cell_type": "code",
   "execution_count": 16,
   "metadata": {},
   "outputs": [
    {
     "name": "stderr",
     "output_type": "stream",
     "text": [
      "100%|██████████| 212698/212698 [05:50<00:00, 606.02it/s]\n"
     ]
    }
   ],
   "source": [
    "reviews = df[\"review\"]\n",
    "sentiments = []\n",
    "subjectivity = []\n",
    "\n",
    "for review in tqdm(reviews):\n",
    "    blob = TextBlob(review)\n",
    "    sentiments += [blob.sentiment.polarity]\n",
    "    subjectivity += [blob.sentiment.subjectivity]"
   ]
  },
  {
   "cell_type": "code",
   "execution_count": 17,
   "metadata": {},
   "outputs": [],
   "source": [
    "textblob_df = df.copy()\n",
    "\n",
    "textblob_df[\"polarity\"] = sentiments\n",
    "textblob_df[\"subjectivity\"] = subjectivity"
   ]
  },
  {
   "cell_type": "code",
   "execution_count": 18,
   "metadata": {},
   "outputs": [
    {
     "data": {
      "text/html": [
       "<div>\n",
       "<style scoped>\n",
       "    .dataframe tbody tr th:only-of-type {\n",
       "        vertical-align: middle;\n",
       "    }\n",
       "\n",
       "    .dataframe tbody tr th {\n",
       "        vertical-align: top;\n",
       "    }\n",
       "\n",
       "    .dataframe thead th {\n",
       "        text-align: right;\n",
       "    }\n",
       "</style>\n",
       "<table border=\"1\" class=\"dataframe\">\n",
       "  <thead>\n",
       "    <tr style=\"text-align: right;\">\n",
       "      <th></th>\n",
       "      <th>uniqueid</th>\n",
       "      <th>drugname</th>\n",
       "      <th>condition</th>\n",
       "      <th>review</th>\n",
       "      <th>rating</th>\n",
       "      <th>date</th>\n",
       "      <th>usefulcount</th>\n",
       "      <th>polarity</th>\n",
       "      <th>subjectivity</th>\n",
       "    </tr>\n",
       "  </thead>\n",
       "  <tbody>\n",
       "    <tr>\n",
       "      <th>0</th>\n",
       "      <td>0</td>\n",
       "      <td>Medroxyprogesterone</td>\n",
       "      <td>Abnormal Uterine Bleeding</td>\n",
       "      <td>\"Been on the depo injection since January 2015...</td>\n",
       "      <td>3.0</td>\n",
       "      <td>October 28, 2015</td>\n",
       "      <td>4</td>\n",
       "      <td>-0.287798</td>\n",
       "      <td>0.609524</td>\n",
       "    </tr>\n",
       "    <tr>\n",
       "      <th>1</th>\n",
       "      <td>2</td>\n",
       "      <td>Medroxyprogesterone</td>\n",
       "      <td>Amenorrhea</td>\n",
       "      <td>\"I&amp;#039;m 21 years old and recently found out ...</td>\n",
       "      <td>10.0</td>\n",
       "      <td>October 27, 2015</td>\n",
       "      <td>11</td>\n",
       "      <td>0.175357</td>\n",
       "      <td>0.485860</td>\n",
       "    </tr>\n",
       "    <tr>\n",
       "      <th>2</th>\n",
       "      <td>3</td>\n",
       "      <td>Medroxyprogesterone</td>\n",
       "      <td>Abnormal Uterine Bleeding</td>\n",
       "      <td>\"I have been on the shot 11 years and until a ...</td>\n",
       "      <td>8.0</td>\n",
       "      <td>October 27, 2015</td>\n",
       "      <td>7</td>\n",
       "      <td>-0.210000</td>\n",
       "      <td>0.767778</td>\n",
       "    </tr>\n",
       "    <tr>\n",
       "      <th>3</th>\n",
       "      <td>4</td>\n",
       "      <td>Medroxyprogesterone</td>\n",
       "      <td>Birth Control</td>\n",
       "      <td>\"Ive had four shots at this point. I was on bi...</td>\n",
       "      <td>9.0</td>\n",
       "      <td>October 26, 2015</td>\n",
       "      <td>12</td>\n",
       "      <td>-0.022500</td>\n",
       "      <td>0.617692</td>\n",
       "    </tr>\n",
       "    <tr>\n",
       "      <th>4</th>\n",
       "      <td>5</td>\n",
       "      <td>Medroxyprogesterone</td>\n",
       "      <td>Abnormal Uterine Bleeding</td>\n",
       "      <td>\"I had a total of 3 shots. I got my first one ...</td>\n",
       "      <td>1.0</td>\n",
       "      <td>October 25, 2015</td>\n",
       "      <td>4</td>\n",
       "      <td>0.044872</td>\n",
       "      <td>0.612968</td>\n",
       "    </tr>\n",
       "  </tbody>\n",
       "</table>\n",
       "</div>"
      ],
      "text/plain": [
       "   uniqueid             drugname                  condition  \\\n",
       "0         0  Medroxyprogesterone  Abnormal Uterine Bleeding   \n",
       "1         2  Medroxyprogesterone                 Amenorrhea   \n",
       "2         3  Medroxyprogesterone  Abnormal Uterine Bleeding   \n",
       "3         4  Medroxyprogesterone              Birth Control   \n",
       "4         5  Medroxyprogesterone  Abnormal Uterine Bleeding   \n",
       "\n",
       "                                              review  rating  \\\n",
       "0  \"Been on the depo injection since January 2015...     3.0   \n",
       "1  \"I&#039;m 21 years old and recently found out ...    10.0   \n",
       "2  \"I have been on the shot 11 years and until a ...     8.0   \n",
       "3  \"Ive had four shots at this point. I was on bi...     9.0   \n",
       "4  \"I had a total of 3 shots. I got my first one ...     1.0   \n",
       "\n",
       "               date  usefulcount  polarity  subjectivity  \n",
       "0  October 28, 2015            4 -0.287798      0.609524  \n",
       "1  October 27, 2015           11  0.175357      0.485860  \n",
       "2  October 27, 2015            7 -0.210000      0.767778  \n",
       "3  October 26, 2015           12 -0.022500      0.617692  \n",
       "4  October 25, 2015            4  0.044872      0.612968  "
      ]
     },
     "execution_count": 18,
     "metadata": {},
     "output_type": "execute_result"
    }
   ],
   "source": [
    "textblob_df.head(5)"
   ]
  },
  {
   "cell_type": "code",
   "execution_count": 19,
   "metadata": {},
   "outputs": [
    {
     "data": {
      "text/plain": [
       "array([[1.        , 0.34821039],\n",
       "       [0.34821039, 1.        ]])"
      ]
     },
     "execution_count": 19,
     "metadata": {},
     "output_type": "execute_result"
    }
   ],
   "source": [
    "np.corrcoef(df[\"rating\"], textblob_df[\"polarity\"])"
   ]
  },
  {
   "cell_type": "code",
   "execution_count": 20,
   "metadata": {},
   "outputs": [
    {
     "data": {
      "image/png": "[encoded data removed]",
      "text/plain": [
       "<Figure size 432x288 with 1 Axes>"
      ]
     },
     "metadata": {
      "needs_background": "light"
     },
     "output_type": "display_data"
    }
   ],
   "source": [
    "sns.boxplot(x=np.array(textblob_df[\"rating\"]),y=np.array(textblob_df[\"polarity\"]))\n",
    "plt.xlabel(\"Rating\")\n",
    "plt.ylabel(\"Polarity\")\n",
    "plt.title(\"Polarity vs Ratings\")\n",
    "plt.show()"
   ]
  },
  {
   "cell_type": "code",
   "execution_count": 21,
   "metadata": {},
   "outputs": [
    {
     "name": "stderr",
     "output_type": "stream",
     "text": [
      "C:\\Users\\vanes\\anaconda3\\lib\\site-packages\\seaborn\\distributions.py:2557: FutureWarning: `distplot` is a deprecated function and will be removed in a future version. Please adapt your code to use either `displot` (a figure-level function with similar flexibility) or `histplot` (an axes-level function for histograms).\n",
      "  warnings.warn(msg, FutureWarning)\n"
     ]
    },
    {
     "data": {
      "text/plain": [
       "Text(0.5, 1.0, 'TextBlob Polarity Distribution')"
      ]
     },
     "execution_count": 21,
     "metadata": {},
     "output_type": "execute_result"
    },
    {
     "data": {
      "image/png": "[encoded data removed]",
      "text/plain": [
       "<Figure size 432x432 with 1 Axes>"
      ]
     },
     "metadata": {
      "needs_background": "light"
     },
     "output_type": "display_data"
    }
   ],
   "source": [
    "plt.figure(figsize=(6,6))\n",
    "sns.set_style('white')\n",
    "sns.distplot(textblob_df['polarity'])\n",
    "plt.box(False)\n",
    "plt.title(\"TextBlob Polarity Distribution\", fontsize=18)"
   ]
  },
  {
   "cell_type": "code",
   "execution_count": 22,
   "metadata": {},
   "outputs": [
    {
     "data": {
      "image/png": "[encoded data removed]",
      "text/plain": [
       "<Figure size 432x288 with 1 Axes>"
      ]
     },
     "metadata": {},
     "output_type": "display_data"
    }
   ],
   "source": [
    "pol_sub = textblob_df.plot.scatter(x='subjectivity',\n",
    "                     y='polarity',                       \n",
    "                     c='DarkBlue')"
   ]
  },
  {
   "cell_type": "code",
   "execution_count": 25,
   "metadata": {},
   "outputs": [],
   "source": [
    "#Creating Labels for Textblob Polarity score\n",
    "#textblob_df['sentiment'] = pd.cut(textblob_df['polarity'], 2, labels = ['neg', 'pos'])\n",
    "\n",
    "textblob_df.loc[(textblob_df['polarity'] > 0), 'sentiment'] = 1\n",
    "textblob_df.loc[(textblob_df['polarity'] == 0 ), 'sentiment'] = 0\n",
    "textblob_df.loc[(textblob_df['polarity'] < 0), 'sentiment'] = -1"
   ]
  },
  {
   "cell_type": "code",
   "execution_count": 26,
   "metadata": {},
   "outputs": [
    {
     "data": {
      "text/html": [
       "<div>\n",
       "<style scoped>\n",
       "    .dataframe tbody tr th:only-of-type {\n",
       "        vertical-align: middle;\n",
       "    }\n",
       "\n",
       "    .dataframe tbody tr th {\n",
       "        vertical-align: top;\n",
       "    }\n",
       "\n",
       "    .dataframe thead th {\n",
       "        text-align: right;\n",
       "    }\n",
       "</style>\n",
       "<table border=\"1\" class=\"dataframe\">\n",
       "  <thead>\n",
       "    <tr style=\"text-align: right;\">\n",
       "      <th></th>\n",
       "      <th>uniqueid</th>\n",
       "      <th>drugname</th>\n",
       "      <th>condition</th>\n",
       "      <th>review</th>\n",
       "      <th>rating</th>\n",
       "      <th>date</th>\n",
       "      <th>usefulcount</th>\n",
       "      <th>polarity</th>\n",
       "      <th>subjectivity</th>\n",
       "      <th>sentiment</th>\n",
       "    </tr>\n",
       "  </thead>\n",
       "  <tbody>\n",
       "    <tr>\n",
       "      <th>0</th>\n",
       "      <td>0</td>\n",
       "      <td>Medroxyprogesterone</td>\n",
       "      <td>Abnormal Uterine Bleeding</td>\n",
       "      <td>\"Been on the depo injection since January 2015...</td>\n",
       "      <td>3.0</td>\n",
       "      <td>October 28, 2015</td>\n",
       "      <td>4</td>\n",
       "      <td>-0.287798</td>\n",
       "      <td>0.609524</td>\n",
       "      <td>-1</td>\n",
       "    </tr>\n",
       "    <tr>\n",
       "      <th>1</th>\n",
       "      <td>2</td>\n",
       "      <td>Medroxyprogesterone</td>\n",
       "      <td>Amenorrhea</td>\n",
       "      <td>\"I&amp;#039;m 21 years old and recently found out ...</td>\n",
       "      <td>10.0</td>\n",
       "      <td>October 27, 2015</td>\n",
       "      <td>11</td>\n",
       "      <td>0.175357</td>\n",
       "      <td>0.485860</td>\n",
       "      <td>1</td>\n",
       "    </tr>\n",
       "    <tr>\n",
       "      <th>2</th>\n",
       "      <td>3</td>\n",
       "      <td>Medroxyprogesterone</td>\n",
       "      <td>Abnormal Uterine Bleeding</td>\n",
       "      <td>\"I have been on the shot 11 years and until a ...</td>\n",
       "      <td>8.0</td>\n",
       "      <td>October 27, 2015</td>\n",
       "      <td>7</td>\n",
       "      <td>-0.210000</td>\n",
       "      <td>0.767778</td>\n",
       "      <td>-1</td>\n",
       "    </tr>\n",
       "    <tr>\n",
       "      <th>3</th>\n",
       "      <td>4</td>\n",
       "      <td>Medroxyprogesterone</td>\n",
       "      <td>Birth Control</td>\n",
       "      <td>\"Ive had four shots at this point. I was on bi...</td>\n",
       "      <td>9.0</td>\n",
       "      <td>October 26, 2015</td>\n",
       "      <td>12</td>\n",
       "      <td>-0.022500</td>\n",
       "      <td>0.617692</td>\n",
       "      <td>-1</td>\n",
       "    </tr>\n",
       "    <tr>\n",
       "      <th>4</th>\n",
       "      <td>5</td>\n",
       "      <td>Medroxyprogesterone</td>\n",
       "      <td>Abnormal Uterine Bleeding</td>\n",
       "      <td>\"I had a total of 3 shots. I got my first one ...</td>\n",
       "      <td>1.0</td>\n",
       "      <td>October 25, 2015</td>\n",
       "      <td>4</td>\n",
       "      <td>0.044872</td>\n",
       "      <td>0.612968</td>\n",
       "      <td>1</td>\n",
       "    </tr>\n",
       "    <tr>\n",
       "      <th>5</th>\n",
       "      <td>6</td>\n",
       "      <td>Medroxyprogesterone</td>\n",
       "      <td>Birth Control</td>\n",
       "      <td>\"This is a horrible shot!! I got my first shot...</td>\n",
       "      <td>1.0</td>\n",
       "      <td>October 24, 2015</td>\n",
       "      <td>3</td>\n",
       "      <td>0.000321</td>\n",
       "      <td>0.608462</td>\n",
       "      <td>1</td>\n",
       "    </tr>\n",
       "    <tr>\n",
       "      <th>6</th>\n",
       "      <td>7</td>\n",
       "      <td>Medroxyprogesterone</td>\n",
       "      <td>Abnormal Uterine Bleeding</td>\n",
       "      <td>\"I&amp;#039;m 18 and got this for heavy bleeding. ...</td>\n",
       "      <td>5.0</td>\n",
       "      <td>October 22, 2015</td>\n",
       "      <td>6</td>\n",
       "      <td>-0.056692</td>\n",
       "      <td>0.433712</td>\n",
       "      <td>-1</td>\n",
       "    </tr>\n",
       "    <tr>\n",
       "      <th>7</th>\n",
       "      <td>8</td>\n",
       "      <td>Medroxyprogesterone</td>\n",
       "      <td>Abnormal Uterine Bleeding</td>\n",
       "      <td>\"Im 19 and have been having heavy and painful ...</td>\n",
       "      <td>5.0</td>\n",
       "      <td>October 21, 2015</td>\n",
       "      <td>2</td>\n",
       "      <td>0.030995</td>\n",
       "      <td>0.414744</td>\n",
       "      <td>1</td>\n",
       "    </tr>\n",
       "    <tr>\n",
       "      <th>8</th>\n",
       "      <td>9</td>\n",
       "      <td>Medroxyprogesterone</td>\n",
       "      <td>Abnormal Uterine Bleeding</td>\n",
       "      <td>\"I&amp;#039;m a 30 year old woman. I got the shot ...</td>\n",
       "      <td>2.0</td>\n",
       "      <td>October 21, 2015</td>\n",
       "      <td>5</td>\n",
       "      <td>0.265309</td>\n",
       "      <td>0.484198</td>\n",
       "      <td>1</td>\n",
       "    </tr>\n",
       "    <tr>\n",
       "      <th>9</th>\n",
       "      <td>10</td>\n",
       "      <td>Medroxyprogesterone</td>\n",
       "      <td>Abnormal Uterine Bleeding</td>\n",
       "      <td>\"I&amp;#039;m 17 years old and I got shot in Augus...</td>\n",
       "      <td>7.0</td>\n",
       "      <td>October 20, 2015</td>\n",
       "      <td>2</td>\n",
       "      <td>-0.047222</td>\n",
       "      <td>0.495833</td>\n",
       "      <td>-1</td>\n",
       "    </tr>\n",
       "  </tbody>\n",
       "</table>\n",
       "</div>"
      ],
      "text/plain": [
       "   uniqueid             drugname                  condition  \\\n",
       "0         0  Medroxyprogesterone  Abnormal Uterine Bleeding   \n",
       "1         2  Medroxyprogesterone                 Amenorrhea   \n",
       "2         3  Medroxyprogesterone  Abnormal Uterine Bleeding   \n",
       "3         4  Medroxyprogesterone              Birth Control   \n",
       "4         5  Medroxyprogesterone  Abnormal Uterine Bleeding   \n",
       "5         6  Medroxyprogesterone              Birth Control   \n",
       "6         7  Medroxyprogesterone  Abnormal Uterine Bleeding   \n",
       "7         8  Medroxyprogesterone  Abnormal Uterine Bleeding   \n",
       "8         9  Medroxyprogesterone  Abnormal Uterine Bleeding   \n",
       "9        10  Medroxyprogesterone  Abnormal Uterine Bleeding   \n",
       "\n",
       "                                              review  rating  \\\n",
       "0  \"Been on the depo injection since January 2015...     3.0   \n",
       "1  \"I&#039;m 21 years old and recently found out ...    10.0   \n",
       "2  \"I have been on the shot 11 years and until a ...     8.0   \n",
       "3  \"Ive had four shots at this point. I was on bi...     9.0   \n",
       "4  \"I had a total of 3 shots. I got my first one ...     1.0   \n",
       "5  \"This is a horrible shot!! I got my first shot...     1.0   \n",
       "6  \"I&#039;m 18 and got this for heavy bleeding. ...     5.0   \n",
       "7  \"Im 19 and have been having heavy and painful ...     5.0   \n",
       "8  \"I&#039;m a 30 year old woman. I got the shot ...     2.0   \n",
       "9  \"I&#039;m 17 years old and I got shot in Augus...     7.0   \n",
       "\n",
       "               date  usefulcount  polarity  subjectivity sentiment  \n",
       "0  October 28, 2015            4 -0.287798      0.609524        -1  \n",
       "1  October 27, 2015           11  0.175357      0.485860         1  \n",
       "2  October 27, 2015            7 -0.210000      0.767778        -1  \n",
       "3  October 26, 2015           12 -0.022500      0.617692        -1  \n",
       "4  October 25, 2015            4  0.044872      0.612968         1  \n",
       "5  October 24, 2015            3  0.000321      0.608462         1  \n",
       "6  October 22, 2015            6 -0.056692      0.433712        -1  \n",
       "7  October 21, 2015            2  0.030995      0.414744         1  \n",
       "8  October 21, 2015            5  0.265309      0.484198         1  \n",
       "9  October 20, 2015            2 -0.047222      0.495833        -1  "
      ]
     },
     "execution_count": 26,
     "metadata": {},
     "output_type": "execute_result"
    }
   ],
   "source": [
    "textblob_df.head(10)"
   ]
  },
  {
   "cell_type": "code",
   "execution_count": 27,
   "metadata": {},
   "outputs": [
    {
     "data": {
      "text/plain": [
       " 1    132998\n",
       "-1     70501\n",
       " 0      9199\n",
       "Name: sentiment, dtype: int64"
      ]
     },
     "execution_count": 27,
     "metadata": {},
     "output_type": "execute_result"
    }
   ],
   "source": [
    "textblob_df['sentiment'].value_counts()"
   ]
  },
  {
   "cell_type": "code",
   "execution_count": 28,
   "metadata": {},
   "outputs": [
    {
     "name": "stderr",
     "output_type": "stream",
     "text": [
      "C:\\Users\\vanes\\anaconda3\\lib\\site-packages\\seaborn\\_decorators.py:36: FutureWarning: Pass the following variable as a keyword arg: x. From version 0.12, the only valid positional argument will be `data`, and passing other arguments without an explicit keyword will result in an error or misinterpretation.\n",
      "  warnings.warn(\n"
     ]
    },
    {
     "data": {
      "text/plain": [
       "<AxesSubplot:xlabel='sentiment', ylabel='count'>"
      ]
     },
     "execution_count": 28,
     "metadata": {},
     "output_type": "execute_result"
    },
    {
     "data": {
      "image/png": "[encoded data removed]",
      "text/plain": [
       "<Figure size 432x288 with 1 Axes>"
      ]
     },
     "metadata": {},
     "output_type": "display_data"
    }
   ],
   "source": [
    "sns.countplot(textblob_df['sentiment'])"
   ]
  },
  {
   "cell_type": "markdown",
   "metadata": {},
   "source": [
    "<h3>VADER</h3>"
   ]
  },
  {
   "cell_type": "code",
   "execution_count": 29,
   "metadata": {},
   "outputs": [
    {
     "name": "stderr",
     "output_type": "stream",
     "text": [
      "[nltk_data] Downloading package vader_lexicon to\n",
      "[nltk_data]     C:\\Users\\vanes\\AppData\\Roaming\\nltk_data...\n",
      "[nltk_data]   Package vader_lexicon is already up-to-date!\n"
     ]
    }
   ],
   "source": [
    "import nltk\n",
    "nltk.download('vader_lexicon')\n",
    "from nltk.sentiment.vader import SentimentIntensityAnalyzer\n",
    "sid = SentimentIntensityAnalyzer()"
   ]
  },
  {
   "cell_type": "code",
   "execution_count": 30,
   "metadata": {},
   "outputs": [],
   "source": [
    "vader_df = df.copy()"
   ]
  },
  {
   "cell_type": "code",
   "execution_count": 32,
   "metadata": {},
   "outputs": [
    {
     "data": {
      "text/html": [
       "<div>\n",
       "<style scoped>\n",
       "    .dataframe tbody tr th:only-of-type {\n",
       "        vertical-align: middle;\n",
       "    }\n",
       "\n",
       "    .dataframe tbody tr th {\n",
       "        vertical-align: top;\n",
       "    }\n",
       "\n",
       "    .dataframe thead th {\n",
       "        text-align: right;\n",
       "    }\n",
       "</style>\n",
       "<table border=\"1\" class=\"dataframe\">\n",
       "  <thead>\n",
       "    <tr style=\"text-align: right;\">\n",
       "      <th></th>\n",
       "      <th>uniqueid</th>\n",
       "      <th>drugname</th>\n",
       "      <th>condition</th>\n",
       "      <th>review</th>\n",
       "      <th>rating</th>\n",
       "      <th>date</th>\n",
       "      <th>usefulcount</th>\n",
       "    </tr>\n",
       "  </thead>\n",
       "  <tbody>\n",
       "    <tr>\n",
       "      <th>0</th>\n",
       "      <td>0</td>\n",
       "      <td>Medroxyprogesterone</td>\n",
       "      <td>Abnormal Uterine Bleeding</td>\n",
       "      <td>\"Been on the depo injection since January 2015...</td>\n",
       "      <td>3.0</td>\n",
       "      <td>October 28, 2015</td>\n",
       "      <td>4</td>\n",
       "    </tr>\n",
       "    <tr>\n",
       "      <th>1</th>\n",
       "      <td>2</td>\n",
       "      <td>Medroxyprogesterone</td>\n",
       "      <td>Amenorrhea</td>\n",
       "      <td>\"I&amp;#039;m 21 years old and recently found out ...</td>\n",
       "      <td>10.0</td>\n",
       "      <td>October 27, 2015</td>\n",
       "      <td>11</td>\n",
       "    </tr>\n",
       "    <tr>\n",
       "      <th>2</th>\n",
       "      <td>3</td>\n",
       "      <td>Medroxyprogesterone</td>\n",
       "      <td>Abnormal Uterine Bleeding</td>\n",
       "      <td>\"I have been on the shot 11 years and until a ...</td>\n",
       "      <td>8.0</td>\n",
       "      <td>October 27, 2015</td>\n",
       "      <td>7</td>\n",
       "    </tr>\n",
       "  </tbody>\n",
       "</table>\n",
       "</div>"
      ],
      "text/plain": [
       "   uniqueid             drugname                  condition  \\\n",
       "0         0  Medroxyprogesterone  Abnormal Uterine Bleeding   \n",
       "1         2  Medroxyprogesterone                 Amenorrhea   \n",
       "2         3  Medroxyprogesterone  Abnormal Uterine Bleeding   \n",
       "\n",
       "                                              review  rating  \\\n",
       "0  \"Been on the depo injection since January 2015...     3.0   \n",
       "1  \"I&#039;m 21 years old and recently found out ...    10.0   \n",
       "2  \"I have been on the shot 11 years and until a ...     8.0   \n",
       "\n",
       "               date  usefulcount  \n",
       "0  October 28, 2015            4  \n",
       "1  October 27, 2015           11  \n",
       "2  October 27, 2015            7  "
      ]
     },
     "execution_count": 32,
     "metadata": {},
     "output_type": "execute_result"
    }
   ],
   "source": [
    "vader_df.head(3)"
   ]
  },
  {
   "cell_type": "code",
   "execution_count": 33,
   "metadata": {},
   "outputs": [
    {
     "name": "stdout",
     "output_type": "stream",
     "text": [
      "Review example:  \"Been on the depo injection since January 2015, had bleeding but it stopped after a while. When I had another injection in June, I didn&#039;t bleed for about a month. Started spotting mid-July and since approx. August 1st, I have been bleeding constantly, heavy enough to use pads and now it&#039;s almost November! I&#039;m sick of bleeding and forking out money for sanitary pads when I shouldn&#039;t be bleeding-well not as long as I have been now! Currently awaiting an ultrasound to see what is happening. I would like to change my contraceptive but my doctor won&#039;t let me :(\"\n"
     ]
    },
    {
     "data": {
      "text/html": [
       "<div>\n",
       "<style scoped>\n",
       "    .dataframe tbody tr th:only-of-type {\n",
       "        vertical-align: middle;\n",
       "    }\n",
       "\n",
       "    .dataframe tbody tr th {\n",
       "        vertical-align: top;\n",
       "    }\n",
       "\n",
       "    .dataframe thead th {\n",
       "        text-align: right;\n",
       "    }\n",
       "</style>\n",
       "<table border=\"1\" class=\"dataframe\">\n",
       "  <thead>\n",
       "    <tr style=\"text-align: right;\">\n",
       "      <th></th>\n",
       "      <th>uniqueid</th>\n",
       "      <th>drugname</th>\n",
       "      <th>condition</th>\n",
       "      <th>review</th>\n",
       "      <th>rating</th>\n",
       "      <th>date</th>\n",
       "      <th>usefulcount</th>\n",
       "    </tr>\n",
       "  </thead>\n",
       "  <tbody>\n",
       "    <tr>\n",
       "      <th>0</th>\n",
       "      <td>0</td>\n",
       "      <td>Medroxyprogesterone</td>\n",
       "      <td>Abnormal Uterine Bleeding</td>\n",
       "      <td>\"Been on the depo injection since January 2015...</td>\n",
       "      <td>3.0</td>\n",
       "      <td>October 28, 2015</td>\n",
       "      <td>4</td>\n",
       "    </tr>\n",
       "    <tr>\n",
       "      <th>1</th>\n",
       "      <td>2</td>\n",
       "      <td>Medroxyprogesterone</td>\n",
       "      <td>Amenorrhea</td>\n",
       "      <td>\"I'm 21 years old and recently found out I mig...</td>\n",
       "      <td>10.0</td>\n",
       "      <td>October 27, 2015</td>\n",
       "      <td>11</td>\n",
       "    </tr>\n",
       "  </tbody>\n",
       "</table>\n",
       "</div>"
      ],
      "text/plain": [
       "   uniqueid             drugname                  condition  \\\n",
       "0         0  Medroxyprogesterone  Abnormal Uterine Bleeding   \n",
       "1         2  Medroxyprogesterone                 Amenorrhea   \n",
       "\n",
       "                                              review  rating  \\\n",
       "0  \"Been on the depo injection since January 2015...     3.0   \n",
       "1  \"I'm 21 years old and recently found out I mig...    10.0   \n",
       "\n",
       "               date  usefulcount  \n",
       "0  October 28, 2015            4  \n",
       "1  October 27, 2015           11  "
      ]
     },
     "execution_count": 33,
     "metadata": {},
     "output_type": "execute_result"
    }
   ],
   "source": [
    "def encode_reviews(review):\n",
    "    return html.unescape(review) # Decode in utf-8 and convert HTML characters\n",
    "\n",
    "print(\"Review example: \", vader_df.loc[0, 'review']) # Example of review text\n",
    "\n",
    "vader_df['review'] = vader_df['review'].apply(encode_reviews) # Let's clean the text...\n",
    "\n",
    "vader_df.head(2)"
   ]
  },
  {
   "cell_type": "code",
   "execution_count": 34,
   "metadata": {},
   "outputs": [],
   "source": [
    "sid = SentimentIntensityAnalyzer() \n",
    "\n",
    "\"\"\"\n",
    "Only run the bottom three lines if there is time. This step takes a few minutes\n",
    "\"\"\"\n",
    "#vader_df[\"neg_score\"] = vader_df[\"review_clean\"].apply(lambda x: sid.polarity_scores(x)[\"neg\"])\n",
    "#vader_df[\"neu_score\"] = vader_df[\"review_clean\"].apply(lambda x: sid.polarity_scores(x)[\"neu\"])\n",
    "#vader_df[\"pos_score\"] = vader_df[\"review_clean\"].apply(lambda x: sid.polarity_scores(x)[\"pos\"])\n",
    "\n",
    "vader_df[\"v_polarity\"] = vader_df[\"review\"].apply(lambda x: sid.polarity_scores(x)[\"compound\"])"
   ]
  },
  {
   "cell_type": "code",
   "execution_count": 35,
   "metadata": {},
   "outputs": [
    {
     "data": {
      "text/html": [
       "<div>\n",
       "<style scoped>\n",
       "    .dataframe tbody tr th:only-of-type {\n",
       "        vertical-align: middle;\n",
       "    }\n",
       "\n",
       "    .dataframe tbody tr th {\n",
       "        vertical-align: top;\n",
       "    }\n",
       "\n",
       "    .dataframe thead th {\n",
       "        text-align: right;\n",
       "    }\n",
       "</style>\n",
       "<table border=\"1\" class=\"dataframe\">\n",
       "  <thead>\n",
       "    <tr style=\"text-align: right;\">\n",
       "      <th></th>\n",
       "      <th>uniqueid</th>\n",
       "      <th>drugname</th>\n",
       "      <th>condition</th>\n",
       "      <th>review</th>\n",
       "      <th>rating</th>\n",
       "      <th>date</th>\n",
       "      <th>usefulcount</th>\n",
       "      <th>v_polarity</th>\n",
       "    </tr>\n",
       "  </thead>\n",
       "  <tbody>\n",
       "    <tr>\n",
       "      <th>0</th>\n",
       "      <td>0</td>\n",
       "      <td>Medroxyprogesterone</td>\n",
       "      <td>Abnormal Uterine Bleeding</td>\n",
       "      <td>\"Been on the depo injection since January 2015...</td>\n",
       "      <td>3.0</td>\n",
       "      <td>October 28, 2015</td>\n",
       "      <td>4</td>\n",
       "      <td>-0.5773</td>\n",
       "    </tr>\n",
       "    <tr>\n",
       "      <th>1</th>\n",
       "      <td>2</td>\n",
       "      <td>Medroxyprogesterone</td>\n",
       "      <td>Amenorrhea</td>\n",
       "      <td>\"I'm 21 years old and recently found out I mig...</td>\n",
       "      <td>10.0</td>\n",
       "      <td>October 27, 2015</td>\n",
       "      <td>11</td>\n",
       "      <td>0.7650</td>\n",
       "    </tr>\n",
       "    <tr>\n",
       "      <th>2</th>\n",
       "      <td>3</td>\n",
       "      <td>Medroxyprogesterone</td>\n",
       "      <td>Abnormal Uterine Bleeding</td>\n",
       "      <td>\"I have been on the shot 11 years and until a ...</td>\n",
       "      <td>8.0</td>\n",
       "      <td>October 27, 2015</td>\n",
       "      <td>7</td>\n",
       "      <td>-0.6075</td>\n",
       "    </tr>\n",
       "    <tr>\n",
       "      <th>3</th>\n",
       "      <td>4</td>\n",
       "      <td>Medroxyprogesterone</td>\n",
       "      <td>Birth Control</td>\n",
       "      <td>\"Ive had four shots at this point. I was on bi...</td>\n",
       "      <td>9.0</td>\n",
       "      <td>October 26, 2015</td>\n",
       "      <td>12</td>\n",
       "      <td>-0.5997</td>\n",
       "    </tr>\n",
       "    <tr>\n",
       "      <th>4</th>\n",
       "      <td>5</td>\n",
       "      <td>Medroxyprogesterone</td>\n",
       "      <td>Abnormal Uterine Bleeding</td>\n",
       "      <td>\"I had a total of 3 shots. I got my first one ...</td>\n",
       "      <td>1.0</td>\n",
       "      <td>October 25, 2015</td>\n",
       "      <td>4</td>\n",
       "      <td>0.7263</td>\n",
       "    </tr>\n",
       "  </tbody>\n",
       "</table>\n",
       "</div>"
      ],
      "text/plain": [
       "   uniqueid             drugname                  condition  \\\n",
       "0         0  Medroxyprogesterone  Abnormal Uterine Bleeding   \n",
       "1         2  Medroxyprogesterone                 Amenorrhea   \n",
       "2         3  Medroxyprogesterone  Abnormal Uterine Bleeding   \n",
       "3         4  Medroxyprogesterone              Birth Control   \n",
       "4         5  Medroxyprogesterone  Abnormal Uterine Bleeding   \n",
       "\n",
       "                                              review  rating  \\\n",
       "0  \"Been on the depo injection since January 2015...     3.0   \n",
       "1  \"I'm 21 years old and recently found out I mig...    10.0   \n",
       "2  \"I have been on the shot 11 years and until a ...     8.0   \n",
       "3  \"Ive had four shots at this point. I was on bi...     9.0   \n",
       "4  \"I had a total of 3 shots. I got my first one ...     1.0   \n",
       "\n",
       "               date  usefulcount  v_polarity  \n",
       "0  October 28, 2015            4     -0.5773  \n",
       "1  October 27, 2015           11      0.7650  \n",
       "2  October 27, 2015            7     -0.6075  \n",
       "3  October 26, 2015           12     -0.5997  \n",
       "4  October 25, 2015            4      0.7263  "
      ]
     },
     "execution_count": 35,
     "metadata": {},
     "output_type": "execute_result"
    }
   ],
   "source": [
    "vader_df.head(5)"
   ]
  },
  {
   "cell_type": "code",
   "execution_count": 36,
   "metadata": {},
   "outputs": [
    {
     "data": {
      "text/plain": [
       "array([[1.        , 0.33801901],\n",
       "       [0.33801901, 1.        ]])"
      ]
     },
     "execution_count": 36,
     "metadata": {},
     "output_type": "execute_result"
    }
   ],
   "source": [
    "np.corrcoef(vader_df[\"rating\"], vader_df[\"v_polarity\"])"
   ]
  },
  {
   "cell_type": "code",
   "execution_count": 37,
   "metadata": {},
   "outputs": [
    {
     "data": {
      "image/png": "[encoded data removed]",
      "text/plain": [
       "<Figure size 432x288 with 1 Axes>"
      ]
     },
     "metadata": {},
     "output_type": "display_data"
    }
   ],
   "source": [
    "sns.boxplot(x=np.array(vader_df[\"rating\"]),y=np.array(vader_df[\"v_polarity\"]))\n",
    "plt.xlabel(\"Rating\")\n",
    "plt.ylabel(\"Polarity\")\n",
    "plt.title(\"Polarity vs Ratings\")\n",
    "plt.show()"
   ]
  },
  {
   "cell_type": "code",
   "execution_count": 38,
   "metadata": {},
   "outputs": [
    {
     "name": "stderr",
     "output_type": "stream",
     "text": [
      "C:\\Users\\vanes\\anaconda3\\lib\\site-packages\\seaborn\\distributions.py:2557: FutureWarning: `distplot` is a deprecated function and will be removed in a future version. Please adapt your code to use either `displot` (a figure-level function with similar flexibility) or `histplot` (an axes-level function for histograms).\n",
      "  warnings.warn(msg, FutureWarning)\n"
     ]
    },
    {
     "data": {
      "text/plain": [
       "Text(0.5, 1.0, 'VADER Polarity Distribution')"
      ]
     },
     "execution_count": 38,
     "metadata": {},
     "output_type": "execute_result"
    },
    {
     "data": {
      "image/png": "[encoded data removed]",
      "text/plain": [
       "<Figure size 432x432 with 1 Axes>"
      ]
     },
     "metadata": {},
     "output_type": "display_data"
    }
   ],
   "source": [
    "plt.figure(figsize=(6,6))\n",
    "sns.set_style('white')\n",
    "sns.distplot(vader_df['v_polarity'])\n",
    "plt.box(False)\n",
    "plt.title(\"VADER Polarity Distribution\", fontsize=18)"
   ]
  },
  {
   "cell_type": "code",
   "execution_count": 39,
   "metadata": {},
   "outputs": [],
   "source": [
    "#vader_df['sentiment'] = pd.cut(vader_df['v_polarity'], 2, labels = ['neg', 'pos'])\n",
    "\n",
    "vader_df.loc[(vader_df['v_polarity'] > 0), 'sentiment'] = 1\n",
    "vader_df.loc[(vader_df['v_polarity'] == 0), 'sentiment'] = 0\n",
    "vader_df.loc[(vader_df['v_polarity'] < 0), 'sentiment'] = -1"
   ]
  },
  {
   "cell_type": "code",
   "execution_count": 41,
   "metadata": {},
   "outputs": [
    {
     "data": {
      "text/html": [
       "<div>\n",
       "<style scoped>\n",
       "    .dataframe tbody tr th:only-of-type {\n",
       "        vertical-align: middle;\n",
       "    }\n",
       "\n",
       "    .dataframe tbody tr th {\n",
       "        vertical-align: top;\n",
       "    }\n",
       "\n",
       "    .dataframe thead th {\n",
       "        text-align: right;\n",
       "    }\n",
       "</style>\n",
       "<table border=\"1\" class=\"dataframe\">\n",
       "  <thead>\n",
       "    <tr style=\"text-align: right;\">\n",
       "      <th></th>\n",
       "      <th>uniqueid</th>\n",
       "      <th>drugname</th>\n",
       "      <th>condition</th>\n",
       "      <th>review</th>\n",
       "      <th>rating</th>\n",
       "      <th>date</th>\n",
       "      <th>usefulcount</th>\n",
       "      <th>v_polarity</th>\n",
       "      <th>sentiment</th>\n",
       "    </tr>\n",
       "  </thead>\n",
       "  <tbody>\n",
       "    <tr>\n",
       "      <th>0</th>\n",
       "      <td>0</td>\n",
       "      <td>Medroxyprogesterone</td>\n",
       "      <td>Abnormal Uterine Bleeding</td>\n",
       "      <td>\"Been on the depo injection since January 2015...</td>\n",
       "      <td>3.0</td>\n",
       "      <td>October 28, 2015</td>\n",
       "      <td>4</td>\n",
       "      <td>-0.5773</td>\n",
       "      <td>-1.0</td>\n",
       "    </tr>\n",
       "    <tr>\n",
       "      <th>1</th>\n",
       "      <td>2</td>\n",
       "      <td>Medroxyprogesterone</td>\n",
       "      <td>Amenorrhea</td>\n",
       "      <td>\"I'm 21 years old and recently found out I mig...</td>\n",
       "      <td>10.0</td>\n",
       "      <td>October 27, 2015</td>\n",
       "      <td>11</td>\n",
       "      <td>0.7650</td>\n",
       "      <td>1.0</td>\n",
       "    </tr>\n",
       "    <tr>\n",
       "      <th>2</th>\n",
       "      <td>3</td>\n",
       "      <td>Medroxyprogesterone</td>\n",
       "      <td>Abnormal Uterine Bleeding</td>\n",
       "      <td>\"I have been on the shot 11 years and until a ...</td>\n",
       "      <td>8.0</td>\n",
       "      <td>October 27, 2015</td>\n",
       "      <td>7</td>\n",
       "      <td>-0.6075</td>\n",
       "      <td>-1.0</td>\n",
       "    </tr>\n",
       "    <tr>\n",
       "      <th>3</th>\n",
       "      <td>4</td>\n",
       "      <td>Medroxyprogesterone</td>\n",
       "      <td>Birth Control</td>\n",
       "      <td>\"Ive had four shots at this point. I was on bi...</td>\n",
       "      <td>9.0</td>\n",
       "      <td>October 26, 2015</td>\n",
       "      <td>12</td>\n",
       "      <td>-0.5997</td>\n",
       "      <td>-1.0</td>\n",
       "    </tr>\n",
       "    <tr>\n",
       "      <th>4</th>\n",
       "      <td>5</td>\n",
       "      <td>Medroxyprogesterone</td>\n",
       "      <td>Abnormal Uterine Bleeding</td>\n",
       "      <td>\"I had a total of 3 shots. I got my first one ...</td>\n",
       "      <td>1.0</td>\n",
       "      <td>October 25, 2015</td>\n",
       "      <td>4</td>\n",
       "      <td>0.7263</td>\n",
       "      <td>1.0</td>\n",
       "    </tr>\n",
       "  </tbody>\n",
       "</table>\n",
       "</div>"
      ],
      "text/plain": [
       "   uniqueid             drugname                  condition  \\\n",
       "0         0  Medroxyprogesterone  Abnormal Uterine Bleeding   \n",
       "1         2  Medroxyprogesterone                 Amenorrhea   \n",
       "2         3  Medroxyprogesterone  Abnormal Uterine Bleeding   \n",
       "3         4  Medroxyprogesterone              Birth Control   \n",
       "4         5  Medroxyprogesterone  Abnormal Uterine Bleeding   \n",
       "\n",
       "                                              review  rating  \\\n",
       "0  \"Been on the depo injection since January 2015...     3.0   \n",
       "1  \"I'm 21 years old and recently found out I mig...    10.0   \n",
       "2  \"I have been on the shot 11 years and until a ...     8.0   \n",
       "3  \"Ive had four shots at this point. I was on bi...     9.0   \n",
       "4  \"I had a total of 3 shots. I got my first one ...     1.0   \n",
       "\n",
       "               date  usefulcount  v_polarity  sentiment  \n",
       "0  October 28, 2015            4     -0.5773       -1.0  \n",
       "1  October 27, 2015           11      0.7650        1.0  \n",
       "2  October 27, 2015            7     -0.6075       -1.0  \n",
       "3  October 26, 2015           12     -0.5997       -1.0  \n",
       "4  October 25, 2015            4      0.7263        1.0  "
      ]
     },
     "execution_count": 41,
     "metadata": {},
     "output_type": "execute_result"
    }
   ],
   "source": [
    "vader_df.head(5)"
   ]
  },
  {
   "cell_type": "code",
   "execution_count": 42,
   "metadata": {},
   "outputs": [
    {
     "data": {
      "text/plain": [
       "-1.0    108292\n",
       " 1.0     97785\n",
       " 0.0      6621\n",
       "Name: sentiment, dtype: int64"
      ]
     },
     "execution_count": 42,
     "metadata": {},
     "output_type": "execute_result"
    }
   ],
   "source": [
    "vader_df['sentiment'].value_counts()"
   ]
  },
  {
   "cell_type": "code",
   "execution_count": 43,
   "metadata": {},
   "outputs": [
    {
     "name": "stderr",
     "output_type": "stream",
     "text": [
      "C:\\Users\\vanes\\anaconda3\\lib\\site-packages\\seaborn\\_decorators.py:36: FutureWarning: Pass the following variable as a keyword arg: x. From version 0.12, the only valid positional argument will be `data`, and passing other arguments without an explicit keyword will result in an error or misinterpretation.\n",
      "  warnings.warn(\n"
     ]
    },
    {
     "data": {
      "text/plain": [
       "<AxesSubplot:xlabel='sentiment', ylabel='count'>"
      ]
     },
     "execution_count": 43,
     "metadata": {},
     "output_type": "execute_result"
    },
    {
     "data": {
      "image/png": "[encoded data removed]",
      "text/plain": [
       "<Figure size 432x288 with 1 Axes>"
      ]
     },
     "metadata": {},
     "output_type": "display_data"
    }
   ],
   "source": [
    "sns.countplot(vader_df['sentiment'])"
   ]
  },
  {
   "cell_type": "markdown",
   "metadata": {},
   "source": [
    "<h3>Average Polarity (TextBlob and Vader)</h3>"
   ]
  },
  {
   "cell_type": "code",
   "execution_count": 44,
   "metadata": {},
   "outputs": [],
   "source": [
    "avg_df = df.copy()"
   ]
  },
  {
   "cell_type": "code",
   "execution_count": 45,
   "metadata": {},
   "outputs": [
    {
     "data": {
      "text/html": [
       "<div>\n",
       "<style scoped>\n",
       "    .dataframe tbody tr th:only-of-type {\n",
       "        vertical-align: middle;\n",
       "    }\n",
       "\n",
       "    .dataframe tbody tr th {\n",
       "        vertical-align: top;\n",
       "    }\n",
       "\n",
       "    .dataframe thead th {\n",
       "        text-align: right;\n",
       "    }\n",
       "</style>\n",
       "<table border=\"1\" class=\"dataframe\">\n",
       "  <thead>\n",
       "    <tr style=\"text-align: right;\">\n",
       "      <th></th>\n",
       "      <th>uniqueid</th>\n",
       "      <th>drugname</th>\n",
       "      <th>condition</th>\n",
       "      <th>review</th>\n",
       "      <th>rating</th>\n",
       "      <th>date</th>\n",
       "      <th>usefulcount</th>\n",
       "    </tr>\n",
       "  </thead>\n",
       "  <tbody>\n",
       "    <tr>\n",
       "      <th>0</th>\n",
       "      <td>0</td>\n",
       "      <td>Medroxyprogesterone</td>\n",
       "      <td>Abnormal Uterine Bleeding</td>\n",
       "      <td>\"Been on the depo injection since January 2015...</td>\n",
       "      <td>3.0</td>\n",
       "      <td>October 28, 2015</td>\n",
       "      <td>4</td>\n",
       "    </tr>\n",
       "    <tr>\n",
       "      <th>1</th>\n",
       "      <td>2</td>\n",
       "      <td>Medroxyprogesterone</td>\n",
       "      <td>Amenorrhea</td>\n",
       "      <td>\"I&amp;#039;m 21 years old and recently found out ...</td>\n",
       "      <td>10.0</td>\n",
       "      <td>October 27, 2015</td>\n",
       "      <td>11</td>\n",
       "    </tr>\n",
       "  </tbody>\n",
       "</table>\n",
       "</div>"
      ],
      "text/plain": [
       "   uniqueid             drugname                  condition  \\\n",
       "0         0  Medroxyprogesterone  Abnormal Uterine Bleeding   \n",
       "1         2  Medroxyprogesterone                 Amenorrhea   \n",
       "\n",
       "                                              review  rating  \\\n",
       "0  \"Been on the depo injection since January 2015...     3.0   \n",
       "1  \"I&#039;m 21 years old and recently found out ...    10.0   \n",
       "\n",
       "               date  usefulcount  \n",
       "0  October 28, 2015            4  \n",
       "1  October 27, 2015           11  "
      ]
     },
     "execution_count": 45,
     "metadata": {},
     "output_type": "execute_result"
    }
   ],
   "source": [
    "avg_df.head(2)"
   ]
  },
  {
   "cell_type": "code",
   "execution_count": 46,
   "metadata": {},
   "outputs": [],
   "source": [
    "avg_df['tb_pol'] = textblob_df[\"polarity\"]\n",
    "avg_df['vd_pol'] = vader_df[\"v_polarity\"]"
   ]
  },
  {
   "cell_type": "code",
   "execution_count": 47,
   "metadata": {},
   "outputs": [],
   "source": [
    "avg_df['polarity'] = avg_df[['tb_pol', 'vd_pol']].mean(axis=1)"
   ]
  },
  {
   "cell_type": "code",
   "execution_count": 48,
   "metadata": {},
   "outputs": [
    {
     "data": {
      "text/html": [
       "<div>\n",
       "<style scoped>\n",
       "    .dataframe tbody tr th:only-of-type {\n",
       "        vertical-align: middle;\n",
       "    }\n",
       "\n",
       "    .dataframe tbody tr th {\n",
       "        vertical-align: top;\n",
       "    }\n",
       "\n",
       "    .dataframe thead th {\n",
       "        text-align: right;\n",
       "    }\n",
       "</style>\n",
       "<table border=\"1\" class=\"dataframe\">\n",
       "  <thead>\n",
       "    <tr style=\"text-align: right;\">\n",
       "      <th></th>\n",
       "      <th>uniqueid</th>\n",
       "      <th>drugname</th>\n",
       "      <th>condition</th>\n",
       "      <th>review</th>\n",
       "      <th>rating</th>\n",
       "      <th>date</th>\n",
       "      <th>usefulcount</th>\n",
       "      <th>tb_pol</th>\n",
       "      <th>vd_pol</th>\n",
       "      <th>polarity</th>\n",
       "    </tr>\n",
       "  </thead>\n",
       "  <tbody>\n",
       "    <tr>\n",
       "      <th>0</th>\n",
       "      <td>0</td>\n",
       "      <td>Medroxyprogesterone</td>\n",
       "      <td>Abnormal Uterine Bleeding</td>\n",
       "      <td>\"Been on the depo injection since January 2015...</td>\n",
       "      <td>3.0</td>\n",
       "      <td>October 28, 2015</td>\n",
       "      <td>4</td>\n",
       "      <td>-0.287798</td>\n",
       "      <td>-0.5773</td>\n",
       "      <td>-0.432549</td>\n",
       "    </tr>\n",
       "    <tr>\n",
       "      <th>1</th>\n",
       "      <td>2</td>\n",
       "      <td>Medroxyprogesterone</td>\n",
       "      <td>Amenorrhea</td>\n",
       "      <td>\"I&amp;#039;m 21 years old and recently found out ...</td>\n",
       "      <td>10.0</td>\n",
       "      <td>October 27, 2015</td>\n",
       "      <td>11</td>\n",
       "      <td>0.175357</td>\n",
       "      <td>0.7650</td>\n",
       "      <td>0.470179</td>\n",
       "    </tr>\n",
       "    <tr>\n",
       "      <th>2</th>\n",
       "      <td>3</td>\n",
       "      <td>Medroxyprogesterone</td>\n",
       "      <td>Abnormal Uterine Bleeding</td>\n",
       "      <td>\"I have been on the shot 11 years and until a ...</td>\n",
       "      <td>8.0</td>\n",
       "      <td>October 27, 2015</td>\n",
       "      <td>7</td>\n",
       "      <td>-0.210000</td>\n",
       "      <td>-0.6075</td>\n",
       "      <td>-0.408750</td>\n",
       "    </tr>\n",
       "    <tr>\n",
       "      <th>3</th>\n",
       "      <td>4</td>\n",
       "      <td>Medroxyprogesterone</td>\n",
       "      <td>Birth Control</td>\n",
       "      <td>\"Ive had four shots at this point. I was on bi...</td>\n",
       "      <td>9.0</td>\n",
       "      <td>October 26, 2015</td>\n",
       "      <td>12</td>\n",
       "      <td>-0.022500</td>\n",
       "      <td>-0.5997</td>\n",
       "      <td>-0.311100</td>\n",
       "    </tr>\n",
       "    <tr>\n",
       "      <th>4</th>\n",
       "      <td>5</td>\n",
       "      <td>Medroxyprogesterone</td>\n",
       "      <td>Abnormal Uterine Bleeding</td>\n",
       "      <td>\"I had a total of 3 shots. I got my first one ...</td>\n",
       "      <td>1.0</td>\n",
       "      <td>October 25, 2015</td>\n",
       "      <td>4</td>\n",
       "      <td>0.044872</td>\n",
       "      <td>0.7263</td>\n",
       "      <td>0.385586</td>\n",
       "    </tr>\n",
       "  </tbody>\n",
       "</table>\n",
       "</div>"
      ],
      "text/plain": [
       "   uniqueid             drugname                  condition  \\\n",
       "0         0  Medroxyprogesterone  Abnormal Uterine Bleeding   \n",
       "1         2  Medroxyprogesterone                 Amenorrhea   \n",
       "2         3  Medroxyprogesterone  Abnormal Uterine Bleeding   \n",
       "3         4  Medroxyprogesterone              Birth Control   \n",
       "4         5  Medroxyprogesterone  Abnormal Uterine Bleeding   \n",
       "\n",
       "                                              review  rating  \\\n",
       "0  \"Been on the depo injection since January 2015...     3.0   \n",
       "1  \"I&#039;m 21 years old and recently found out ...    10.0   \n",
       "2  \"I have been on the shot 11 years and until a ...     8.0   \n",
       "3  \"Ive had four shots at this point. I was on bi...     9.0   \n",
       "4  \"I had a total of 3 shots. I got my first one ...     1.0   \n",
       "\n",
       "               date  usefulcount    tb_pol  vd_pol  polarity  \n",
       "0  October 28, 2015            4 -0.287798 -0.5773 -0.432549  \n",
       "1  October 27, 2015           11  0.175357  0.7650  0.470179  \n",
       "2  October 27, 2015            7 -0.210000 -0.6075 -0.408750  \n",
       "3  October 26, 2015           12 -0.022500 -0.5997 -0.311100  \n",
       "4  October 25, 2015            4  0.044872  0.7263  0.385586  "
      ]
     },
     "execution_count": 48,
     "metadata": {},
     "output_type": "execute_result"
    }
   ],
   "source": [
    "avg_df.head(5)"
   ]
  },
  {
   "cell_type": "code",
   "execution_count": 49,
   "metadata": {},
   "outputs": [
    {
     "data": {
      "text/plain": [
       "array([[1.        , 0.38425841],\n",
       "       [0.38425841, 1.        ]])"
      ]
     },
     "execution_count": 49,
     "metadata": {},
     "output_type": "execute_result"
    }
   ],
   "source": [
    "np.corrcoef(avg_df[\"rating\"], avg_df[\"polarity\"])"
   ]
  },
  {
   "cell_type": "code",
   "execution_count": 50,
   "metadata": {},
   "outputs": [
    {
     "name": "stderr",
     "output_type": "stream",
     "text": [
      "C:\\Users\\vanes\\anaconda3\\lib\\site-packages\\seaborn\\distributions.py:2557: FutureWarning: `distplot` is a deprecated function and will be removed in a future version. Please adapt your code to use either `displot` (a figure-level function with similar flexibility) or `histplot` (an axes-level function for histograms).\n",
      "  warnings.warn(msg, FutureWarning)\n"
     ]
    },
    {
     "data": {
      "text/plain": [
       "Text(0.5, 1.0, 'Average Polarity Distribution')"
      ]
     },
     "execution_count": 50,
     "metadata": {},
     "output_type": "execute_result"
    },
    {
     "data": {
      "image/png": "[encoded data removed]",
      "text/plain": [
       "<Figure size 432x432 with 1 Axes>"
      ]
     },
     "metadata": {},
     "output_type": "display_data"
    }
   ],
   "source": [
    "plt.figure(figsize=(6,6))\n",
    "sns.set_style('white')\n",
    "sns.distplot(avg_df['polarity'])\n",
    "plt.box(False)\n",
    "plt.title(\"Average Polarity Distribution\", fontsize=18)"
   ]
  },
  {
   "cell_type": "code",
   "execution_count": 51,
   "metadata": {},
   "outputs": [],
   "source": [
    "#avg_df['sentiment'] = pd.qcut(avg_df['polarity'], 2, labels = ['neg', 'pos'])\n",
    "\n",
    "avg_df.loc[(avg_df['polarity'] > 0), 'sentiment'] = 1\n",
    "avg_df.loc[(avg_df['polarity'] == 0), 'sentiment'] = 0\n",
    "avg_df.loc[(avg_df['polarity'] < 0), 'sentiment'] = -1"
   ]
  },
  {
   "cell_type": "code",
   "execution_count": 53,
   "metadata": {},
   "outputs": [
    {
     "data": {
      "text/html": [
       "<div>\n",
       "<style scoped>\n",
       "    .dataframe tbody tr th:only-of-type {\n",
       "        vertical-align: middle;\n",
       "    }\n",
       "\n",
       "    .dataframe tbody tr th {\n",
       "        vertical-align: top;\n",
       "    }\n",
       "\n",
       "    .dataframe thead th {\n",
       "        text-align: right;\n",
       "    }\n",
       "</style>\n",
       "<table border=\"1\" class=\"dataframe\">\n",
       "  <thead>\n",
       "    <tr style=\"text-align: right;\">\n",
       "      <th></th>\n",
       "      <th>uniqueid</th>\n",
       "      <th>drugname</th>\n",
       "      <th>condition</th>\n",
       "      <th>review</th>\n",
       "      <th>rating</th>\n",
       "      <th>date</th>\n",
       "      <th>usefulcount</th>\n",
       "      <th>tb_pol</th>\n",
       "      <th>vd_pol</th>\n",
       "      <th>polarity</th>\n",
       "      <th>sentiment</th>\n",
       "    </tr>\n",
       "  </thead>\n",
       "  <tbody>\n",
       "    <tr>\n",
       "      <th>0</th>\n",
       "      <td>0</td>\n",
       "      <td>Medroxyprogesterone</td>\n",
       "      <td>Abnormal Uterine Bleeding</td>\n",
       "      <td>\"Been on the depo injection since January 2015...</td>\n",
       "      <td>3.0</td>\n",
       "      <td>October 28, 2015</td>\n",
       "      <td>4</td>\n",
       "      <td>-0.287798</td>\n",
       "      <td>-0.5773</td>\n",
       "      <td>-0.432549</td>\n",
       "      <td>-1.0</td>\n",
       "    </tr>\n",
       "    <tr>\n",
       "      <th>1</th>\n",
       "      <td>2</td>\n",
       "      <td>Medroxyprogesterone</td>\n",
       "      <td>Amenorrhea</td>\n",
       "      <td>\"I&amp;#039;m 21 years old and recently found out ...</td>\n",
       "      <td>10.0</td>\n",
       "      <td>October 27, 2015</td>\n",
       "      <td>11</td>\n",
       "      <td>0.175357</td>\n",
       "      <td>0.7650</td>\n",
       "      <td>0.470179</td>\n",
       "      <td>1.0</td>\n",
       "    </tr>\n",
       "    <tr>\n",
       "      <th>2</th>\n",
       "      <td>3</td>\n",
       "      <td>Medroxyprogesterone</td>\n",
       "      <td>Abnormal Uterine Bleeding</td>\n",
       "      <td>\"I have been on the shot 11 years and until a ...</td>\n",
       "      <td>8.0</td>\n",
       "      <td>October 27, 2015</td>\n",
       "      <td>7</td>\n",
       "      <td>-0.210000</td>\n",
       "      <td>-0.6075</td>\n",
       "      <td>-0.408750</td>\n",
       "      <td>-1.0</td>\n",
       "    </tr>\n",
       "  </tbody>\n",
       "</table>\n",
       "</div>"
      ],
      "text/plain": [
       "   uniqueid             drugname                  condition  \\\n",
       "0         0  Medroxyprogesterone  Abnormal Uterine Bleeding   \n",
       "1         2  Medroxyprogesterone                 Amenorrhea   \n",
       "2         3  Medroxyprogesterone  Abnormal Uterine Bleeding   \n",
       "\n",
       "                                              review  rating  \\\n",
       "0  \"Been on the depo injection since January 2015...     3.0   \n",
       "1  \"I&#039;m 21 years old and recently found out ...    10.0   \n",
       "2  \"I have been on the shot 11 years and until a ...     8.0   \n",
       "\n",
       "               date  usefulcount    tb_pol  vd_pol  polarity  sentiment  \n",
       "0  October 28, 2015            4 -0.287798 -0.5773 -0.432549       -1.0  \n",
       "1  October 27, 2015           11  0.175357  0.7650  0.470179        1.0  \n",
       "2  October 27, 2015            7 -0.210000 -0.6075 -0.408750       -1.0  "
      ]
     },
     "execution_count": 53,
     "metadata": {},
     "output_type": "execute_result"
    }
   ],
   "source": [
    "avg_df.head(3)"
   ]
  },
  {
   "cell_type": "code",
   "execution_count": 54,
   "metadata": {},
   "outputs": [
    {
     "data": {
      "text/plain": [
       "-1.0    106095\n",
       " 1.0    104057\n",
       " 0.0      2546\n",
       "Name: sentiment, dtype: int64"
      ]
     },
     "execution_count": 54,
     "metadata": {},
     "output_type": "execute_result"
    }
   ],
   "source": [
    "avg_df['sentiment'].value_counts()"
   ]
  },
  {
   "cell_type": "code",
   "execution_count": 55,
   "metadata": {},
   "outputs": [
    {
     "name": "stderr",
     "output_type": "stream",
     "text": [
      "C:\\Users\\vanes\\anaconda3\\lib\\site-packages\\seaborn\\_decorators.py:36: FutureWarning: Pass the following variable as a keyword arg: x. From version 0.12, the only valid positional argument will be `data`, and passing other arguments without an explicit keyword will result in an error or misinterpretation.\n",
      "  warnings.warn(\n"
     ]
    },
    {
     "data": {
      "text/plain": [
       "<AxesSubplot:xlabel='sentiment', ylabel='count'>"
      ]
     },
     "execution_count": 55,
     "metadata": {},
     "output_type": "execute_result"
    },
    {
     "data": {
      "image/png": "[encoded data removed]",
      "text/plain": [
       "<Figure size 432x288 with 1 Axes>"
      ]
     },
     "metadata": {},
     "output_type": "display_data"
    }
   ],
   "source": [
    "sns.countplot(avg_df['sentiment'])"
   ]
  },
  {
   "cell_type": "code",
   "execution_count": null,
   "metadata": {},
   "outputs": [],
   "source": [
    "#https://medium.com/nerd-for-tech/sentiment-analysis-lexicon-models-vs-machine-learning-b6e3af8fe746\n",
    "#https://www.analyticsvidhya.com/blog/2021/04/a-guide-to-feature-engineering-in-nlp/ \n",
    "\n",
    "#https://towardsdatascience.com/fine-grained-sentiment-analysis-in-python-part-1-2697bb111ed4 \n",
    "\n",
    "##https://towardsdatascience.com/sentiment-classification-in-python-da31833da01b - this is the outline "
   ]
  },
  {
   "cell_type": "markdown",
   "metadata": {},
   "source": [
    "# Splitting the Data"
   ]
  },
  {
   "cell_type": "code",
   "execution_count": 56,
   "metadata": {},
   "outputs": [],
   "source": [
    "df['tb_sentiment'] = textblob_df['sentiment']\n",
    "df['vd_sentiment'] = vader_df['sentiment']\n",
    "df['sentiment'] = avg_df['sentiment']"
   ]
  },
  {
   "cell_type": "code",
   "execution_count": 57,
   "metadata": {},
   "outputs": [
    {
     "data": {
      "text/html": [
       "<div>\n",
       "<style scoped>\n",
       "    .dataframe tbody tr th:only-of-type {\n",
       "        vertical-align: middle;\n",
       "    }\n",
       "\n",
       "    .dataframe tbody tr th {\n",
       "        vertical-align: top;\n",
       "    }\n",
       "\n",
       "    .dataframe thead th {\n",
       "        text-align: right;\n",
       "    }\n",
       "</style>\n",
       "<table border=\"1\" class=\"dataframe\">\n",
       "  <thead>\n",
       "    <tr style=\"text-align: right;\">\n",
       "      <th></th>\n",
       "      <th>uniqueid</th>\n",
       "      <th>drugname</th>\n",
       "      <th>condition</th>\n",
       "      <th>review</th>\n",
       "      <th>rating</th>\n",
       "      <th>date</th>\n",
       "      <th>usefulcount</th>\n",
       "      <th>tb_sentiment</th>\n",
       "      <th>vd_sentiment</th>\n",
       "      <th>sentiment</th>\n",
       "    </tr>\n",
       "  </thead>\n",
       "  <tbody>\n",
       "    <tr>\n",
       "      <th>0</th>\n",
       "      <td>0</td>\n",
       "      <td>Medroxyprogesterone</td>\n",
       "      <td>Abnormal Uterine Bleeding</td>\n",
       "      <td>\"Been on the depo injection since January 2015...</td>\n",
       "      <td>3.0</td>\n",
       "      <td>October 28, 2015</td>\n",
       "      <td>4</td>\n",
       "      <td>-1</td>\n",
       "      <td>-1.0</td>\n",
       "      <td>-1.0</td>\n",
       "    </tr>\n",
       "    <tr>\n",
       "      <th>1</th>\n",
       "      <td>2</td>\n",
       "      <td>Medroxyprogesterone</td>\n",
       "      <td>Amenorrhea</td>\n",
       "      <td>\"I&amp;#039;m 21 years old and recently found out ...</td>\n",
       "      <td>10.0</td>\n",
       "      <td>October 27, 2015</td>\n",
       "      <td>11</td>\n",
       "      <td>1</td>\n",
       "      <td>1.0</td>\n",
       "      <td>1.0</td>\n",
       "    </tr>\n",
       "    <tr>\n",
       "      <th>2</th>\n",
       "      <td>3</td>\n",
       "      <td>Medroxyprogesterone</td>\n",
       "      <td>Abnormal Uterine Bleeding</td>\n",
       "      <td>\"I have been on the shot 11 years and until a ...</td>\n",
       "      <td>8.0</td>\n",
       "      <td>October 27, 2015</td>\n",
       "      <td>7</td>\n",
       "      <td>-1</td>\n",
       "      <td>-1.0</td>\n",
       "      <td>-1.0</td>\n",
       "    </tr>\n",
       "  </tbody>\n",
       "</table>\n",
       "</div>"
      ],
      "text/plain": [
       "   uniqueid             drugname                  condition  \\\n",
       "0         0  Medroxyprogesterone  Abnormal Uterine Bleeding   \n",
       "1         2  Medroxyprogesterone                 Amenorrhea   \n",
       "2         3  Medroxyprogesterone  Abnormal Uterine Bleeding   \n",
       "\n",
       "                                              review  rating  \\\n",
       "0  \"Been on the depo injection since January 2015...     3.0   \n",
       "1  \"I&#039;m 21 years old and recently found out ...    10.0   \n",
       "2  \"I have been on the shot 11 years and until a ...     8.0   \n",
       "\n",
       "               date  usefulcount tb_sentiment  vd_sentiment  sentiment  \n",
       "0  October 28, 2015            4           -1          -1.0       -1.0  \n",
       "1  October 27, 2015           11            1           1.0        1.0  \n",
       "2  October 27, 2015            7           -1          -1.0       -1.0  "
      ]
     },
     "execution_count": 57,
     "metadata": {},
     "output_type": "execute_result"
    }
   ],
   "source": [
    "df.head(3)"
   ]
  },
  {
   "cell_type": "code",
   "execution_count": 58,
   "metadata": {},
   "outputs": [],
   "source": [
    "from sklearn.model_selection import train_test_split\n",
    "train_df, test_df = train_test_split(df, test_size=0.3, random_state=1)"
   ]
  },
  {
   "cell_type": "code",
   "execution_count": 59,
   "metadata": {},
   "outputs": [
    {
     "name": "stdout",
     "output_type": "stream",
     "text": [
      "Shape of Training Set: (148888, 10)\n",
      "Shape of Test Set: (63810, 10)\n"
     ]
    }
   ],
   "source": [
    "print(\"Shape of Training Set:\", train_df.shape)\n",
    "print(\"Shape of Test Set:\", test_df.shape)"
   ]
  },
  {
   "cell_type": "markdown",
   "metadata": {},
   "source": [
    "<h3>Average</h3>"
   ]
  },
  {
   "cell_type": "code",
   "execution_count": 60,
   "metadata": {},
   "outputs": [
    {
     "name": "stderr",
     "output_type": "stream",
     "text": [
      "C:\\Users\\vanes\\anaconda3\\lib\\site-packages\\seaborn\\_decorators.py:36: FutureWarning: Pass the following variable as a keyword arg: x. From version 0.12, the only valid positional argument will be `data`, and passing other arguments without an explicit keyword will result in an error or misinterpretation.\n",
      "  warnings.warn(\n"
     ]
    },
    {
     "data": {
      "text/plain": [
       "<AxesSubplot:xlabel='sentiment', ylabel='count'>"
      ]
     },
     "execution_count": 60,
     "metadata": {},
     "output_type": "execute_result"
    },
    {
     "data": {
      "image/png": "[encoded data removed]",
      "text/plain": [
       "<Figure size 432x288 with 1 Axes>"
      ]
     },
     "metadata": {},
     "output_type": "display_data"
    }
   ],
   "source": [
    "sns.countplot(train_df['sentiment'])"
   ]
  },
  {
   "cell_type": "code",
   "execution_count": null,
   "metadata": {},
   "outputs": [],
   "source": [
    "#Section used of resapling - https://medium.com/@annabiancajones/sentiment-analysis-on-reviews-train-test-split-bootstrapping-cross-validation-word-clouds-4ae65e745f59"
   ]
  },
  {
   "cell_type": "markdown",
   "metadata": {},
   "source": [
    "# Feature Engineering (N-Grams & TF-IDF)"
   ]
  },
  {
   "cell_type": "code",
   "execution_count": 62,
   "metadata": {},
   "outputs": [],
   "source": [
    "from sklearn.feature_extraction.text import CountVectorizer"
   ]
  },
  {
   "cell_type": "markdown",
   "metadata": {},
   "source": [
    "<h3>Unigram or BOW</h3>"
   ]
  },
  {
   "cell_type": "code",
   "execution_count": 101,
   "metadata": {},
   "outputs": [
    {
     "name": "stderr",
     "output_type": "stream",
     "text": [
      "C:\\Users\\vanes\\anaconda3\\lib\\site-packages\\sklearn\\utils\\deprecation.py:87: FutureWarning: Function get_feature_names is deprecated; get_feature_names is deprecated in 1.0 and will be removed in 1.2. Please use get_feature_names_out instead.\n",
      "  warnings.warn(msg, category=FutureWarning)\n"
     ]
    }
   ],
   "source": [
    "vectorizer =CountVectorizer(analyzer='word', min_df = 0.0075)\n",
    "\n",
    "bow_corpus = vectorizer.fit_transform(df['review']).astype(np.uint8)\n",
    "\n",
    "bow_tdm = pd.DataFrame(bow_corpus.toarray(), columns=vectorizer.get_feature_names())\n",
    "bow_tdm.index= df.index"
   ]
  },
  {
   "cell_type": "code",
   "execution_count": 103,
   "metadata": {},
   "outputs": [
    {
     "data": {
      "text/html": [
       "<div>\n",
       "<style scoped>\n",
       "    .dataframe tbody tr th:only-of-type {\n",
       "        vertical-align: middle;\n",
       "    }\n",
       "\n",
       "    .dataframe tbody tr th {\n",
       "        vertical-align: top;\n",
       "    }\n",
       "\n",
       "    .dataframe thead th {\n",
       "        text-align: right;\n",
       "    }\n",
       "</style>\n",
       "<table border=\"1\" class=\"dataframe\">\n",
       "  <thead>\n",
       "    <tr style=\"text-align: right;\">\n",
       "      <th></th>\n",
       "      <th>039</th>\n",
       "      <th>10</th>\n",
       "      <th>100</th>\n",
       "      <th>100mg</th>\n",
       "      <th>10mg</th>\n",
       "      <th>11</th>\n",
       "      <th>12</th>\n",
       "      <th>13</th>\n",
       "      <th>14</th>\n",
       "      <th>15</th>\n",
       "      <th>...</th>\n",
       "      <th>years</th>\n",
       "      <th>yeast</th>\n",
       "      <th>yes</th>\n",
       "      <th>yesterday</th>\n",
       "      <th>yet</th>\n",
       "      <th>you</th>\n",
       "      <th>your</th>\n",
       "      <th>yrs</th>\n",
       "      <th>zero</th>\n",
       "      <th>zoloft</th>\n",
       "    </tr>\n",
       "  </thead>\n",
       "  <tbody>\n",
       "    <tr>\n",
       "      <th>0</th>\n",
       "      <td>5</td>\n",
       "      <td>0</td>\n",
       "      <td>0</td>\n",
       "      <td>0</td>\n",
       "      <td>0</td>\n",
       "      <td>0</td>\n",
       "      <td>0</td>\n",
       "      <td>0</td>\n",
       "      <td>0</td>\n",
       "      <td>0</td>\n",
       "      <td>...</td>\n",
       "      <td>0</td>\n",
       "      <td>0</td>\n",
       "      <td>0</td>\n",
       "      <td>0</td>\n",
       "      <td>0</td>\n",
       "      <td>0</td>\n",
       "      <td>0</td>\n",
       "      <td>0</td>\n",
       "      <td>0</td>\n",
       "      <td>0</td>\n",
       "    </tr>\n",
       "    <tr>\n",
       "      <th>1</th>\n",
       "      <td>4</td>\n",
       "      <td>1</td>\n",
       "      <td>0</td>\n",
       "      <td>0</td>\n",
       "      <td>1</td>\n",
       "      <td>0</td>\n",
       "      <td>0</td>\n",
       "      <td>0</td>\n",
       "      <td>0</td>\n",
       "      <td>0</td>\n",
       "      <td>...</td>\n",
       "      <td>1</td>\n",
       "      <td>0</td>\n",
       "      <td>0</td>\n",
       "      <td>0</td>\n",
       "      <td>0</td>\n",
       "      <td>0</td>\n",
       "      <td>0</td>\n",
       "      <td>0</td>\n",
       "      <td>0</td>\n",
       "      <td>0</td>\n",
       "    </tr>\n",
       "    <tr>\n",
       "      <th>2</th>\n",
       "      <td>0</td>\n",
       "      <td>0</td>\n",
       "      <td>0</td>\n",
       "      <td>0</td>\n",
       "      <td>0</td>\n",
       "      <td>1</td>\n",
       "      <td>0</td>\n",
       "      <td>0</td>\n",
       "      <td>0</td>\n",
       "      <td>0</td>\n",
       "      <td>...</td>\n",
       "      <td>2</td>\n",
       "      <td>0</td>\n",
       "      <td>0</td>\n",
       "      <td>0</td>\n",
       "      <td>0</td>\n",
       "      <td>0</td>\n",
       "      <td>0</td>\n",
       "      <td>0</td>\n",
       "      <td>0</td>\n",
       "      <td>0</td>\n",
       "    </tr>\n",
       "    <tr>\n",
       "      <th>3</th>\n",
       "      <td>0</td>\n",
       "      <td>0</td>\n",
       "      <td>0</td>\n",
       "      <td>0</td>\n",
       "      <td>0</td>\n",
       "      <td>0</td>\n",
       "      <td>0</td>\n",
       "      <td>0</td>\n",
       "      <td>0</td>\n",
       "      <td>0</td>\n",
       "      <td>...</td>\n",
       "      <td>1</td>\n",
       "      <td>0</td>\n",
       "      <td>0</td>\n",
       "      <td>0</td>\n",
       "      <td>0</td>\n",
       "      <td>0</td>\n",
       "      <td>0</td>\n",
       "      <td>0</td>\n",
       "      <td>0</td>\n",
       "      <td>0</td>\n",
       "    </tr>\n",
       "    <tr>\n",
       "      <th>4</th>\n",
       "      <td>1</td>\n",
       "      <td>0</td>\n",
       "      <td>0</td>\n",
       "      <td>0</td>\n",
       "      <td>0</td>\n",
       "      <td>0</td>\n",
       "      <td>0</td>\n",
       "      <td>0</td>\n",
       "      <td>0</td>\n",
       "      <td>0</td>\n",
       "      <td>...</td>\n",
       "      <td>1</td>\n",
       "      <td>0</td>\n",
       "      <td>0</td>\n",
       "      <td>0</td>\n",
       "      <td>0</td>\n",
       "      <td>0</td>\n",
       "      <td>0</td>\n",
       "      <td>0</td>\n",
       "      <td>0</td>\n",
       "      <td>0</td>\n",
       "    </tr>\n",
       "  </tbody>\n",
       "</table>\n",
       "<p>5 rows × 933 columns</p>\n",
       "</div>"
      ],
      "text/plain": [
       "   039  10  100  100mg  10mg  11  12  13  14  15  ...  years  yeast  yes  \\\n",
       "0    5   0    0      0     0   0   0   0   0   0  ...      0      0    0   \n",
       "1    4   1    0      0     1   0   0   0   0   0  ...      1      0    0   \n",
       "2    0   0    0      0     0   1   0   0   0   0  ...      2      0    0   \n",
       "3    0   0    0      0     0   0   0   0   0   0  ...      1      0    0   \n",
       "4    1   0    0      0     0   0   0   0   0   0  ...      1      0    0   \n",
       "\n",
       "   yesterday  yet  you  your  yrs  zero  zoloft  \n",
       "0          0    0    0     0    0     0       0  \n",
       "1          0    0    0     0    0     0       0  \n",
       "2          0    0    0     0    0     0       0  \n",
       "3          0    0    0     0    0     0       0  \n",
       "4          0    0    0     0    0     0       0  \n",
       "\n",
       "[5 rows x 933 columns]"
      ]
     },
     "execution_count": 103,
     "metadata": {},
     "output_type": "execute_result"
    }
   ],
   "source": [
    "bow_tdm.head(5)"
   ]
  },
  {
   "cell_type": "code",
   "execution_count": 104,
   "metadata": {},
   "outputs": [
    {
     "data": {
      "text/plain": [
       "(212698, 933)"
      ]
     },
     "execution_count": 104,
     "metadata": {},
     "output_type": "execute_result"
    }
   ],
   "source": [
    "bow_corpus.shape"
   ]
  },
  {
   "cell_type": "code",
   "execution_count": 105,
   "metadata": {},
   "outputs": [],
   "source": [
    "from wordcloud import WordCloud\n",
    "\n",
    "def wordcloud(data,title):\n",
    "    wc = WordCloud(width=600, height=530, max_words=150,colormap=\"Dark2\").generate_from_frequencies(data)\n",
    "    plt.figure(figsize=(10,8))\n",
    "    plt.imshow(wc, interpolation='bilinear')\n",
    "    plt.axis(\"off\")\n",
    "    plt.title('\\n'.join(wrap(title,60)),fontsize=13)\n",
    "    plt.show()"
   ]
  },
  {
   "cell_type": "code",
   "execution_count": 106,
   "metadata": {},
   "outputs": [
    {
     "ename": "NameError",
     "evalue": "name 'wrap' is not defined",
     "output_type": "error",
     "traceback": [
      "\u001b[1;31m---------------------------------------------------------------------------\u001b[0m",
      "\u001b[1;31mNameError\u001b[0m                                 Traceback (most recent call last)",
      "\u001b[1;32m<ipython-input-106-afc1dee40187>\u001b[0m in \u001b[0;36m<module>\u001b[1;34m\u001b[0m\n\u001b[0;32m      2\u001b[0m \u001b[1;33m\u001b[0m\u001b[0m\n\u001b[0;32m      3\u001b[0m \u001b[1;32mfor\u001b[0m \u001b[0mindex\u001b[0m\u001b[1;33m,\u001b[0m\u001b[0mproduct\u001b[0m \u001b[1;32min\u001b[0m \u001b[0menumerate\u001b[0m\u001b[1;33m(\u001b[0m\u001b[0mbow_tdm\u001b[0m\u001b[1;33m.\u001b[0m\u001b[0mcolumns\u001b[0m\u001b[1;33m)\u001b[0m\u001b[1;33m:\u001b[0m\u001b[1;33m\u001b[0m\u001b[1;33m\u001b[0m\u001b[0m\n\u001b[1;32m----> 4\u001b[1;33m     \u001b[0mwordcloud\u001b[0m\u001b[1;33m(\u001b[0m\u001b[0mbow_tdm\u001b[0m\u001b[1;33m[\u001b[0m\u001b[0mproduct\u001b[0m\u001b[1;33m]\u001b[0m\u001b[1;33m.\u001b[0m\u001b[0msort_values\u001b[0m\u001b[1;33m(\u001b[0m\u001b[0mascending\u001b[0m\u001b[1;33m=\u001b[0m\u001b[1;32mFalse\u001b[0m\u001b[1;33m)\u001b[0m\u001b[1;33m,\u001b[0m\u001b[0mproduct\u001b[0m\u001b[1;33m)\u001b[0m\u001b[1;33m\u001b[0m\u001b[1;33m\u001b[0m\u001b[0m\n\u001b[0m",
      "\u001b[1;32m<ipython-input-105-9bbb2e4b6b6f>\u001b[0m in \u001b[0;36mwordcloud\u001b[1;34m(data, title)\u001b[0m\n\u001b[0;32m      6\u001b[0m     \u001b[0mplt\u001b[0m\u001b[1;33m.\u001b[0m\u001b[0mimshow\u001b[0m\u001b[1;33m(\u001b[0m\u001b[0mwc\u001b[0m\u001b[1;33m,\u001b[0m \u001b[0minterpolation\u001b[0m\u001b[1;33m=\u001b[0m\u001b[1;34m'bilinear'\u001b[0m\u001b[1;33m)\u001b[0m\u001b[1;33m\u001b[0m\u001b[1;33m\u001b[0m\u001b[0m\n\u001b[0;32m      7\u001b[0m     \u001b[0mplt\u001b[0m\u001b[1;33m.\u001b[0m\u001b[0maxis\u001b[0m\u001b[1;33m(\u001b[0m\u001b[1;34m\"off\"\u001b[0m\u001b[1;33m)\u001b[0m\u001b[1;33m\u001b[0m\u001b[1;33m\u001b[0m\u001b[0m\n\u001b[1;32m----> 8\u001b[1;33m     \u001b[0mplt\u001b[0m\u001b[1;33m.\u001b[0m\u001b[0mtitle\u001b[0m\u001b[1;33m(\u001b[0m\u001b[1;34m'\\n'\u001b[0m\u001b[1;33m.\u001b[0m\u001b[0mjoin\u001b[0m\u001b[1;33m(\u001b[0m\u001b[0mwrap\u001b[0m\u001b[1;33m(\u001b[0m\u001b[0mtitle\u001b[0m\u001b[1;33m,\u001b[0m\u001b[1;36m60\u001b[0m\u001b[1;33m)\u001b[0m\u001b[1;33m)\u001b[0m\u001b[1;33m,\u001b[0m\u001b[0mfontsize\u001b[0m\u001b[1;33m=\u001b[0m\u001b[1;36m13\u001b[0m\u001b[1;33m)\u001b[0m\u001b[1;33m\u001b[0m\u001b[1;33m\u001b[0m\u001b[0m\n\u001b[0m\u001b[0;32m      9\u001b[0m     \u001b[0mplt\u001b[0m\u001b[1;33m.\u001b[0m\u001b[0mshow\u001b[0m\u001b[1;33m(\u001b[0m\u001b[1;33m)\u001b[0m\u001b[1;33m\u001b[0m\u001b[1;33m\u001b[0m\u001b[0m\n",
      "\u001b[1;31mNameError\u001b[0m: name 'wrap' is not defined"
     ]
    },
    {
     "data": {
      "image/png": "[encoded data removed]",
      "text/plain": [
       "<Figure size 720x576 with 1 Axes>"
      ]
     },
     "metadata": {},
     "output_type": "display_data"
    }
   ],
   "source": [
    "bow_tdm= bow_tdm.transpose()\n",
    "\n",
    "for index,product in enumerate(bow_tdm.columns):\n",
    "    wordcloud(bow_tdm[product].sort_values(ascending=False),product)"
   ]
  },
  {
   "cell_type": "code",
   "execution_count": 113,
   "metadata": {},
   "outputs": [
    {
     "data": {
      "text/html": [
       "<div>\n",
       "<style scoped>\n",
       "    .dataframe tbody tr th:only-of-type {\n",
       "        vertical-align: middle;\n",
       "    }\n",
       "\n",
       "    .dataframe tbody tr th {\n",
       "        vertical-align: top;\n",
       "    }\n",
       "\n",
       "    .dataframe thead th {\n",
       "        text-align: right;\n",
       "    }\n",
       "</style>\n",
       "<table border=\"1\" class=\"dataframe\">\n",
       "  <thead>\n",
       "    <tr style=\"text-align: right;\">\n",
       "      <th></th>\n",
       "      <th>0</th>\n",
       "      <th>1</th>\n",
       "      <th>2</th>\n",
       "      <th>3</th>\n",
       "      <th>4</th>\n",
       "      <th>5</th>\n",
       "      <th>6</th>\n",
       "      <th>7</th>\n",
       "      <th>8</th>\n",
       "      <th>9</th>\n",
       "      <th>...</th>\n",
       "      <th>213859</th>\n",
       "      <th>213860</th>\n",
       "      <th>213861</th>\n",
       "      <th>213862</th>\n",
       "      <th>213863</th>\n",
       "      <th>213864</th>\n",
       "      <th>213865</th>\n",
       "      <th>213866</th>\n",
       "      <th>213867</th>\n",
       "      <th>213868</th>\n",
       "    </tr>\n",
       "  </thead>\n",
       "  <tbody>\n",
       "    <tr>\n",
       "      <th>039</th>\n",
       "      <td>5</td>\n",
       "      <td>4</td>\n",
       "      <td>0</td>\n",
       "      <td>0</td>\n",
       "      <td>1</td>\n",
       "      <td>2</td>\n",
       "      <td>5</td>\n",
       "      <td>2</td>\n",
       "      <td>5</td>\n",
       "      <td>7</td>\n",
       "      <td>...</td>\n",
       "      <td>0</td>\n",
       "      <td>2</td>\n",
       "      <td>3</td>\n",
       "      <td>4</td>\n",
       "      <td>4</td>\n",
       "      <td>1</td>\n",
       "      <td>0</td>\n",
       "      <td>0</td>\n",
       "      <td>3</td>\n",
       "      <td>0</td>\n",
       "    </tr>\n",
       "    <tr>\n",
       "      <th>10</th>\n",
       "      <td>0</td>\n",
       "      <td>1</td>\n",
       "      <td>0</td>\n",
       "      <td>0</td>\n",
       "      <td>0</td>\n",
       "      <td>0</td>\n",
       "      <td>0</td>\n",
       "      <td>0</td>\n",
       "      <td>0</td>\n",
       "      <td>0</td>\n",
       "      <td>...</td>\n",
       "      <td>0</td>\n",
       "      <td>0</td>\n",
       "      <td>0</td>\n",
       "      <td>1</td>\n",
       "      <td>0</td>\n",
       "      <td>0</td>\n",
       "      <td>0</td>\n",
       "      <td>0</td>\n",
       "      <td>0</td>\n",
       "      <td>0</td>\n",
       "    </tr>\n",
       "    <tr>\n",
       "      <th>100</th>\n",
       "      <td>0</td>\n",
       "      <td>0</td>\n",
       "      <td>0</td>\n",
       "      <td>0</td>\n",
       "      <td>0</td>\n",
       "      <td>0</td>\n",
       "      <td>0</td>\n",
       "      <td>0</td>\n",
       "      <td>0</td>\n",
       "      <td>0</td>\n",
       "      <td>...</td>\n",
       "      <td>0</td>\n",
       "      <td>0</td>\n",
       "      <td>0</td>\n",
       "      <td>0</td>\n",
       "      <td>0</td>\n",
       "      <td>0</td>\n",
       "      <td>0</td>\n",
       "      <td>0</td>\n",
       "      <td>0</td>\n",
       "      <td>0</td>\n",
       "    </tr>\n",
       "  </tbody>\n",
       "</table>\n",
       "<p>3 rows × 212698 columns</p>\n",
       "</div>"
      ],
      "text/plain": [
       "     0       1       2       3       4       5       6       7       8       \\\n",
       "039       5       4       0       0       1       2       5       2       5   \n",
       "10        0       1       0       0       0       0       0       0       0   \n",
       "100       0       0       0       0       0       0       0       0       0   \n",
       "\n",
       "     9       ...  213859  213860  213861  213862  213863  213864  213865  \\\n",
       "039       7  ...       0       2       3       4       4       1       0   \n",
       "10        0  ...       0       0       0       1       0       0       0   \n",
       "100       0  ...       0       0       0       0       0       0       0   \n",
       "\n",
       "     213866  213867  213868  \n",
       "039       0       3       0  \n",
       "10        0       0       0  \n",
       "100       0       0       0  \n",
       "\n",
       "[3 rows x 212698 columns]"
      ]
     },
     "execution_count": 113,
     "metadata": {},
     "output_type": "execute_result"
    }
   ],
   "source": [
    "bow_tdm.head(3)"
   ]
  },
  {
   "cell_type": "markdown",
   "metadata": {},
   "source": [
    "<h3>TF_IDF</h3>"
   ]
  },
  {
   "cell_type": "code",
   "execution_count": 215,
   "metadata": {},
   "outputs": [],
   "source": [
    "from sklearn.feature_extraction.text import TfidfVectorizer\n",
    "tfidf_vectorizer = TfidfVectorizer(min_df = 0.0075) #was running into memory issues so min_df = 0.01 means ignoring terms that appear in less than 1% of the document\n",
    "tfidf_corpus = tfidf_vectorizer.fit_transform(df['review_clean'])"
   ]
  },
  {
   "cell_type": "code",
   "execution_count": 216,
   "metadata": {},
   "outputs": [
    {
     "data": {
      "text/plain": [
       "(212698, 788)"
      ]
     },
     "execution_count": 216,
     "metadata": {},
     "output_type": "execute_result"
    }
   ],
   "source": [
    "tfidf_corpus.shape"
   ]
  },
  {
   "cell_type": "code",
   "execution_count": 217,
   "metadata": {},
   "outputs": [],
   "source": [
    "tfidf_tdm = pd.DataFrame(tfidf_corpus.toarray(), columns=tfidf_vectorizer.get_feature_names())\n",
    "tfidf_tdm.index= df.index"
   ]
  },
  {
   "cell_type": "code",
   "execution_count": 218,
   "metadata": {},
   "outputs": [
    {
     "data": {
      "text/html": [
       "<div>\n",
       "<style scoped>\n",
       "    .dataframe tbody tr th:only-of-type {\n",
       "        vertical-align: middle;\n",
       "    }\n",
       "\n",
       "    .dataframe tbody tr th {\n",
       "        vertical-align: top;\n",
       "    }\n",
       "\n",
       "    .dataframe thead th {\n",
       "        text-align: right;\n",
       "    }\n",
       "</style>\n",
       "<table border=\"1\" class=\"dataframe\">\n",
       "  <thead>\n",
       "    <tr style=\"text-align: right;\">\n",
       "      <th></th>\n",
       "      <th>able</th>\n",
       "      <th>absolutely</th>\n",
       "      <th>ache</th>\n",
       "      <th>acne</th>\n",
       "      <th>active</th>\n",
       "      <th>actually</th>\n",
       "      <th>add</th>\n",
       "      <th>added</th>\n",
       "      <th>adhd</th>\n",
       "      <th>affect</th>\n",
       "      <th>...</th>\n",
       "      <th>xanax</th>\n",
       "      <th>year</th>\n",
       "      <th>yeast</th>\n",
       "      <th>yes</th>\n",
       "      <th>yesterday</th>\n",
       "      <th>yet</th>\n",
       "      <th>youre</th>\n",
       "      <th>yr</th>\n",
       "      <th>zero</th>\n",
       "      <th>zoloft</th>\n",
       "    </tr>\n",
       "  </thead>\n",
       "  <tbody>\n",
       "    <tr>\n",
       "      <th>0</th>\n",
       "      <td>0.0</td>\n",
       "      <td>0.0</td>\n",
       "      <td>0.0</td>\n",
       "      <td>0.0</td>\n",
       "      <td>0.0</td>\n",
       "      <td>0.000000</td>\n",
       "      <td>0.0</td>\n",
       "      <td>0.0</td>\n",
       "      <td>0.0</td>\n",
       "      <td>0.0</td>\n",
       "      <td>...</td>\n",
       "      <td>0.0</td>\n",
       "      <td>0.000000</td>\n",
       "      <td>0.0</td>\n",
       "      <td>0.0</td>\n",
       "      <td>0.0</td>\n",
       "      <td>0.0</td>\n",
       "      <td>0.0</td>\n",
       "      <td>0.0</td>\n",
       "      <td>0.0</td>\n",
       "      <td>0.0</td>\n",
       "    </tr>\n",
       "    <tr>\n",
       "      <th>1</th>\n",
       "      <td>0.0</td>\n",
       "      <td>0.0</td>\n",
       "      <td>0.0</td>\n",
       "      <td>0.0</td>\n",
       "      <td>0.0</td>\n",
       "      <td>0.143155</td>\n",
       "      <td>0.0</td>\n",
       "      <td>0.0</td>\n",
       "      <td>0.0</td>\n",
       "      <td>0.0</td>\n",
       "      <td>...</td>\n",
       "      <td>0.0</td>\n",
       "      <td>0.073205</td>\n",
       "      <td>0.0</td>\n",
       "      <td>0.0</td>\n",
       "      <td>0.0</td>\n",
       "      <td>0.0</td>\n",
       "      <td>0.0</td>\n",
       "      <td>0.0</td>\n",
       "      <td>0.0</td>\n",
       "      <td>0.0</td>\n",
       "    </tr>\n",
       "    <tr>\n",
       "      <th>2</th>\n",
       "      <td>0.0</td>\n",
       "      <td>0.0</td>\n",
       "      <td>0.0</td>\n",
       "      <td>0.0</td>\n",
       "      <td>0.0</td>\n",
       "      <td>0.000000</td>\n",
       "      <td>0.0</td>\n",
       "      <td>0.0</td>\n",
       "      <td>0.0</td>\n",
       "      <td>0.0</td>\n",
       "      <td>...</td>\n",
       "      <td>0.0</td>\n",
       "      <td>0.225690</td>\n",
       "      <td>0.0</td>\n",
       "      <td>0.0</td>\n",
       "      <td>0.0</td>\n",
       "      <td>0.0</td>\n",
       "      <td>0.0</td>\n",
       "      <td>0.0</td>\n",
       "      <td>0.0</td>\n",
       "      <td>0.0</td>\n",
       "    </tr>\n",
       "    <tr>\n",
       "      <th>3</th>\n",
       "      <td>0.0</td>\n",
       "      <td>0.0</td>\n",
       "      <td>0.0</td>\n",
       "      <td>0.0</td>\n",
       "      <td>0.0</td>\n",
       "      <td>0.000000</td>\n",
       "      <td>0.0</td>\n",
       "      <td>0.0</td>\n",
       "      <td>0.0</td>\n",
       "      <td>0.0</td>\n",
       "      <td>...</td>\n",
       "      <td>0.0</td>\n",
       "      <td>0.062327</td>\n",
       "      <td>0.0</td>\n",
       "      <td>0.0</td>\n",
       "      <td>0.0</td>\n",
       "      <td>0.0</td>\n",
       "      <td>0.0</td>\n",
       "      <td>0.0</td>\n",
       "      <td>0.0</td>\n",
       "      <td>0.0</td>\n",
       "    </tr>\n",
       "    <tr>\n",
       "      <th>4</th>\n",
       "      <td>0.0</td>\n",
       "      <td>0.0</td>\n",
       "      <td>0.0</td>\n",
       "      <td>0.0</td>\n",
       "      <td>0.0</td>\n",
       "      <td>0.000000</td>\n",
       "      <td>0.0</td>\n",
       "      <td>0.0</td>\n",
       "      <td>0.0</td>\n",
       "      <td>0.0</td>\n",
       "      <td>...</td>\n",
       "      <td>0.0</td>\n",
       "      <td>0.076676</td>\n",
       "      <td>0.0</td>\n",
       "      <td>0.0</td>\n",
       "      <td>0.0</td>\n",
       "      <td>0.0</td>\n",
       "      <td>0.0</td>\n",
       "      <td>0.0</td>\n",
       "      <td>0.0</td>\n",
       "      <td>0.0</td>\n",
       "    </tr>\n",
       "  </tbody>\n",
       "</table>\n",
       "<p>5 rows × 788 columns</p>\n",
       "</div>"
      ],
      "text/plain": [
       "   able  absolutely  ache  acne  active  actually  add  added  adhd  affect  \\\n",
       "0   0.0         0.0   0.0   0.0     0.0  0.000000  0.0    0.0   0.0     0.0   \n",
       "1   0.0         0.0   0.0   0.0     0.0  0.143155  0.0    0.0   0.0     0.0   \n",
       "2   0.0         0.0   0.0   0.0     0.0  0.000000  0.0    0.0   0.0     0.0   \n",
       "3   0.0         0.0   0.0   0.0     0.0  0.000000  0.0    0.0   0.0     0.0   \n",
       "4   0.0         0.0   0.0   0.0     0.0  0.000000  0.0    0.0   0.0     0.0   \n",
       "\n",
       "   ...  xanax      year  yeast  yes  yesterday  yet  youre   yr  zero  zoloft  \n",
       "0  ...    0.0  0.000000    0.0  0.0        0.0  0.0    0.0  0.0   0.0     0.0  \n",
       "1  ...    0.0  0.073205    0.0  0.0        0.0  0.0    0.0  0.0   0.0     0.0  \n",
       "2  ...    0.0  0.225690    0.0  0.0        0.0  0.0    0.0  0.0   0.0     0.0  \n",
       "3  ...    0.0  0.062327    0.0  0.0        0.0  0.0    0.0  0.0   0.0     0.0  \n",
       "4  ...    0.0  0.076676    0.0  0.0        0.0  0.0    0.0  0.0   0.0     0.0  \n",
       "\n",
       "[5 rows x 788 columns]"
      ]
     },
     "execution_count": 218,
     "metadata": {},
     "output_type": "execute_result"
    }
   ],
   "source": [
    "tfidf_tdm.head(5)"
   ]
  },
  {
   "cell_type": "code",
   "execution_count": 219,
   "metadata": {},
   "outputs": [
    {
     "ename": "NameError",
     "evalue": "name 'wrap' is not defined",
     "output_type": "error",
     "traceback": [
      "\u001b[1;31m---------------------------------------------------------------------------\u001b[0m",
      "\u001b[1;31mNameError\u001b[0m                                 Traceback (most recent call last)",
      "\u001b[1;32m<ipython-input-219-fe0b18e573c0>\u001b[0m in \u001b[0;36m<module>\u001b[1;34m\u001b[0m\n\u001b[0;32m      2\u001b[0m \u001b[1;33m\u001b[0m\u001b[0m\n\u001b[0;32m      3\u001b[0m \u001b[1;32mfor\u001b[0m \u001b[0mindex\u001b[0m\u001b[1;33m,\u001b[0m\u001b[0mproduct\u001b[0m \u001b[1;32min\u001b[0m \u001b[0menumerate\u001b[0m\u001b[1;33m(\u001b[0m\u001b[0mtfidf_tdm\u001b[0m\u001b[1;33m.\u001b[0m\u001b[0mcolumns\u001b[0m\u001b[1;33m)\u001b[0m\u001b[1;33m:\u001b[0m\u001b[1;33m\u001b[0m\u001b[1;33m\u001b[0m\u001b[0m\n\u001b[1;32m----> 4\u001b[1;33m     \u001b[0mwordcloud\u001b[0m\u001b[1;33m(\u001b[0m\u001b[0mtfidf_tdm\u001b[0m\u001b[1;33m[\u001b[0m\u001b[0mproduct\u001b[0m\u001b[1;33m]\u001b[0m\u001b[1;33m.\u001b[0m\u001b[0msort_values\u001b[0m\u001b[1;33m(\u001b[0m\u001b[0mascending\u001b[0m\u001b[1;33m=\u001b[0m\u001b[1;32mFalse\u001b[0m\u001b[1;33m)\u001b[0m\u001b[1;33m,\u001b[0m\u001b[0mproduct\u001b[0m\u001b[1;33m)\u001b[0m\u001b[1;33m\u001b[0m\u001b[1;33m\u001b[0m\u001b[0m\n\u001b[0m",
      "\u001b[1;32m<ipython-input-166-9bbb2e4b6b6f>\u001b[0m in \u001b[0;36mwordcloud\u001b[1;34m(data, title)\u001b[0m\n\u001b[0;32m      6\u001b[0m     \u001b[0mplt\u001b[0m\u001b[1;33m.\u001b[0m\u001b[0mimshow\u001b[0m\u001b[1;33m(\u001b[0m\u001b[0mwc\u001b[0m\u001b[1;33m,\u001b[0m \u001b[0minterpolation\u001b[0m\u001b[1;33m=\u001b[0m\u001b[1;34m'bilinear'\u001b[0m\u001b[1;33m)\u001b[0m\u001b[1;33m\u001b[0m\u001b[1;33m\u001b[0m\u001b[0m\n\u001b[0;32m      7\u001b[0m     \u001b[0mplt\u001b[0m\u001b[1;33m.\u001b[0m\u001b[0maxis\u001b[0m\u001b[1;33m(\u001b[0m\u001b[1;34m\"off\"\u001b[0m\u001b[1;33m)\u001b[0m\u001b[1;33m\u001b[0m\u001b[1;33m\u001b[0m\u001b[0m\n\u001b[1;32m----> 8\u001b[1;33m     \u001b[0mplt\u001b[0m\u001b[1;33m.\u001b[0m\u001b[0mtitle\u001b[0m\u001b[1;33m(\u001b[0m\u001b[1;34m'\\n'\u001b[0m\u001b[1;33m.\u001b[0m\u001b[0mjoin\u001b[0m\u001b[1;33m(\u001b[0m\u001b[0mwrap\u001b[0m\u001b[1;33m(\u001b[0m\u001b[0mtitle\u001b[0m\u001b[1;33m,\u001b[0m\u001b[1;36m60\u001b[0m\u001b[1;33m)\u001b[0m\u001b[1;33m)\u001b[0m\u001b[1;33m,\u001b[0m\u001b[0mfontsize\u001b[0m\u001b[1;33m=\u001b[0m\u001b[1;36m13\u001b[0m\u001b[1;33m)\u001b[0m\u001b[1;33m\u001b[0m\u001b[1;33m\u001b[0m\u001b[0m\n\u001b[0m\u001b[0;32m      9\u001b[0m     \u001b[0mplt\u001b[0m\u001b[1;33m.\u001b[0m\u001b[0mshow\u001b[0m\u001b[1;33m(\u001b[0m\u001b[1;33m)\u001b[0m\u001b[1;33m\u001b[0m\u001b[1;33m\u001b[0m\u001b[0m\n",
      "\u001b[1;31mNameError\u001b[0m: name 'wrap' is not defined"
     ]
    },
    {
     "data": {
      "image/png": "[encoded data removed]",
      "text/plain": [
       "<Figure size 720x576 with 1 Axes>"
      ]
     },
     "metadata": {},
     "output_type": "display_data"
    }
   ],
   "source": [
    "#Displaying the relevent words within the document \n",
    "tfidf_tdm= tfidf_tdm.transpose()\n",
    "\n",
    "for index,product in enumerate(tfidf_tdm.columns):\n",
    "    wordcloud(tfidf_tdm[product].sort_values(ascending=False),product)"
   ]
  },
  {
   "cell_type": "markdown",
   "metadata": {},
   "source": [
    "# Count Vectorizing NB Model"
   ]
  },
  {
   "cell_type": "code",
   "execution_count": 66,
   "metadata": {},
   "outputs": [],
   "source": [
    "v = CountVectorizer(analyzer='word')"
   ]
  },
  {
   "cell_type": "code",
   "execution_count": 68,
   "metadata": {},
   "outputs": [
    {
     "data": {
      "text/plain": [
       "(212698, 53386)"
      ]
     },
     "execution_count": 68,
     "metadata": {},
     "output_type": "execute_result"
    }
   ],
   "source": [
    "reviews_corpus = v.fit_transform(df.review)\n",
    "reviews_corpus.shape"
   ]
  },
  {
   "cell_type": "code",
   "execution_count": 69,
   "metadata": {},
   "outputs": [
    {
     "data": {
      "text/plain": [
       "(212698,)"
      ]
     },
     "execution_count": 69,
     "metadata": {},
     "output_type": "execute_result"
    }
   ],
   "source": [
    "sentiment = df['sentiment']\n",
    "sentiment.shape"
   ]
  },
  {
   "cell_type": "code",
   "execution_count": 70,
   "metadata": {},
   "outputs": [
    {
     "name": "stdout",
     "output_type": "stream",
     "text": [
      "Train data shape  (138253, 53386) (138253,)\n",
      "Test data shape  (74445, 53386) (74445,)\n"
     ]
    }
   ],
   "source": [
    "from sklearn.model_selection import train_test_split\n",
    "X_train,X_test,Y_train,Y_test = train_test_split(reviews_corpus,sentiment,test_size=0.30,random_state=42)\n",
    "\n",
    "print('Train data shape ',X_train.shape,Y_train.shape)\n",
    "print('Test data shape ',X_test.shape,Y_test.shape)"
   ]
  },
  {
   "cell_type": "code",
   "execution_count": 72,
   "metadata": {},
   "outputs": [],
   "source": [
    "from sklearn.naive_bayes import MultinomialNB #import MultinomialNB\n",
    "from sklearn.metrics import confusion_matrix #import confusion_matrix"
   ]
  },
  {
   "cell_type": "code",
   "execution_count": 73,
   "metadata": {},
   "outputs": [
    {
     "name": "stdout",
     "output_type": "stream",
     "text": [
      "Accuracy: 0.750715293169454\n",
      "Confusion Matrix\n",
      "[[27763   397  8409]\n",
      " [    1    14     2]\n",
      " [ 9232   517 28110]]\n"
     ]
    }
   ],
   "source": [
    "clf = MultinomialNB().fit(X_train, Y_train) #fit the training data\n",
    "\n",
    "pred = clf.predict(X_test) #predict the sentiment for test data\n",
    "\n",
    "print(\"Accuracy: %s\" % str(clf.score(X_test, Y_test))) #check accuracy\n",
    "print(\"Confusion Matrix\") \n",
    "print(confusion_matrix(pred, Y_test)) #print confusion matrix"
   ]
  },
  {
   "cell_type": "code",
   "execution_count": 75,
   "metadata": {},
   "outputs": [
    {
     "name": "stdout",
     "output_type": "stream",
     "text": [
      "              precision    recall  f1-score   support\n",
      "\n",
      "        -1.0       0.76      0.75      0.75     36996\n",
      "         0.0       0.82      0.02      0.03       928\n",
      "         1.0       0.74      0.77      0.76     36521\n",
      "\n",
      "    accuracy                           0.75     74445\n",
      "   macro avg       0.78      0.51      0.51     74445\n",
      "weighted avg       0.75      0.75      0.75     74445\n",
      "\n"
     ]
    }
   ],
   "source": [
    "from sklearn.metrics import classification_report\n",
    "from sklearn import metrics\n",
    "print(classification_report(Y_test, pred))"
   ]
  },
  {
   "cell_type": "code",
   "execution_count": null,
   "metadata": {},
   "outputs": [],
   "source": [
    "#Bigram "
   ]
  },
  {
   "cell_type": "code",
   "execution_count": 88,
   "metadata": {},
   "outputs": [],
   "source": [
    "v = CountVectorizer(ngram_range = (2, 2), min_df = 0.00075)\n",
    "bigram_corpus = v.fit_transform(df['review']).astype(np.uint8)"
   ]
  },
  {
   "cell_type": "code",
   "execution_count": 89,
   "metadata": {},
   "outputs": [
    {
     "data": {
      "text/plain": [
       "(212698, 12774)"
      ]
     },
     "execution_count": 89,
     "metadata": {},
     "output_type": "execute_result"
    }
   ],
   "source": [
    "bigram_corpus.shape"
   ]
  },
  {
   "cell_type": "code",
   "execution_count": 90,
   "metadata": {},
   "outputs": [
    {
     "data": {
      "text/plain": [
       "(212698,)"
      ]
     },
     "execution_count": 90,
     "metadata": {},
     "output_type": "execute_result"
    }
   ],
   "source": [
    "sentiment = df['sentiment']\n",
    "sentiment.shape"
   ]
  },
  {
   "cell_type": "code",
   "execution_count": 91,
   "metadata": {},
   "outputs": [
    {
     "name": "stdout",
     "output_type": "stream",
     "text": [
      "Train data shape  (138253, 12774) (138253,)\n",
      "Test data shape  (74445, 12774) (74445,)\n"
     ]
    }
   ],
   "source": [
    "from sklearn.model_selection import train_test_split\n",
    "X_train,X_test,Y_train,Y_test = train_test_split(bigram_corpus,sentiment,test_size=0.30,random_state=42)\n",
    "\n",
    "print('Train data shape ',X_train.shape,Y_train.shape)\n",
    "print('Test data shape ',X_test.shape,Y_test.shape)"
   ]
  },
  {
   "cell_type": "code",
   "execution_count": 92,
   "metadata": {},
   "outputs": [
    {
     "name": "stdout",
     "output_type": "stream",
     "text": [
      "Accuracy: 0.7235274363624152\n",
      "Confusion Matrix\n",
      "[[26666   391  9165]\n",
      " [  353   205   364]\n",
      " [ 9977   332 26992]]\n"
     ]
    }
   ],
   "source": [
    "clf = MultinomialNB().fit(X_train, Y_train) #fit the training data\n",
    "\n",
    "pred = clf.predict(X_test) #predict the sentiment for test data\n",
    "\n",
    "print(\"Accuracy: %s\" % str(clf.score(X_test, Y_test))) #check accuracy\n",
    "print(\"Confusion Matrix\") \n",
    "print(confusion_matrix(pred, Y_test)) #print confusion matrix"
   ]
  },
  {
   "cell_type": "code",
   "execution_count": 93,
   "metadata": {},
   "outputs": [
    {
     "name": "stdout",
     "output_type": "stream",
     "text": [
      "              precision    recall  f1-score   support\n",
      "\n",
      "        -1.0       0.74      0.72      0.73     36996\n",
      "         0.0       0.22      0.22      0.22       928\n",
      "         1.0       0.72      0.74      0.73     36521\n",
      "\n",
      "    accuracy                           0.72     74445\n",
      "   macro avg       0.56      0.56      0.56     74445\n",
      "weighted avg       0.72      0.72      0.72     74445\n",
      "\n"
     ]
    }
   ],
   "source": [
    "print(classification_report(Y_test, pred))"
   ]
  },
  {
   "cell_type": "markdown",
   "metadata": {},
   "source": [
    "# TF_IDF NB Model"
   ]
  },
  {
   "cell_type": "code",
   "execution_count": 94,
   "metadata": {},
   "outputs": [],
   "source": [
    "#from sklearn.feature_extraction.text import TfidfVectorizer\n",
    "#from nltk.corpus import words\n",
    "\n",
    "from sklearn.feature_extraction.text import TfidfVectorizer\n",
    "v = TfidfVectorizer(min_df = 0.00075)\n",
    "x = v.fit_transform(df['review'])"
   ]
  },
  {
   "cell_type": "code",
   "execution_count": 95,
   "metadata": {},
   "outputs": [
    {
     "data": {
      "text/plain": [
       "(212698, 53386)"
      ]
     },
     "execution_count": 95,
     "metadata": {},
     "output_type": "execute_result"
    }
   ],
   "source": [
    "vectorizer = TfidfVectorizer()\n",
    "reviews_corpus = vectorizer.fit_transform(df.review)\n",
    "reviews_corpus.shape"
   ]
  },
  {
   "cell_type": "code",
   "execution_count": 96,
   "metadata": {},
   "outputs": [
    {
     "data": {
      "text/plain": [
       "(212698,)"
      ]
     },
     "execution_count": 96,
     "metadata": {},
     "output_type": "execute_result"
    }
   ],
   "source": [
    "sentiment = df['sentiment']\n",
    "sentiment.shape"
   ]
  },
  {
   "cell_type": "code",
   "execution_count": 97,
   "metadata": {},
   "outputs": [
    {
     "name": "stdout",
     "output_type": "stream",
     "text": [
      "Train data shape  (142507, 53386) (142507,)\n",
      "Test data shape  (70191, 53386) (70191,)\n"
     ]
    }
   ],
   "source": [
    "from sklearn.model_selection import train_test_split\n",
    "X_train,X_test,Y_train,Y_test = train_test_split(reviews_corpus,sentiment,test_size=0.30,random_state=42)\n",
    "\n",
    "print('Train data shape ',X_train.shape,Y_train.shape)\n",
    "print('Test data shape ',X_test.shape,Y_test.shape)"
   ]
  },
  {
   "cell_type": "code",
   "execution_count": 98,
   "metadata": {},
   "outputs": [],
   "source": [
    "from sklearn.naive_bayes import MultinomialNB #import MultinomialNB\n",
    "from sklearn.metrics import confusion_matrix #import confusion_matrix"
   ]
  },
  {
   "cell_type": "code",
   "execution_count": 99,
   "metadata": {},
   "outputs": [
    {
     "name": "stdout",
     "output_type": "stream",
     "text": [
      "Accuracy: 0.7512501602769586\n",
      "Confusion Matrix\n",
      "[[27231   412  8973]\n",
      " [    0     0     0]\n",
      " [ 7614   461 25500]]\n"
     ]
    }
   ],
   "source": [
    "clf = MultinomialNB().fit(X_train, Y_train) #fit the training data\n",
    "\n",
    "pred = clf.predict(X_test) #predict the sentiment for test data\n",
    "\n",
    "print(\"Accuracy: %s\" % str(clf.score(X_test, Y_test))) #check accuracy\n",
    "print(\"Confusion Matrix\") \n",
    "print(confusion_matrix(pred, Y_test)) #print confusion matrix"
   ]
  },
  {
   "cell_type": "code",
   "execution_count": 100,
   "metadata": {},
   "outputs": [
    {
     "name": "stdout",
     "output_type": "stream",
     "text": [
      "              precision    recall  f1-score   support\n",
      "\n",
      "        -1.0       0.74      0.78      0.76     34845\n",
      "         0.0       0.00      0.00      0.00       873\n",
      "         1.0       0.76      0.74      0.75     34473\n",
      "\n",
      "    accuracy                           0.75     70191\n",
      "   macro avg       0.50      0.51      0.50     70191\n",
      "weighted avg       0.74      0.75      0.75     70191\n",
      "\n"
     ]
    },
    {
     "name": "stderr",
     "output_type": "stream",
     "text": [
      "C:\\Users\\vanes\\anaconda3\\lib\\site-packages\\sklearn\\metrics\\_classification.py:1318: UndefinedMetricWarning: Precision and F-score are ill-defined and being set to 0.0 in labels with no predicted samples. Use `zero_division` parameter to control this behavior.\n",
      "  _warn_prf(average, modifier, msg_start, len(result))\n",
      "C:\\Users\\vanes\\anaconda3\\lib\\site-packages\\sklearn\\metrics\\_classification.py:1318: UndefinedMetricWarning: Precision and F-score are ill-defined and being set to 0.0 in labels with no predicted samples. Use `zero_division` parameter to control this behavior.\n",
      "  _warn_prf(average, modifier, msg_start, len(result))\n",
      "C:\\Users\\vanes\\anaconda3\\lib\\site-packages\\sklearn\\metrics\\_classification.py:1318: UndefinedMetricWarning: Precision and F-score are ill-defined and being set to 0.0 in labels with no predicted samples. Use `zero_division` parameter to control this behavior.\n",
      "  _warn_prf(average, modifier, msg_start, len(result))\n"
     ]
    }
   ],
   "source": [
    "print(classification_report(Y_test, pred))"
   ]
  }
 ],
 "metadata": {
  "kernelspec": {
   "display_name": "Python 3",
   "language": "python",
   "name": "python3"
  },
  "language_info": {
   "codemirror_mode": {
    "name": "ipython",
    "version": 3
   },
   "file_extension": ".py",
   "mimetype": "text/x-python",
   "name": "python",
   "nbconvert_exporter": "python",
   "pygments_lexer": "ipython3",
   "version": "3.8.8"
  }
 },
 "nbformat": 4,
 "nbformat_minor": 4
}
